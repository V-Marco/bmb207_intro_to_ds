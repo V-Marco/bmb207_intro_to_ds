{
 "cells": [
  {
   "cell_type": "code",
   "execution_count": 2,
   "id": "f8ede05e",
   "metadata": {},
   "outputs": [],
   "source": [
    "import numpy as np"
   ]
  },
  {
   "cell_type": "code",
   "execution_count": 4,
   "id": "e52a3c70",
   "metadata": {},
   "outputs": [
    {
     "data": {
      "text/plain": [
       "0.6570104626734988"
      ]
     },
     "execution_count": 4,
     "metadata": {},
     "output_type": "execute_result"
    }
   ],
   "source": [
    "# 3\n",
    "1 / (1 + np.exp(-(0.00 - 0.01 * 15 + 0.2 * 4)))"
   ]
  },
  {
   "cell_type": "markdown",
   "id": "16396693",
   "metadata": {},
   "source": [
    "# b1"
   ]
  },
  {
   "cell_type": "markdown",
   "id": "1850c6e3",
   "metadata": {},
   "source": [
    "Винни-Пух в течение 150 дней фиксировал изменения количества пчёл в улье. Он уверен, что полученные наблюдения являются выборкой независимых одинаково распределённых нормальных случайных величин. Оказалось, что среднее количество пчёл равно 25000, а выборочная дисперсия равна 1300. Постройте 95%-ый доверительный интервал для математического ожидания количества пчёл в улье и выпишите в ответ его нижнюю границу, округлённую до сотых."
   ]
  },
  {
   "cell_type": "code",
   "execution_count": 5,
   "id": "e0c497d8",
   "metadata": {},
   "outputs": [
    {
     "data": {
      "text/plain": [
       "24994.229916234"
      ]
     },
     "execution_count": 5,
     "metadata": {},
     "output_type": "execute_result"
    }
   ],
   "source": [
    "25000 - 1.96 * np.sqrt(1300 / 150)"
   ]
  },
  {
   "cell_type": "markdown",
   "id": "ebd812ad",
   "metadata": {},
   "source": [
    "# b2"
   ]
  },
  {
   "cell_type": "code",
   "execution_count": 3,
   "id": "81ef66ee",
   "metadata": {},
   "outputs": [],
   "source": [
    "x = [103.01, 101.99, 105.21, 106.80, 112.70, 106.13, 110.48, 109.26, 100.44, 100.28]\n",
    "y = [107.38, 106.31, 106.00, 105.27, 105.27, 104.66, 103.70, 105.07, 105.12, 104.74]"
   ]
  },
  {
   "cell_type": "code",
   "execution_count": 9,
   "id": "7c2963ad",
   "metadata": {},
   "outputs": [
    {
     "name": "stdout",
     "output_type": "stream",
     "text": [
      "Collecting stats\n",
      "  Downloading stats-0.1.2a.tar.gz (127 kB)\n",
      "\u001b[K     |████████████████████████████████| 127 kB 919 kB/s eta 0:00:01\n",
      "\u001b[?25hBuilding wheels for collected packages: stats\n",
      "  Building wheel for stats (setup.py) ... \u001b[?25ldone\n",
      "\u001b[?25h  Created wheel for stats: filename=stats-0.1.2a0-py3-none-any.whl size=24299 sha256=f075ac32ccb7949040bd0a98ec32ecf1ad60dc1e6163c7e69ff15789db1113a2\n",
      "  Stored in directory: /Users/vladimiromelyusik/Library/Caches/pip/wheels/64/d6/01/2701e2703a6fbd73f8b994044b8bf1b154cc7808bd1b88df49\n",
      "Successfully built stats\n",
      "Installing collected packages: stats\n",
      "Successfully installed stats-0.1.2a0\n"
     ]
    }
   ],
   "source": [
    "!pip install stats"
   ]
  },
  {
   "cell_type": "code",
   "execution_count": 4,
   "id": "20b60eb8",
   "metadata": {},
   "outputs": [
    {
     "data": {
      "text/plain": [
       "0.21115699454515027"
      ]
     },
     "execution_count": 4,
     "metadata": {},
     "output_type": "execute_result"
    }
   ],
   "source": [
    "# Тут была правильная формула, но неправильно стояли скобки в числителе\n",
    "# В итоге, H0 не отвергается\n",
    "\n",
    "(np.mean(x) - np.mean(y)) / (np.sqrt(np.var(x) / len(x) + np.var(y) / len(y)))"
   ]
  },
  {
   "cell_type": "code",
   "execution_count": 13,
   "id": "ab4fd541",
   "metadata": {},
   "outputs": [],
   "source": [
    "import matplotlib.pyplot as plt"
   ]
  },
  {
   "cell_type": "code",
   "execution_count": 15,
   "id": "cca9edd1",
   "metadata": {},
   "outputs": [
    {
     "data": {
      "text/plain": [
       "(array([1., 0., 0., 0., 0., 0., 0., 0., 0., 0., 0., 0., 0., 0., 0., 0., 0.,\n",
       "        0., 0., 0., 0., 0., 0., 0., 0., 0., 1., 0., 1., 0., 0., 0., 0., 0.,\n",
       "        0., 0., 0., 1., 1., 0., 0., 0., 2., 0., 0., 0., 0., 0., 0., 0., 0.,\n",
       "        0., 0., 0., 0., 0., 0., 0., 0., 0., 0., 0., 1., 0., 0., 0., 0., 0.,\n",
       "        0., 0., 1., 0., 0., 0., 0., 0., 0., 0., 0., 0., 0., 0., 0., 0., 0.,\n",
       "        0., 0., 0., 0., 0., 0., 0., 0., 0., 0., 0., 0., 0., 0., 1.]),\n",
       " array([103.7   , 103.7368, 103.7736, 103.8104, 103.8472, 103.884 ,\n",
       "        103.9208, 103.9576, 103.9944, 104.0312, 104.068 , 104.1048,\n",
       "        104.1416, 104.1784, 104.2152, 104.252 , 104.2888, 104.3256,\n",
       "        104.3624, 104.3992, 104.436 , 104.4728, 104.5096, 104.5464,\n",
       "        104.5832, 104.62  , 104.6568, 104.6936, 104.7304, 104.7672,\n",
       "        104.804 , 104.8408, 104.8776, 104.9144, 104.9512, 104.988 ,\n",
       "        105.0248, 105.0616, 105.0984, 105.1352, 105.172 , 105.2088,\n",
       "        105.2456, 105.2824, 105.3192, 105.356 , 105.3928, 105.4296,\n",
       "        105.4664, 105.5032, 105.54  , 105.5768, 105.6136, 105.6504,\n",
       "        105.6872, 105.724 , 105.7608, 105.7976, 105.8344, 105.8712,\n",
       "        105.908 , 105.9448, 105.9816, 106.0184, 106.0552, 106.092 ,\n",
       "        106.1288, 106.1656, 106.2024, 106.2392, 106.276 , 106.3128,\n",
       "        106.3496, 106.3864, 106.4232, 106.46  , 106.4968, 106.5336,\n",
       "        106.5704, 106.6072, 106.644 , 106.6808, 106.7176, 106.7544,\n",
       "        106.7912, 106.828 , 106.8648, 106.9016, 106.9384, 106.9752,\n",
       "        107.012 , 107.0488, 107.0856, 107.1224, 107.1592, 107.196 ,\n",
       "        107.2328, 107.2696, 107.3064, 107.3432, 107.38  ]),\n",
       " <BarContainer object of 100 artists>)"
      ]
     },
     "execution_count": 15,
     "metadata": {},
     "output_type": "execute_result"
    },
    {
     "data": {
      "image/png": "[encoded data removed]",
      "text/plain": [
       "<Figure size 432x288 with 1 Axes>"
      ]
     },
     "metadata": {
      "needs_background": "light"
     },
     "output_type": "display_data"
    }
   ],
   "source": [
    "plt.hist(x, bins = 100)\n",
    "plt.hist(y, bins = 100)"
   ]
  },
  {
   "cell_type": "code",
   "execution_count": 16,
   "id": "d082deb4",
   "metadata": {},
   "outputs": [],
   "source": [
    "# 3\n",
    "x = [50.1, 53.2, 55.0, 55.0, 50.2]\n",
    "y = [15.2, 4.75, 1.2, 1.9, 9.3]"
   ]
  },
  {
   "cell_type": "code",
   "execution_count": 17,
   "id": "b6394a3d",
   "metadata": {},
   "outputs": [
    {
     "data": {
      "text/plain": [
       "array([[ 1.      , -0.936005],\n",
       "       [-0.936005,  1.      ]])"
      ]
     },
     "execution_count": 17,
     "metadata": {},
     "output_type": "execute_result"
    }
   ],
   "source": [
    "np.corrcoef(x, y)"
   ]
  },
  {
   "cell_type": "code",
   "execution_count": 19,
   "id": "ea3c5d6d",
   "metadata": {},
   "outputs": [
    {
     "name": "stdout",
     "output_type": "stream",
     "text": [
      "Collecting statsmodels\n",
      "  Downloading statsmodels-0.13.2-cp38-cp38-macosx_10_9_x86_64.whl (9.6 MB)\n",
      "\u001b[K     |████████████████████████████████| 9.6 MB 101 kB/s eta 0:00:01\n",
      "\u001b[?25hCollecting patsy>=0.5.2\n",
      "  Downloading patsy-0.5.2-py2.py3-none-any.whl (233 kB)\n",
      "\u001b[K     |████████████████████████████████| 233 kB 167 kB/s eta 0:00:01\n",
      "\u001b[?25hRequirement already satisfied: packaging>=21.3 in /opt/anaconda3/lib/python3.8/site-packages (from statsmodels) (21.3)\n",
      "Requirement already satisfied: pandas>=0.25 in /opt/anaconda3/lib/python3.8/site-packages (from statsmodels) (1.4.2)\n",
      "Requirement already satisfied: scipy>=1.3 in /opt/anaconda3/lib/python3.8/site-packages (from statsmodels) (1.8.0)\n",
      "Requirement already satisfied: numpy>=1.17 in /opt/anaconda3/lib/python3.8/site-packages (from statsmodels) (1.22.3)\n",
      "Requirement already satisfied: pyparsing!=3.0.5,>=2.0.2 in /opt/anaconda3/lib/python3.8/site-packages (from packaging>=21.3->statsmodels) (3.0.4)\n",
      "Requirement already satisfied: python-dateutil>=2.8.1 in /opt/anaconda3/lib/python3.8/site-packages (from pandas>=0.25->statsmodels) (2.8.2)\n",
      "Requirement already satisfied: pytz>=2020.1 in /opt/anaconda3/lib/python3.8/site-packages (from pandas>=0.25->statsmodels) (2021.3)\n",
      "Requirement already satisfied: six in /opt/anaconda3/lib/python3.8/site-packages (from patsy>=0.5.2->statsmodels) (1.16.0)\n",
      "Installing collected packages: patsy, statsmodels\n",
      "\u001b[31mERROR: pip's dependency resolver does not currently take into account all the packages that are installed. This behaviour is the source of the following dependency conflicts.\n",
      "pymc3 3.6 requires h5py>=2.7.0, which is not installed.\n",
      "pymc3 3.6 requires joblib<0.13.0, but you have joblib 1.1.0 which is incompatible.\u001b[0m\n",
      "Successfully installed patsy-0.5.2 statsmodels-0.13.2\n"
     ]
    }
   ],
   "source": [
    "# 4\n",
    "!pip install statsmodels"
   ]
  },
  {
   "cell_type": "code",
   "execution_count": 20,
   "id": "6938e1fc",
   "metadata": {},
   "outputs": [],
   "source": [
    "import statsmodels"
   ]
  },
  {
   "cell_type": "code",
   "execution_count": 5,
   "id": "d9adbe72",
   "metadata": {},
   "outputs": [],
   "source": [
    "from scipy.stats import chi2_contingency"
   ]
  },
  {
   "cell_type": "code",
   "execution_count": 6,
   "id": "144ae295",
   "metadata": {},
   "outputs": [
    {
     "data": {
      "text/plain": [
       "(134.42452284557547,\n",
       " 6.457817206943809e-30,\n",
       " 2,\n",
       " array([[47.5, 70. , 32.5],\n",
       "        [47.5, 70. , 32.5]]))"
      ]
     },
     "execution_count": 6,
     "metadata": {},
     "output_type": "execute_result"
    }
   ],
   "source": [
    "chi2_contingency([[75, 20, 55], [20, 120, 10]])"
   ]
  },
  {
   "cell_type": "code",
   "execution_count": 7,
   "id": "a72a53c4",
   "metadata": {},
   "outputs": [],
   "source": [
    "import pandas as pd"
   ]
  },
  {
   "cell_type": "code",
   "execution_count": 8,
   "id": "b651c2ba",
   "metadata": {},
   "outputs": [],
   "source": [
    "data = pd.read_csv(\"c.csv\")"
   ]
  },
  {
   "cell_type": "code",
   "execution_count": 27,
   "id": "d4b1343a",
   "metadata": {},
   "outputs": [
    {
     "data": {
      "text/plain": [
       "0.2633303427238687"
      ]
     },
     "execution_count": 27,
     "metadata": {},
     "output_type": "execute_result"
    }
   ],
   "source": [
    "data.NA_Sales.mean()"
   ]
  },
  {
   "cell_type": "code",
   "execution_count": 28,
   "id": "c867f1f6",
   "metadata": {},
   "outputs": [
    {
     "data": {
      "text/plain": [
       "0.0"
      ]
     },
     "execution_count": 28,
     "metadata": {},
     "output_type": "execute_result"
    }
   ],
   "source": [
    "data.NA_Sales.min()"
   ]
  },
  {
   "cell_type": "code",
   "execution_count": 29,
   "id": "69d449fa",
   "metadata": {},
   "outputs": [
    {
     "data": {
      "text/plain": [
       "0.8135138347516405"
      ]
     },
     "execution_count": 29,
     "metadata": {},
     "output_type": "execute_result"
    }
   ],
   "source": [
    "data.NA_Sales.std()"
   ]
  },
  {
   "cell_type": "code",
   "execution_count": 30,
   "id": "be1f9adb",
   "metadata": {},
   "outputs": [
    {
     "data": {
      "text/html": [
       "<div>\n",
       "<style scoped>\n",
       "    .dataframe tbody tr th:only-of-type {\n",
       "        vertical-align: middle;\n",
       "    }\n",
       "\n",
       "    .dataframe tbody tr th {\n",
       "        vertical-align: top;\n",
       "    }\n",
       "\n",
       "    .dataframe thead th {\n",
       "        text-align: right;\n",
       "    }\n",
       "</style>\n",
       "<table border=\"1\" class=\"dataframe\">\n",
       "  <thead>\n",
       "    <tr style=\"text-align: right;\">\n",
       "      <th></th>\n",
       "      <th>Name</th>\n",
       "      <th>Platform</th>\n",
       "      <th>Year_of_Release</th>\n",
       "      <th>Genre</th>\n",
       "      <th>Publisher</th>\n",
       "      <th>NA_Sales</th>\n",
       "      <th>EU_Sales</th>\n",
       "      <th>JP_Sales</th>\n",
       "      <th>Other_Sales</th>\n",
       "      <th>Global_Sales</th>\n",
       "      <th>Critic_Score</th>\n",
       "      <th>Critic_Count</th>\n",
       "      <th>User_Score</th>\n",
       "      <th>User_Count</th>\n",
       "      <th>Developer</th>\n",
       "      <th>Rating</th>\n",
       "    </tr>\n",
       "  </thead>\n",
       "  <tbody>\n",
       "    <tr>\n",
       "      <th>0</th>\n",
       "      <td>Wii Sports</td>\n",
       "      <td>Wii</td>\n",
       "      <td>2006.0</td>\n",
       "      <td>Sports</td>\n",
       "      <td>Nintendo</td>\n",
       "      <td>41.36</td>\n",
       "      <td>28.96</td>\n",
       "      <td>3.77</td>\n",
       "      <td>8.45</td>\n",
       "      <td>82.53</td>\n",
       "      <td>76.0</td>\n",
       "      <td>51.0</td>\n",
       "      <td>8</td>\n",
       "      <td>322.0</td>\n",
       "      <td>Nintendo</td>\n",
       "      <td>E</td>\n",
       "    </tr>\n",
       "    <tr>\n",
       "      <th>1</th>\n",
       "      <td>Super Mario Bros.</td>\n",
       "      <td>NES</td>\n",
       "      <td>1985.0</td>\n",
       "      <td>Platform</td>\n",
       "      <td>Nintendo</td>\n",
       "      <td>29.08</td>\n",
       "      <td>3.58</td>\n",
       "      <td>6.81</td>\n",
       "      <td>0.77</td>\n",
       "      <td>40.24</td>\n",
       "      <td>NaN</td>\n",
       "      <td>NaN</td>\n",
       "      <td>NaN</td>\n",
       "      <td>NaN</td>\n",
       "      <td>NaN</td>\n",
       "      <td>NaN</td>\n",
       "    </tr>\n",
       "    <tr>\n",
       "      <th>2</th>\n",
       "      <td>Mario Kart Wii</td>\n",
       "      <td>Wii</td>\n",
       "      <td>2008.0</td>\n",
       "      <td>Racing</td>\n",
       "      <td>Nintendo</td>\n",
       "      <td>15.68</td>\n",
       "      <td>12.76</td>\n",
       "      <td>3.79</td>\n",
       "      <td>3.29</td>\n",
       "      <td>35.52</td>\n",
       "      <td>82.0</td>\n",
       "      <td>73.0</td>\n",
       "      <td>8.3</td>\n",
       "      <td>709.0</td>\n",
       "      <td>Nintendo</td>\n",
       "      <td>E</td>\n",
       "    </tr>\n",
       "    <tr>\n",
       "      <th>3</th>\n",
       "      <td>Wii Sports Resort</td>\n",
       "      <td>Wii</td>\n",
       "      <td>2009.0</td>\n",
       "      <td>Sports</td>\n",
       "      <td>Nintendo</td>\n",
       "      <td>15.61</td>\n",
       "      <td>10.93</td>\n",
       "      <td>3.28</td>\n",
       "      <td>2.95</td>\n",
       "      <td>32.77</td>\n",
       "      <td>80.0</td>\n",
       "      <td>73.0</td>\n",
       "      <td>8</td>\n",
       "      <td>192.0</td>\n",
       "      <td>Nintendo</td>\n",
       "      <td>E</td>\n",
       "    </tr>\n",
       "    <tr>\n",
       "      <th>4</th>\n",
       "      <td>Pokemon Red/Pokemon Blue</td>\n",
       "      <td>GB</td>\n",
       "      <td>1996.0</td>\n",
       "      <td>Role-Playing</td>\n",
       "      <td>Nintendo</td>\n",
       "      <td>11.27</td>\n",
       "      <td>8.89</td>\n",
       "      <td>10.22</td>\n",
       "      <td>1.00</td>\n",
       "      <td>31.37</td>\n",
       "      <td>NaN</td>\n",
       "      <td>NaN</td>\n",
       "      <td>NaN</td>\n",
       "      <td>NaN</td>\n",
       "      <td>NaN</td>\n",
       "      <td>NaN</td>\n",
       "    </tr>\n",
       "  </tbody>\n",
       "</table>\n",
       "</div>"
      ],
      "text/plain": [
       "                       Name Platform  ...  Developer Rating\n",
       "0                Wii Sports      Wii  ...   Nintendo      E\n",
       "1         Super Mario Bros.      NES  ...        NaN    NaN\n",
       "2            Mario Kart Wii      Wii  ...   Nintendo      E\n",
       "3         Wii Sports Resort      Wii  ...   Nintendo      E\n",
       "4  Pokemon Red/Pokemon Blue       GB  ...        NaN    NaN\n",
       "\n",
       "[5 rows x 16 columns]"
      ]
     },
     "execution_count": 30,
     "metadata": {},
     "output_type": "execute_result"
    }
   ],
   "source": [
    "data.head()"
   ]
  },
  {
   "cell_type": "code",
   "execution_count": 31,
   "id": "3319cdaa",
   "metadata": {},
   "outputs": [
    {
     "data": {
      "text/plain": [
       "Action          3370\n",
       "Sports          2348\n",
       "Misc            1750\n",
       "Role-Playing    1500\n",
       "Shooter         1323\n",
       "Adventure       1303\n",
       "Racing          1249\n",
       "Platform         888\n",
       "Simulation       874\n",
       "Fighting         849\n",
       "Strategy         683\n",
       "Puzzle           580\n",
       "Name: Genre, dtype: int64"
      ]
     },
     "execution_count": 31,
     "metadata": {},
     "output_type": "execute_result"
    }
   ],
   "source": [
    "data.Genre.value_counts()"
   ]
  },
  {
   "cell_type": "code",
   "execution_count": 32,
   "id": "269de296",
   "metadata": {},
   "outputs": [],
   "source": [
    "pl_coded = data['Platform'].copy()\n",
    "pl_coded[pl_coded != 'PS3'] = 0\n",
    "pl_coded[pl_coded == 'PS3'] = 1\n",
    "pl_coded = pl_coded.astype('int')"
   ]
  },
  {
   "cell_type": "code",
   "execution_count": 34,
   "id": "7bfec274",
   "metadata": {},
   "outputs": [],
   "source": [
    "data['Platform_Coded'] = pl_coded"
   ]
  },
  {
   "cell_type": "code",
   "execution_count": 35,
   "id": "d4034ef0",
   "metadata": {},
   "outputs": [
    {
     "data": {
      "text/plain": [
       "0.07961002452299779"
      ]
     },
     "execution_count": 35,
     "metadata": {},
     "output_type": "execute_result"
    }
   ],
   "source": [
    "pl_coded.mean()"
   ]
  },
  {
   "cell_type": "markdown",
   "id": "a1602020",
   "metadata": {},
   "source": [
    "Вычислите средний агрегированный рейтинг команды Metacritic для игр, выпущенных (published) компаниями Tecmo Koei или Wanadoo. Выпишите полученное значение, округлённое до сотых."
   ]
  },
  {
   "cell_type": "code",
   "execution_count": 39,
   "id": "3d180193",
   "metadata": {},
   "outputs": [
    {
     "data": {
      "text/plain": [
       "65.60135135135135"
      ]
     },
     "execution_count": 39,
     "metadata": {},
     "output_type": "execute_result"
    }
   ],
   "source": [
    "data.Critic_Score[(data.Publisher == 'Tecmo Koei') | (data.Publisher == 'Wanadoo')].mean()"
   ]
  },
  {
   "cell_type": "code",
   "execution_count": 41,
   "id": "c87af1f9",
   "metadata": {},
   "outputs": [
    {
     "data": {
      "text/plain": [
       "6623"
      ]
     },
     "execution_count": 41,
     "metadata": {},
     "output_type": "execute_result"
    }
   ],
   "source": [
    "data.Developer.isna().sum()"
   ]
  },
  {
   "cell_type": "code",
   "execution_count": 45,
   "id": "166b93bd",
   "metadata": {},
   "outputs": [],
   "source": [
    "dev = data.Developer.copy()\n",
    "dev = dev.fillna(\"Ubisoft\")\n",
    "dev"
   ]
  },
  {
   "cell_type": "code",
   "execution_count": 46,
   "id": "8de0c4af",
   "metadata": {},
   "outputs": [
    {
     "data": {
      "text/plain": [
       "Ubisoft                                   6827\n",
       "EA Sports                                  172\n",
       "EA Canada                                  167\n",
       "Konami                                     162\n",
       "Capcom                                     139\n",
       "                                          ... \n",
       "Genki, Kojima Productions                    1\n",
       "Warner Bros. Interactive Entertainment       1\n",
       "THQ, Altron                                  1\n",
       "Netherock Ltd.                               1\n",
       "Interchannel-Holon                           1\n",
       "Name: Developer, Length: 1696, dtype: int64"
      ]
     },
     "execution_count": 46,
     "metadata": {},
     "output_type": "execute_result"
    }
   ],
   "source": [
    "dev.value_counts()"
   ]
  },
  {
   "cell_type": "code",
   "execution_count": 47,
   "id": "8f58bf7d",
   "metadata": {},
   "outputs": [
    {
     "data": {
      "text/plain": [
       "<matplotlib.collections.PathCollection at 0x7fdffa956af0>"
      ]
     },
     "execution_count": 47,
     "metadata": {},
     "output_type": "execute_result"
    },
    {
     "data": {
      "image/png": "[encoded data removed]",
      "text/plain": [
       "<Figure size 432x288 with 1 Axes>"
      ]
     },
     "metadata": {
      "needs_background": "light"
     },
     "output_type": "display_data"
    }
   ],
   "source": [
    "plt.scatter(data.Critic_Score, data.EU_Sales)"
   ]
  },
  {
   "cell_type": "code",
   "execution_count": 48,
   "id": "bc3681ef",
   "metadata": {},
   "outputs": [
    {
     "data": {
      "text/plain": [
       "<matplotlib.collections.PathCollection at 0x7fdffae51700>"
      ]
     },
     "execution_count": 48,
     "metadata": {},
     "output_type": "execute_result"
    },
    {
     "data": {
      "image/png": "[encoded data removed]",
      "text/plain": [
       "<Figure size 432x288 with 1 Axes>"
      ]
     },
     "metadata": {
      "needs_background": "light"
     },
     "output_type": "display_data"
    }
   ],
   "source": [
    "plt.scatter(data.NA_Sales, data.EU_Sales)"
   ]
  },
  {
   "cell_type": "code",
   "execution_count": 54,
   "id": "6f357ba1",
   "metadata": {},
   "outputs": [
    {
     "data": {
      "text/plain": [
       "Year_of_Release    0.003842\n",
       "NA_Sales           0.765336\n",
       "EU_Sales           1.000000\n",
       "JP_Sales           0.435068\n",
       "Other_Sales        0.722796\n",
       "Global_Sales       0.901239\n",
       "Critic_Score       0.220752\n",
       "Critic_Count       0.277533\n",
       "User_Count         0.283360\n",
       "Platform_Coded     0.060266\n",
       "Name: EU_Sales, dtype: float64"
      ]
     },
     "execution_count": 54,
     "metadata": {},
     "output_type": "execute_result"
    }
   ],
   "source": [
    "data.corr().abs().loc[\"EU_Sales\"]"
   ]
  },
  {
   "cell_type": "code",
   "execution_count": 11,
   "id": "486c6539",
   "metadata": {},
   "outputs": [],
   "source": [
    "y = data.Global_Sales\n",
    "X = np.array(np.log(data.NA_Sales + 1)).reshape(-1, 1)"
   ]
  },
  {
   "cell_type": "code",
   "execution_count": 12,
   "id": "b72f94f4",
   "metadata": {},
   "outputs": [
    {
     "data": {
      "text/plain": [
       "(16719, 1)"
      ]
     },
     "execution_count": 12,
     "metadata": {},
     "output_type": "execute_result"
    }
   ],
   "source": [
    "X.shape"
   ]
  },
  {
   "cell_type": "code",
   "execution_count": 13,
   "id": "068148e3",
   "metadata": {},
   "outputs": [],
   "source": [
    "from sklearn.linear_model import LinearRegression"
   ]
  },
  {
   "cell_type": "code",
   "execution_count": 14,
   "id": "5b5fb788",
   "metadata": {},
   "outputs": [
    {
     "data": {
      "text/plain": [
       "LinearRegression()"
      ]
     },
     "execution_count": 14,
     "metadata": {},
     "output_type": "execute_result"
    }
   ],
   "source": [
    "lr = LinearRegression()\n",
    "lr.fit(X, y)"
   ]
  },
  {
   "cell_type": "code",
   "execution_count": 15,
   "id": "effe6b4f",
   "metadata": {},
   "outputs": [
    {
     "data": {
      "text/plain": [
       "array([4.30235834])"
      ]
     },
     "execution_count": 15,
     "metadata": {},
     "output_type": "execute_result"
    }
   ],
   "source": [
    "lr.coef_"
   ]
  },
  {
   "cell_type": "code",
   "execution_count": 16,
   "id": "4625a346",
   "metadata": {},
   "outputs": [
    {
     "data": {
      "text/plain": [
       "-0.21678716117706387"
      ]
     },
     "execution_count": 16,
     "metadata": {},
     "output_type": "execute_result"
    }
   ],
   "source": [
    "lr.intercept_"
   ]
  },
  {
   "cell_type": "code",
   "execution_count": 17,
   "id": "cd909a49",
   "metadata": {},
   "outputs": [],
   "source": [
    "pred = lr.predict(X)"
   ]
  },
  {
   "cell_type": "code",
   "execution_count": 18,
   "id": "31d631a0",
   "metadata": {},
   "outputs": [],
   "source": [
    "from sklearn.metrics import mean_squared_error"
   ]
  },
  {
   "cell_type": "code",
   "execution_count": 19,
   "id": "67db1db6",
   "metadata": {},
   "outputs": [
    {
     "data": {
      "text/plain": [
       "0.931848221535362"
      ]
     },
     "execution_count": 19,
     "metadata": {},
     "output_type": "execute_result"
    }
   ],
   "source": [
    "# В итоге, это оказался верный ответ\n",
    "mean_squared_error(y, lr.predict(X))"
   ]
  },
  {
   "cell_type": "code",
   "execution_count": null,
   "id": "9c7aff88",
   "metadata": {},
   "outputs": [],
   "source": []
  },
  {
   "cell_type": "code",
   "execution_count": null,
   "id": "bffb8c13",
   "metadata": {},
   "outputs": [],
   "source": []
  }
 ],
 "metadata": {
  "kernelspec": {
   "display_name": "Python 3 (ipykernel)",
   "language": "python",
   "name": "python3"
  },
  "language_info": {
   "codemirror_mode": {
    "name": "ipython",
    "version": 3
   },
   "file_extension": ".py",
   "mimetype": "text/x-python",
   "name": "python",
   "nbconvert_exporter": "python",
   "pygments_lexer": "ipython3",
   "version": "3.8.13"
  }
 },
 "nbformat": 4,
 "nbformat_minor": 5
}
