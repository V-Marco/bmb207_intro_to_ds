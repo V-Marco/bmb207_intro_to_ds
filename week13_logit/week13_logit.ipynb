{
 "cells": [
  {
   "cell_type": "markdown",
   "id": "nearby-anderson",
   "metadata": {},
   "source": [
    "# Введение в DS на УБ и МиРА\n",
    "\n",
    "## Семинар 13: Логистическая регрессия\n",
    "\n",
    "#### План:\n",
    "1. Логистическая регрессия\n",
    "2. Ирисы Фишера. Свойства логистической регрессии\n",
    "3. Логистическая регрессия на менее приятных данных.\n",
    "4. ROC-кривая. \n",
    "5. Бонус: вывод логистической регрессии через правдоподобие\n",
    "\n",
    "(адаптировано с [[источник](https://github.com/hse-ds/iad-intro-ds/tree/master/2022/seminars/sem09_logit_svm)])\n",
    "\n",
    "---"
   ]
  },
  {
   "cell_type": "markdown",
   "id": "intellectual-territory",
   "metadata": {},
   "source": [
    "### Логистическая регрессия (теория)"
   ]
  },
  {
   "cell_type": "markdown",
   "id": "russian-closing",
   "metadata": {},
   "source": [
    "Напомним, что мы решаем задачу бинарной классификации, в которой целевая переменная $y$ принимает два значения: -1 и 1. На лекции мы обсудили, что эту задачу можно решить при помощи линейного классификатора \n",
    "\n",
    "$$\n",
    "f(x_i, w) = \\mathrm{sign}\\left(\\langle x_i, w \\rangle\\right).\n",
    "$$\n",
    "\n",
    "Функция потерь для такой задачи – это сумма индикаторов того, что предсказание сделано неверно: \n",
    "\n",
    "$$Q(X, w) = \\frac{1}{\\ell}\\sum_{i = 1}^{\\ell}[y_i \\ne \\mathrm{sign}\\left(\\langle x_i, w \\rangle\\right)].$$\n",
    "\n",
    "Мы также обсуждали, что эту идею можно удобно записать через функцию отступа:\n",
    "\n",
    "$$\n",
    "Q(X, w) = \\frac{1}{\\ell}\\sum_{i = 1}^{\\ell}[y_i \\langle x_i, w \\rangle < 0].\n",
    "$$\n",
    "\n",
    "Такую функцию проблематично дифференцировать по $w$, потому что даже в местах, где градиент существует, он равен нулю. Вместо этого будем минимизировать некоторую функцию $\\tilde{Q}(X, w)$, являющуюся верхней оценкой для $Q(X, w)$, и надеяться, что минимизация $\\tilde{Q}(X, w)$ позволит достаточно хорошо минимизировать и $Q(X, w)$.\n",
    "\n",
    "Логистическая регрессия предлагает использовать логистическую функцию потерь:\n",
    "\n",
    "$$\n",
    "\\tilde{Q}(X, w) = \\frac{1}{\\ell}\\sum_{i = 1}^{\\ell}\\log(1 + e^{-y_i \\langle x_i, w \\rangle}) \\rightarrow \\min_w.\n",
    "$$"
   ]
  },
  {
   "cell_type": "code",
   "execution_count": 2,
   "id": "curious-exemption",
   "metadata": {},
   "outputs": [],
   "source": [
    "import matplotlib.pyplot as plt\n",
    "import numpy as np\n",
    "import pandas as pd"
   ]
  },
  {
   "cell_type": "code",
   "execution_count": 2,
   "id": "catholic-tunnel",
   "metadata": {},
   "outputs": [
    {
     "data": {
      "image/png": "[encoded data removed]",
      "text/plain": [
       "<Figure size 576x432 with 1 Axes>"
      ]
     },
     "metadata": {
      "needs_background": "light"
     },
     "output_type": "display_data"
    }
   ],
   "source": [
    "x = np.concatenate((np.linspace(-3, 0, 500), np.linspace(0, 3, 500)))\n",
    "np.random.seed(123)\n",
    "y = np.ones(1000)\n",
    "w = np.ones(1000)\n",
    "M = y * x * w\n",
    "\n",
    "plt.figure(figsize = (8, 6))\n",
    "plt.plot(x * w, x < 0, label = \"$\\tilde{Q}(X, w)$, zero-one loss\")\n",
    "plt.plot(M, np.log2(1 + np.exp(-M)), label = \"$Q'(X, w)$, logistic loss\")\n",
    "plt.grid()\n",
    "plt.legend();"
   ]
  },
  {
   "cell_type": "markdown",
   "id": "positive-memorabilia",
   "metadata": {},
   "source": [
    "Для получения классической задачи логистической регрессии остаётся сделать один шаг и немного изменить постановку задачи. Предположим, что мы хотим решать задачу **мягкой** классификации, то есть предсказывать не метку класса, а вероятность того, что наблюдение принадлежит к классу. Понятно, что мы всегда можем перейти от мягкой классификации к жёсткой, выбрав порог принадлежности к положительному классу. "
   ]
  },
  {
   "cell_type": "markdown",
   "id": "useful-springer",
   "metadata": {},
   "source": [
    "**Задание 1.** Поясните, почему для решения задачи мягкой классификации классификатор $f(x_i, w) = \\left(\\langle x_i, w \\rangle\\right)$ – не лучший выбор. "
   ]
  },
  {
   "cell_type": "markdown",
   "id": "contained-preparation",
   "metadata": {},
   "source": [
    "**Ответ:**\n",
    "\n",
    "Полученное скалярное произведение необязательно будет лежать в отрезке $[0, 1]$.\n",
    "\n",
    "Мы можем решить названную проблему, подставив $\\left(\\langle x_i, w \\rangle\\right)$ в некоторую функцию, областью значений которой является промежуток от 0 до 1. В логистической регрессии такой функцией выступает **сигмоида**:\n",
    "\n",
    "$$\n",
    "\\sigma(x) = \\dfrac{e^x}{1 + e^x} = \\dfrac{1}{1 + e^{-x}}.\n",
    "$$"
   ]
  },
  {
   "cell_type": "markdown",
   "id": "romantic-yield",
   "metadata": {},
   "source": [
    "**Задание 2.** Сигмоида обаладет замечательнеым свойством, которое значительно упрощает вычисление градиентов при градиентном спуске:\n",
    "\n",
    "$$\n",
    "\\sigma(x)'_x = \\sigma(x)(1 - \\sigma(x)). \n",
    "$$\n",
    "\n",
    "Покажите, что это действительно так.\n",
    "\n",
    "**Решение:**\n",
    "\n",
    "$$\n",
    "\\sigma(x)' = \\frac{e^x(1 + e^x) - e^{2x}}{(1 + e^x)^2} = \\frac{e^x}{1 + e^x}\\frac{1}{1 + e^x} = \\sigma(x)(1-\\sigma(x)).\n",
    "$$"
   ]
  },
  {
   "cell_type": "markdown",
   "id": "reverse-transsexual",
   "metadata": {},
   "source": [
    "Путём хитрых математических преобразований, описанных ниже, можно показать, что при использовании сигмоиды (= при решении задачи мягкой классификации) $\\tilde{Q}(X, w)$ можно записать в следующем виде:\n",
    "\n",
    "$$\n",
    "\\tilde{Q}(X, w) = -\\frac{1}{\\ell} \\sum_{i=1}^{\\ell} [y_i = 1]\\log\\sigma(\\langle x_i, w \\rangle) + [y_i = -1]\\log(1-\\sigma(\\langle x_i, w \\rangle)\n",
    "$$\n",
    "\n",
    "Эта функция называется log-loss или кросс-энтропией между истинной целевой переменной и предсказанными вероятностями.\n",
    "\n",
    "**А почему? А потому:**\n",
    "\n",
    "$$\n",
    "\\tilde{Q}(X, w) = -\\frac{1}{\\ell} \\sum_{i=1}^{\\ell} [y_i = 1]\\log\\sigma(\\langle x_i, w \\rangle) + [y_i = -1]\\log(1-\\sigma(\\langle x_i, w \\rangle) =\\\\\n",
    "$$\n",
    "$$\n",
    "=-\\frac{1}{\\ell} \\sum_{i=1}^{\\ell} [y_i = 1]\\log\\left(\\frac{1}{1 + e^{-\\langle x_i, w\\rangle}}\\right) + [y_i = -1](\\log\\left(1-\\frac{1}{1 + e^{-\\langle x_i, w\\rangle}}\\right)) =\\\\\n",
    "$$\n",
    "$$\n",
    "=-\\frac{1}{\\ell} \\sum_{i=1}^{\\ell} [y_i = 1]\\log\\left(\\frac{1}{1 + e^{-\\langle x_i, w\\rangle}}\\right) + [y_i = -1](\\log\\left(\\frac{1}{1 + e^{\\langle x_i, w\\rangle}}\\right)) =\\\\\n",
    "$$\n",
    "$$\n",
    "=\\frac{1}{\\ell} \\sum_{i=1}^{\\ell} [y_i = 1]\\log(1 + e^{-\\langle x_i, w \\rangle}) + [y_i = -1]\\log(1 + e^{\\langle x_i, w \\rangle}) =\\\\\n",
    "$$\n",
    "$$\n",
    "=\\frac{1}{\\ell} \\sum_{i=1}^{\\ell}\\log(1 + e^{-y_i\\langle x_i, w\\rangle}) = \\tilde{Q}(X, w)\n",
    "$$"
   ]
  },
  {
   "cell_type": "markdown",
   "id": "lovely-empire",
   "metadata": {},
   "source": [
    "### Саммари по логистической регрессии\n",
    "\n",
    "\n",
    "- Данные: $y_i \\in \\{-1, 1\\}$, $X$\n",
    "\n",
    "- Предсказания:\n",
    "\n",
    "    - По умолчанию предсказывает вероятности:\n",
    "    $$\n",
    "    \\hat{p}_i = \\sigma(\\langle x_i, w\\rangle) = \\frac{1}{1 + e^{-\\langle x_i, w\\rangle}}\n",
    "    $$\n",
    "    \n",
    "    - Если хотим перейти к метке, то сравниваем вероятность с порогом $t$:\n",
    "    \n",
    "    $$\n",
    "    \\hat{y}_i = \\begin{cases}\n",
    "    1,&\\text{ если } \\hat{p}_i > t,\\\\\n",
    "    -1,&\\text{ иначе.}\n",
    "    \\end{cases}\n",
    "    $$\n",
    "    \n",
    "- Обучение: \n",
    "\n",
    "$$\n",
    "\\tilde{Q}(X, w) = -\\frac{1}{\\ell} \\sum_{i=1}^{\\ell} [y_i = 1]\\log\\sigma(\\langle x_i, w \\rangle) + [y_i = -1]\\log(1-\\sigma(\\langle x_i, w \\rangle) \\to \\min_w\n",
    "$$"
   ]
  },
  {
   "cell_type": "markdown",
   "id": "technological-cooperation",
   "metadata": {},
   "source": [
    "### Ирисы Фишера. Тестируем логистическую регрессию"
   ]
  },
  {
   "cell_type": "markdown",
   "id": "anonymous-reporter",
   "metadata": {},
   "source": [
    "Рассмотрим свойства логистической регрессии и метода опорных векторов на примере классического набора данных [\"Ирисы Фишера\"](https://ru.wikipedia.org/wiki/Ирисы_Фишера). Этот набор состоит из 150 наблюдений, каждое из которых представляет собой четыре измерения: длина наружной доли околоцветника (`sepal length`), ширина наружной доли околоцветника (`sepal width`), длина внутренней доли околоцветника (`petal length`), ширина внутренней доли околоцветника (`petal width`). Каждое наблюдение относится к одному из трёх классов ириса: `setosa`, `versicolor` или `virginica`. Задача состоит в том, чтобы по измерениям предсказать класс цветка. \n",
    "\n",
    "[<img src=\"https://miro.medium.com/max/1000/1*Hh53mOF4Xy4eORjLilKOwA.png\" alt=\"drawing\" width=\"800\"/>](https://miro.medium.com/max/1000/1*Hh53mOF4Xy4eORjLilKOwA.png)"
   ]
  },
  {
   "cell_type": "code",
   "execution_count": 3,
   "id": "medieval-cowboy",
   "metadata": {},
   "outputs": [
    {
     "data": {
      "text/html": [
       "<div>\n",
       "<style scoped>\n",
       "    .dataframe tbody tr th:only-of-type {\n",
       "        vertical-align: middle;\n",
       "    }\n",
       "\n",
       "    .dataframe tbody tr th {\n",
       "        vertical-align: top;\n",
       "    }\n",
       "\n",
       "    .dataframe thead th {\n",
       "        text-align: right;\n",
       "    }\n",
       "</style>\n",
       "<table border=\"1\" class=\"dataframe\">\n",
       "  <thead>\n",
       "    <tr style=\"text-align: right;\">\n",
       "      <th></th>\n",
       "      <th>sepal length (cm)</th>\n",
       "      <th>sepal width (cm)</th>\n",
       "      <th>petal length (cm)</th>\n",
       "      <th>petal width (cm)</th>\n",
       "    </tr>\n",
       "  </thead>\n",
       "  <tbody>\n",
       "    <tr>\n",
       "      <th>0</th>\n",
       "      <td>5.1</td>\n",
       "      <td>3.5</td>\n",
       "      <td>1.4</td>\n",
       "      <td>0.2</td>\n",
       "    </tr>\n",
       "    <tr>\n",
       "      <th>1</th>\n",
       "      <td>4.9</td>\n",
       "      <td>3.0</td>\n",
       "      <td>1.4</td>\n",
       "      <td>0.2</td>\n",
       "    </tr>\n",
       "    <tr>\n",
       "      <th>2</th>\n",
       "      <td>4.7</td>\n",
       "      <td>3.2</td>\n",
       "      <td>1.3</td>\n",
       "      <td>0.2</td>\n",
       "    </tr>\n",
       "    <tr>\n",
       "      <th>3</th>\n",
       "      <td>4.6</td>\n",
       "      <td>3.1</td>\n",
       "      <td>1.5</td>\n",
       "      <td>0.2</td>\n",
       "    </tr>\n",
       "    <tr>\n",
       "      <th>4</th>\n",
       "      <td>5.0</td>\n",
       "      <td>3.6</td>\n",
       "      <td>1.4</td>\n",
       "      <td>0.2</td>\n",
       "    </tr>\n",
       "  </tbody>\n",
       "</table>\n",
       "</div>"
      ],
      "text/plain": [
       "   sepal length (cm)  sepal width (cm)  petal length (cm)  petal width (cm)\n",
       "0                5.1               3.5                1.4               0.2\n",
       "1                4.9               3.0                1.4               0.2\n",
       "2                4.7               3.2                1.3               0.2\n",
       "3                4.6               3.1                1.5               0.2\n",
       "4                5.0               3.6                1.4               0.2"
      ]
     },
     "execution_count": 3,
     "metadata": {},
     "output_type": "execute_result"
    }
   ],
   "source": [
    "from sklearn.datasets import load_iris\n",
    "data = load_iris()\n",
    "X = pd.DataFrame(data['data'], columns = data['feature_names'])\n",
    "y = data['target']\n",
    "X.head()"
   ]
  },
  {
   "cell_type": "code",
   "execution_count": 5,
   "id": "37691d18",
   "metadata": {},
   "outputs": [
    {
     "data": {
      "text/plain": [
       "array([0, 0, 0, 0, 0, 0, 0, 0, 0, 0, 0, 0, 0, 0, 0, 0, 0, 0, 0, 0, 0, 0,\n",
       "       0, 0, 0, 0, 0, 0, 0, 0, 0, 0, 0, 0, 0, 0, 0, 0, 0, 0, 0, 0, 0, 0,\n",
       "       0, 0, 0, 0, 0, 0, 1, 1, 1, 1, 1, 1, 1, 1, 1, 1, 1, 1, 1, 1, 1, 1,\n",
       "       1, 1, 1, 1, 1, 1, 1, 1, 1, 1, 1, 1, 1, 1, 1, 1, 1, 1, 1, 1, 1, 1,\n",
       "       1, 1, 1, 1, 1, 1, 1, 1, 1, 1, 1, 1, 2, 2, 2, 2, 2, 2, 2, 2, 2, 2,\n",
       "       2, 2, 2, 2, 2, 2, 2, 2, 2, 2, 2, 2, 2, 2, 2, 2, 2, 2, 2, 2, 2, 2,\n",
       "       2, 2, 2, 2, 2, 2, 2, 2, 2, 2, 2, 2, 2, 2, 2, 2, 2, 2])"
      ]
     },
     "execution_count": 5,
     "metadata": {},
     "output_type": "execute_result"
    }
   ],
   "source": [
    "y"
   ]
  },
  {
   "cell_type": "code",
   "execution_count": 6,
   "id": "fe45a622",
   "metadata": {},
   "outputs": [
    {
     "data": {
      "text/plain": [
       "array(['setosa', 'versicolor', 'virginica'], dtype='<U10')"
      ]
     },
     "execution_count": 6,
     "metadata": {},
     "output_type": "execute_result"
    }
   ],
   "source": [
    "data['target_names']"
   ]
  },
  {
   "cell_type": "markdown",
   "id": "conservative-target",
   "metadata": {},
   "source": [
    "**Задание 1.** Перейдём к задаче бинарной классификации: будем предсказывать принадлежность цветка к виду `versicolor` против принадлежности ко всем прочим видам. Перекодируйте зависимую переменную так, чтобы цветки вида `versicolor` имели метку 1, а прочих видов – метку -1. "
   ]
  },
  {
   "cell_type": "code",
   "execution_count": 7,
   "id": "signal-stereo",
   "metadata": {},
   "outputs": [
    {
     "data": {
      "text/plain": [
       "array([-1, -1, -1, -1, -1, -1, -1, -1, -1, -1, -1, -1, -1, -1, -1, -1, -1,\n",
       "       -1, -1, -1, -1, -1, -1, -1, -1, -1, -1, -1, -1, -1, -1, -1, -1, -1,\n",
       "       -1, -1, -1, -1, -1, -1, -1, -1, -1, -1, -1, -1, -1, -1, -1, -1,  1,\n",
       "        1,  1,  1,  1,  1,  1,  1,  1,  1,  1,  1,  1,  1,  1,  1,  1,  1,\n",
       "        1,  1,  1,  1,  1,  1,  1,  1,  1,  1,  1,  1,  1,  1,  1,  1,  1,\n",
       "        1,  1,  1,  1,  1,  1,  1,  1,  1,  1,  1,  1,  1,  1,  1, -1, -1,\n",
       "       -1, -1, -1, -1, -1, -1, -1, -1, -1, -1, -1, -1, -1, -1, -1, -1, -1,\n",
       "       -1, -1, -1, -1, -1, -1, -1, -1, -1, -1, -1, -1, -1, -1, -1, -1, -1,\n",
       "       -1, -1, -1, -1, -1, -1, -1, -1, -1, -1, -1, -1, -1, -1])"
      ]
     },
     "execution_count": 7,
     "metadata": {},
     "output_type": "execute_result"
    }
   ],
   "source": [
    "# Перекодировка\n",
    "y[y != 1] = -1\n",
    "y"
   ]
  },
  {
   "cell_type": "markdown",
   "id": "governmental-repository",
   "metadata": {},
   "source": [
    "**Задание 2**. Будем работать с двумя признаками: `sepal length (cm)` и `sepal width (cm)`. Отделите их в отдельную матрицу. Разделите выборку на обучающую и тестовую, долю тестовой выборки укажите равной 0.3. Отмасштабируйте выборки при помощи StandardScaler. Постройте диаграмму рассеяния по тренировочной выборке и убедитесь, что данные линейно не разделимы. "
   ]
  },
  {
   "cell_type": "code",
   "execution_count": 8,
   "id": "ordered-pavilion",
   "metadata": {},
   "outputs": [
    {
     "data": {
      "text/plain": [
       "<matplotlib.collections.PathCollection at 0x7fcb8aacf790>"
      ]
     },
     "execution_count": 8,
     "metadata": {},
     "output_type": "execute_result"
    },
    {
     "data": {
      "image/png": "[encoded data removed]",
      "text/plain": [
       "<Figure size 432x288 with 1 Axes>"
      ]
     },
     "metadata": {
      "needs_background": "light"
     },
     "output_type": "display_data"
    }
   ],
   "source": [
    "from sklearn.model_selection import train_test_split\n",
    "from sklearn.preprocessing import StandardScaler\n",
    "np.random.seed(123)\n",
    "\n",
    "X = X[['sepal length (cm)', 'sepal width (cm)']]\n",
    "\n",
    "X_train, X_test, y_train, y_test = train_test_split(X, y, test_size = 0.3)\n",
    "\n",
    "# Отмасштабируйте признаки\n",
    "ss = StandardScaler()\n",
    "X_train = ss.fit_transform(X_train)\n",
    "X_test = ss.transform(X_test)\n",
    "\n",
    "plt.scatter(X_train[:, 0], X_train[:, 1], c = y_train)"
   ]
  },
  {
   "cell_type": "code",
   "execution_count": 9,
   "id": "19e754a2",
   "metadata": {},
   "outputs": [
    {
     "data": {
      "text/plain": [
       "array([[-0.08775611, -0.6152556 ],\n",
       "       [ 0.54336657,  0.85855059],\n",
       "       [-0.46642971, -1.84342742],\n",
       "       [-0.97132786,  1.84108805],\n",
       "       [-1.85489961, -0.12398687],\n",
       "       [ 0.79581565,  0.36728186],\n",
       "       [-0.97132786,  0.61291622],\n",
       "       [-1.22377693,  0.12164749],\n",
       "       [ 1.04826472,  0.12164749],\n",
       "       [ 0.2909175 , -0.12398687],\n",
       "       [-0.46642971, -1.35215869],\n",
       "       [-0.21398064, -1.10652433],\n",
       "       [-0.08775611, -0.86088996],\n",
       "       [ 1.04826472,  0.12164749],\n",
       "       [ 0.66959111,  0.36728186],\n",
       "       [-1.72867507, -1.84342742],\n",
       "       [ 1.04826472,  0.61291622],\n",
       "       [-0.21398064, -0.12398687],\n",
       "       [-0.97132786,  1.59545368],\n",
       "       [-1.35000147,  0.85855059],\n",
       "       [ 0.54336657, -0.36962123],\n",
       "       [ 0.66959111, -0.36962123],\n",
       "       [ 2.31051008, -0.6152556 ],\n",
       "       [ 2.31051008, -1.10652433],\n",
       "       [-0.97132786,  1.84108805],\n",
       "       [ 0.66959111,  0.36728186],\n",
       "       [-0.46642971, -1.59779306],\n",
       "       [ 0.03846843, -0.12398687],\n",
       "       [-1.35000147, -0.12398687],\n",
       "       [ 1.6793874 , -0.12398687],\n",
       "       [ 0.54336657,  0.61291622],\n",
       "       [ 1.42693833,  0.36728186],\n",
       "       [-1.09755239, -0.12398687],\n",
       "       [ 0.66959111, -0.6152556 ],\n",
       "       [ 0.54336657, -1.35215869],\n",
       "       [-1.09755239,  1.10418495],\n",
       "       [-1.22377693, -0.12398687],\n",
       "       [ 0.2909175 , -0.6152556 ],\n",
       "       [ 0.79581565, -0.6152556 ],\n",
       "       [ 0.54336657,  0.61291622],\n",
       "       [-0.08775611,  2.33235678],\n",
       "       [-1.60245054,  0.85855059],\n",
       "       [-0.46642971, -1.59779306],\n",
       "       [-1.09755239,  0.85855059],\n",
       "       [ 0.03846843,  0.36728186],\n",
       "       [ 1.30071379,  0.12164749],\n",
       "       [-1.35000147,  0.12164749],\n",
       "       [ 1.04826472, -1.35215869],\n",
       "       [-0.21398064,  3.31489424],\n",
       "       [-0.21398064,  1.84108805],\n",
       "       [ 1.04826472, -0.12398687],\n",
       "       [-1.60245054,  1.34981932],\n",
       "       [-0.59265425,  1.59545368],\n",
       "       [ 0.92204018, -0.36962123],\n",
       "       [ 1.80561193, -0.36962123],\n",
       "       [ 0.92204018, -0.12398687],\n",
       "       [-0.34020518, -0.36962123],\n",
       "       [-0.34020518, -1.35215869],\n",
       "       [-1.60245054,  0.12164749],\n",
       "       [-1.09755239,  1.10418495],\n",
       "       [ 1.17448925, -0.6152556 ],\n",
       "       [ 0.2909175 , -1.10652433],\n",
       "       [-1.22377693,  0.12164749],\n",
       "       [-0.84510332,  1.10418495],\n",
       "       [-0.34020518, -0.86088996],\n",
       "       [ 0.16469297,  0.85855059],\n",
       "       [ 0.41714204, -0.36962123],\n",
       "       [ 1.55316286, -0.12398687],\n",
       "       [ 1.30071379,  0.12164749],\n",
       "       [-0.08775611, -1.10652433],\n",
       "       [-0.21398064, -0.6152556 ],\n",
       "       [ 2.18428554, -0.12398687],\n",
       "       [-1.09755239,  0.85855059],\n",
       "       [-0.71887879,  1.59545368],\n",
       "       [ 0.03846843, -0.12398687],\n",
       "       [ 1.30071379,  0.36728186],\n",
       "       [ 0.66959111,  0.12164749],\n",
       "       [ 1.6793874 ,  0.36728186],\n",
       "       [ 0.79581565, -0.12398687],\n",
       "       [-0.97132786,  0.85855059],\n",
       "       [-0.59265425, -0.12398687],\n",
       "       [-1.476226  ,  0.36728186],\n",
       "       [-0.08775611, -0.86088996],\n",
       "       [-0.21398064, -0.6152556 ],\n",
       "       [-1.09755239,  0.61291622],\n",
       "       [ 0.41714204, -2.08906179],\n",
       "       [ 1.04826472,  0.12164749],\n",
       "       [ 0.16469297, -0.36962123],\n",
       "       [ 1.04826472,  0.61291622],\n",
       "       [ 0.66959111, -0.86088996],\n",
       "       [-0.84510332,  2.57799114],\n",
       "       [ 0.2909175 , -0.6152556 ],\n",
       "       [-1.60245054,  0.36728186],\n",
       "       [ 0.41714204,  0.85855059],\n",
       "       [-0.21398064, -1.35215869],\n",
       "       [-0.21398064, -0.36962123],\n",
       "       [-1.22377693, -1.59779306],\n",
       "       [ 0.54336657, -0.86088996],\n",
       "       [-1.22377693, -1.35215869],\n",
       "       [ 0.16469297, -0.86088996],\n",
       "       [-0.97132786,  1.10418495],\n",
       "       [-0.97132786, -1.35215869],\n",
       "       [-0.34020518, -0.12398687],\n",
       "       [ 0.41714204, -0.6152556 ],\n",
       "       [ 1.6793874 ,  1.34981932]])"
      ]
     },
     "execution_count": 9,
     "metadata": {},
     "output_type": "execute_result"
    }
   ],
   "source": [
    "X_train"
   ]
  },
  {
   "cell_type": "markdown",
   "id": "divine-lease",
   "metadata": {},
   "source": [
    "**Задание 3.** Обучите логистическую регрессию на тренировочной выборке. Убедитесь, что `accuracy`, возможно, не подходит в качестве метрики для данной задачи и рассчитайте `f1-меру` на тестовой выборке."
   ]
  },
  {
   "cell_type": "code",
   "execution_count": 3,
   "id": "interim-rabbit",
   "metadata": {},
   "outputs": [],
   "source": [
    "from sklearn.linear_model import LogisticRegression"
   ]
  },
  {
   "cell_type": "code",
   "execution_count": 11,
   "id": "spiritual-definition",
   "metadata": {},
   "outputs": [],
   "source": [
    "lr = LogisticRegression()\n",
    "\n",
    "# Обучите логистическую регрессию \n",
    "lr.fit(X_train, y_train)\n",
    "\n",
    "#\n",
    "pred = lr.predict(X_test)"
   ]
  },
  {
   "cell_type": "code",
   "execution_count": 12,
   "id": "1459f18c",
   "metadata": {},
   "outputs": [
    {
     "data": {
      "text/plain": [
       "-1    35\n",
       " 1    10\n",
       "dtype: int64"
      ]
     },
     "execution_count": 12,
     "metadata": {},
     "output_type": "execute_result"
    }
   ],
   "source": [
    "pd.Series(y_test).value_counts()"
   ]
  },
  {
   "cell_type": "code",
   "execution_count": 13,
   "id": "8d269c53",
   "metadata": {},
   "outputs": [
    {
     "data": {
      "text/plain": [
       "0.7777777777777778"
      ]
     },
     "execution_count": 13,
     "metadata": {},
     "output_type": "execute_result"
    }
   ],
   "source": [
    "35 / 45"
   ]
  },
  {
   "cell_type": "code",
   "execution_count": 14,
   "id": "56b6fd37",
   "metadata": {},
   "outputs": [],
   "source": [
    "from sklearn.metrics import f1_score"
   ]
  },
  {
   "cell_type": "code",
   "execution_count": 15,
   "id": "605018b9",
   "metadata": {},
   "outputs": [
    {
     "data": {
      "text/plain": [
       "0.6956521739130435"
      ]
     },
     "execution_count": 15,
     "metadata": {},
     "output_type": "execute_result"
    }
   ],
   "source": [
    "f1_score(y_test, pred)"
   ]
  },
  {
   "cell_type": "markdown",
   "id": "running-stock",
   "metadata": {},
   "source": [
    "Теперь посмотрим, как различаются решающие поверхности алгоритмов. "
   ]
  },
  {
   "cell_type": "markdown",
   "id": "manufactured-breeding",
   "metadata": {},
   "source": [
    "Код ниже построит решающую поверхность для классификатора. Чтобы он заработал, нужно обязательно сделать `fit` для `lr` выше."
   ]
  },
  {
   "cell_type": "code",
   "execution_count": 16,
   "id": "05afd8fd",
   "metadata": {},
   "outputs": [
    {
     "name": "stdout",
     "output_type": "stream",
     "text": [
      "Requirement already satisfied: mlxtend in /opt/anaconda3/lib/python3.8/site-packages (0.18.0)\n",
      "Requirement already satisfied: joblib>=0.13.2 in /opt/anaconda3/lib/python3.8/site-packages (from mlxtend) (1.1.0)\n",
      "Requirement already satisfied: matplotlib>=3.0.0 in /opt/anaconda3/lib/python3.8/site-packages (from mlxtend) (3.5.1)\n",
      "Requirement already satisfied: setuptools in /opt/anaconda3/lib/python3.8/site-packages (from mlxtend) (61.2.0)\n",
      "Requirement already satisfied: scipy>=1.2.1 in /opt/anaconda3/lib/python3.8/site-packages (from mlxtend) (1.8.0)\n",
      "Requirement already satisfied: scikit-learn>=0.20.3 in /opt/anaconda3/lib/python3.8/site-packages (from mlxtend) (1.0.2)\n",
      "Requirement already satisfied: pandas>=0.24.2 in /opt/anaconda3/lib/python3.8/site-packages (from mlxtend) (1.4.2)\n",
      "Requirement already satisfied: numpy>=1.16.2 in /opt/anaconda3/lib/python3.8/site-packages (from mlxtend) (1.22.3)\n",
      "Requirement already satisfied: cycler>=0.10 in /opt/anaconda3/lib/python3.8/site-packages (from matplotlib>=3.0.0->mlxtend) (0.11.0)\n",
      "Requirement already satisfied: packaging>=20.0 in /opt/anaconda3/lib/python3.8/site-packages (from matplotlib>=3.0.0->mlxtend) (21.3)\n",
      "Requirement already satisfied: kiwisolver>=1.0.1 in /opt/anaconda3/lib/python3.8/site-packages (from matplotlib>=3.0.0->mlxtend) (1.4.2)\n",
      "Requirement already satisfied: pillow>=6.2.0 in /opt/anaconda3/lib/python3.8/site-packages (from matplotlib>=3.0.0->mlxtend) (9.0.1)\n",
      "Requirement already satisfied: python-dateutil>=2.7 in /opt/anaconda3/lib/python3.8/site-packages (from matplotlib>=3.0.0->mlxtend) (2.8.2)\n",
      "Requirement already satisfied: pyparsing>=2.2.1 in /opt/anaconda3/lib/python3.8/site-packages (from matplotlib>=3.0.0->mlxtend) (3.0.4)\n",
      "Requirement already satisfied: fonttools>=4.22.0 in /opt/anaconda3/lib/python3.8/site-packages (from matplotlib>=3.0.0->mlxtend) (4.33.3)\n",
      "Requirement already satisfied: pytz>=2020.1 in /opt/anaconda3/lib/python3.8/site-packages (from pandas>=0.24.2->mlxtend) (2021.3)\n",
      "Requirement already satisfied: six>=1.5 in /opt/anaconda3/lib/python3.8/site-packages (from python-dateutil>=2.7->matplotlib>=3.0.0->mlxtend) (1.16.0)\n",
      "Requirement already satisfied: threadpoolctl>=2.0.0 in /opt/anaconda3/lib/python3.8/site-packages (from scikit-learn>=0.20.3->mlxtend) (2.2.0)\n"
     ]
    }
   ],
   "source": [
    "!pip install mlxtend"
   ]
  },
  {
   "cell_type": "code",
   "execution_count": null,
   "id": "divine-period",
   "metadata": {},
   "outputs": [],
   "source": [
    "# !pip install mlxtend\n",
    "\n",
    "# В Колабе, возможно\n",
    "# !pip install mlxtend --upgrade"
   ]
  },
  {
   "cell_type": "code",
   "execution_count": 17,
   "id": "impressive-chamber",
   "metadata": {},
   "outputs": [
    {
     "data": {
      "image/png": "[encoded data removed]",
      "text/plain": [
       "<Figure size 720x576 with 1 Axes>"
      ]
     },
     "metadata": {
      "needs_background": "light"
     },
     "output_type": "display_data"
    }
   ],
   "source": [
    "import itertools\n",
    "\n",
    "import matplotlib.gridspec as gridspec\n",
    "import matplotlib.pyplot as plt\n",
    "\n",
    "from mlxtend.plotting import plot_decision_regions\n",
    "\n",
    "gs = gridspec.GridSpec(1, 2)\n",
    "\n",
    "fig = plt.figure(figsize=(10,8))\n",
    "\n",
    "labels = ['Logistic Regression']\n",
    "for clf, lab, grd in zip([lr],\n",
    "                         labels,\n",
    "                         itertools.product([0, 1], repeat=2)):\n",
    "\n",
    "    ax = plt.subplot(gs[grd[0], grd[1]])\n",
    "    fig = plot_decision_regions(X = np.array(X_train), y = np.array(y_train), clf=clf, legend=2)\n",
    "    plt.title(lab)\n",
    "\n",
    "plt.show()"
   ]
  },
  {
   "cell_type": "markdown",
   "id": "limiting-supply",
   "metadata": {},
   "source": [
    "**Задание 4.** Теперь посмотрим на решение задачи мягкой классификации. При помощи метода `predict_proba()` любой из обученных логистических регрессий сделайте предсказание вероятностей положительного класса."
   ]
  },
  {
   "cell_type": "code",
   "execution_count": 18,
   "id": "collected-shaft",
   "metadata": {},
   "outputs": [
    {
     "data": {
      "text/plain": [
       "array([ 1, -1,  1, -1, -1, -1,  1, -1, -1,  1, -1, -1,  1, -1, -1, -1, -1,\n",
       "       -1, -1, -1, -1,  1, -1, -1, -1, -1, -1, -1, -1, -1,  1,  1, -1, -1,\n",
       "        1,  1, -1, -1, -1,  1,  1, -1, -1, -1,  1])"
      ]
     },
     "execution_count": 18,
     "metadata": {},
     "output_type": "execute_result"
    }
   ],
   "source": [
    "pred"
   ]
  },
  {
   "cell_type": "code",
   "execution_count": 19,
   "id": "caca25d4",
   "metadata": {},
   "outputs": [
    {
     "data": {
      "text/plain": [
       "array([[0.29419641, 0.70580359],\n",
       "       [0.57205374, 0.42794626],\n",
       "       [0.46753539, 0.53246461],\n",
       "       [0.63769057, 0.36230943],\n",
       "       [0.90566268, 0.09433732],\n",
       "       [0.61624685, 0.38375315],\n",
       "       [0.19987553, 0.80012447],\n",
       "       [0.794531  , 0.205469  ],\n",
       "       [0.64209811, 0.35790189],\n",
       "       [0.39276962, 0.60723038],\n",
       "       [0.62791915, 0.37208085],\n",
       "       [0.97491743, 0.02508257],\n",
       "       [0.47229997, 0.52770003],\n",
       "       [0.588802  , 0.411198  ],\n",
       "       [0.52096167, 0.47903833],\n",
       "       [0.588802  , 0.411198  ],\n",
       "       [0.86625437, 0.13374563],\n",
       "       [0.7033706 , 0.2966294 ],\n",
       "       [0.54852924, 0.45147076],\n",
       "       [0.67891005, 0.32108995],\n",
       "       [0.84304049, 0.15695951],\n",
       "       [0.47324688, 0.52675312],\n",
       "       [0.85479728, 0.14520272],\n",
       "       [0.61081077, 0.38918923],\n",
       "       [0.93865417, 0.06134583],\n",
       "       [0.83687718, 0.16312282],\n",
       "       [0.83687718, 0.16312282],\n",
       "       [0.5133397 , 0.4866603 ],\n",
       "       [0.89395844, 0.10604156],\n",
       "       [0.90368558, 0.09631442],\n",
       "       [0.41112723, 0.58887277],\n",
       "       [0.1716065 , 0.8283935 ],\n",
       "       [0.78307504, 0.21692496],\n",
       "       [0.87652703, 0.12347297],\n",
       "       [0.1716065 , 0.8283935 ],\n",
       "       [0.25180161, 0.74819839],\n",
       "       [0.88953253, 0.11046747],\n",
       "       [0.9485894 , 0.0514106 ],\n",
       "       [0.9485894 , 0.0514106 ],\n",
       "       [0.43819931, 0.56180069],\n",
       "       [0.13505296, 0.86494704],\n",
       "       [0.77116431, 0.22883569],\n",
       "       [0.69044882, 0.30955118],\n",
       "       [0.57765686, 0.42234314],\n",
       "       [0.43819931, 0.56180069]])"
      ]
     },
     "execution_count": 19,
     "metadata": {},
     "output_type": "execute_result"
    }
   ],
   "source": [
    "lr.predict_proba(X_test)"
   ]
  },
  {
   "cell_type": "markdown",
   "id": "touched-resource",
   "metadata": {},
   "source": [
    "### Логистическая регрессия на менее приятных данных"
   ]
  },
  {
   "cell_type": "markdown",
   "id": "accessible-cleanup",
   "metadata": {},
   "source": [
    "Мы будем работать с [набором данных](https://www.kaggle.com/piyushgoyal443/red-wine-dataset?select=wineQualityReds.csv), содержащим информацию о характеристиках вина. Каждое наблюдение принадлежит к одному из 10 категорий качества вина, и наша задача заключается в том, что предсказать эту категорию. "
   ]
  },
  {
   "cell_type": "code",
   "execution_count": 4,
   "id": "multiple-humor",
   "metadata": {},
   "outputs": [
    {
     "data": {
      "text/html": [
       "<div>\n",
       "<style scoped>\n",
       "    .dataframe tbody tr th:only-of-type {\n",
       "        vertical-align: middle;\n",
       "    }\n",
       "\n",
       "    .dataframe tbody tr th {\n",
       "        vertical-align: top;\n",
       "    }\n",
       "\n",
       "    .dataframe thead th {\n",
       "        text-align: right;\n",
       "    }\n",
       "</style>\n",
       "<table border=\"1\" class=\"dataframe\">\n",
       "  <thead>\n",
       "    <tr style=\"text-align: right;\">\n",
       "      <th></th>\n",
       "      <th>fixed.acidity</th>\n",
       "      <th>volatile.acidity</th>\n",
       "      <th>citric.acid</th>\n",
       "      <th>residual.sugar</th>\n",
       "      <th>chlorides</th>\n",
       "      <th>free.sulfur.dioxide</th>\n",
       "      <th>total.sulfur.dioxide</th>\n",
       "      <th>density</th>\n",
       "      <th>pH</th>\n",
       "      <th>sulphates</th>\n",
       "      <th>alcohol</th>\n",
       "      <th>quality</th>\n",
       "    </tr>\n",
       "  </thead>\n",
       "  <tbody>\n",
       "    <tr>\n",
       "      <th>1</th>\n",
       "      <td>7.4</td>\n",
       "      <td>0.70</td>\n",
       "      <td>0.00</td>\n",
       "      <td>1.9</td>\n",
       "      <td>0.076</td>\n",
       "      <td>11.0</td>\n",
       "      <td>34.0</td>\n",
       "      <td>0.9978</td>\n",
       "      <td>3.51</td>\n",
       "      <td>0.56</td>\n",
       "      <td>9.4</td>\n",
       "      <td>5</td>\n",
       "    </tr>\n",
       "    <tr>\n",
       "      <th>2</th>\n",
       "      <td>7.8</td>\n",
       "      <td>0.88</td>\n",
       "      <td>0.00</td>\n",
       "      <td>2.6</td>\n",
       "      <td>0.098</td>\n",
       "      <td>25.0</td>\n",
       "      <td>67.0</td>\n",
       "      <td>0.9968</td>\n",
       "      <td>3.20</td>\n",
       "      <td>0.68</td>\n",
       "      <td>9.8</td>\n",
       "      <td>5</td>\n",
       "    </tr>\n",
       "    <tr>\n",
       "      <th>3</th>\n",
       "      <td>7.8</td>\n",
       "      <td>0.76</td>\n",
       "      <td>0.04</td>\n",
       "      <td>2.3</td>\n",
       "      <td>0.092</td>\n",
       "      <td>15.0</td>\n",
       "      <td>54.0</td>\n",
       "      <td>0.9970</td>\n",
       "      <td>3.26</td>\n",
       "      <td>0.65</td>\n",
       "      <td>9.8</td>\n",
       "      <td>5</td>\n",
       "    </tr>\n",
       "    <tr>\n",
       "      <th>4</th>\n",
       "      <td>11.2</td>\n",
       "      <td>0.28</td>\n",
       "      <td>0.56</td>\n",
       "      <td>1.9</td>\n",
       "      <td>0.075</td>\n",
       "      <td>17.0</td>\n",
       "      <td>60.0</td>\n",
       "      <td>0.9980</td>\n",
       "      <td>3.16</td>\n",
       "      <td>0.58</td>\n",
       "      <td>9.8</td>\n",
       "      <td>6</td>\n",
       "    </tr>\n",
       "    <tr>\n",
       "      <th>5</th>\n",
       "      <td>7.4</td>\n",
       "      <td>0.70</td>\n",
       "      <td>0.00</td>\n",
       "      <td>1.9</td>\n",
       "      <td>0.076</td>\n",
       "      <td>11.0</td>\n",
       "      <td>34.0</td>\n",
       "      <td>0.9978</td>\n",
       "      <td>3.51</td>\n",
       "      <td>0.56</td>\n",
       "      <td>9.4</td>\n",
       "      <td>5</td>\n",
       "    </tr>\n",
       "  </tbody>\n",
       "</table>\n",
       "</div>"
      ],
      "text/plain": [
       "   fixed.acidity  volatile.acidity  citric.acid  residual.sugar  chlorides  \\\n",
       "1            7.4              0.70         0.00             1.9      0.076   \n",
       "2            7.8              0.88         0.00             2.6      0.098   \n",
       "3            7.8              0.76         0.04             2.3      0.092   \n",
       "4           11.2              0.28         0.56             1.9      0.075   \n",
       "5            7.4              0.70         0.00             1.9      0.076   \n",
       "\n",
       "   free.sulfur.dioxide  total.sulfur.dioxide  density    pH  sulphates  \\\n",
       "1                 11.0                  34.0   0.9978  3.51       0.56   \n",
       "2                 25.0                  67.0   0.9968  3.20       0.68   \n",
       "3                 15.0                  54.0   0.9970  3.26       0.65   \n",
       "4                 17.0                  60.0   0.9980  3.16       0.58   \n",
       "5                 11.0                  34.0   0.9978  3.51       0.56   \n",
       "\n",
       "   alcohol  quality  \n",
       "1      9.4        5  \n",
       "2      9.8        5  \n",
       "3      9.8        5  \n",
       "4      9.8        6  \n",
       "5      9.4        5  "
      ]
     },
     "execution_count": 4,
     "metadata": {},
     "output_type": "execute_result"
    }
   ],
   "source": [
    "data = pd.read_csv('wineQualityReds.csv', index_col = 0)\n",
    "data.head()"
   ]
  },
  {
   "cell_type": "markdown",
   "id": "german-artwork",
   "metadata": {},
   "source": [
    "Как указано в описании набора, в нём нет пропущенных значений, и все переменные являются непрерывными. Целевая переменная – `quality`. "
   ]
  },
  {
   "cell_type": "markdown",
   "id": "crazy-moses",
   "metadata": {},
   "source": [
    "**Задание 1.** Перейдём к задаче бинарной классификации и будем предсказывать только наиболее популярную категорию качества. Закодируйте столбец `quality` так, чтобы наиболее частая категория (это категория 5) получила метку 1, а все прочие категории – метку -1."
   ]
  },
  {
   "cell_type": "code",
   "execution_count": 5,
   "id": "prepared-laser",
   "metadata": {},
   "outputs": [],
   "source": [
    "qual = data['quality'].copy()\n",
    "qual[qual != 5] = -1\n",
    "qual[qual == 5] = 1"
   ]
  },
  {
   "cell_type": "markdown",
   "id": "steady-ecology",
   "metadata": {},
   "source": [
    "**Задание 2.** Разделите признаки и целевую переменную. Разделите выборку на тренировочную и тестовую, долю тестовой выборки укажите равной 0.3. При помощи `StandardScaler` отмасштабируйте тренировочную и тестовую выборки. "
   ]
  },
  {
   "cell_type": "code",
   "execution_count": 6,
   "id": "beneficial-perry",
   "metadata": {},
   "outputs": [],
   "source": [
    "from sklearn.model_selection import train_test_split\n",
    "from sklearn.preprocessing import StandardScaler"
   ]
  },
  {
   "cell_type": "code",
   "execution_count": 7,
   "id": "grateful-thesis",
   "metadata": {},
   "outputs": [],
   "source": [
    "from sklearn.model_selection import train_test_split\n",
    "from sklearn.preprocessing import StandardScaler\n",
    "np.random.seed(123)\n",
    "\n",
    "X_train, X_test, y_train, y_test = train_test_split(data.drop('quality', axis = 1), qual)\n",
    "\n",
    "ss = StandardScaler()\n",
    "X_train = ss.fit_transform(X_train)\n",
    "X_test = ss.transform(X_test)"
   ]
  },
  {
   "cell_type": "markdown",
   "id": "quick-replica",
   "metadata": {},
   "source": [
    "**Задание 3.** Обучите логистическую регрессию. Убедитесь, что доля правильных ответов – не лучший вариант для нашей задачи и рассчитайте F-меру на тестовой выборке. "
   ]
  },
  {
   "cell_type": "code",
   "execution_count": 8,
   "id": "constitutional-hostel",
   "metadata": {},
   "outputs": [
    {
     "data": {
      "text/plain": [
       "LogisticRegression()"
      ]
     },
     "execution_count": 8,
     "metadata": {},
     "output_type": "execute_result"
    }
   ],
   "source": [
    "lr = LogisticRegression()\n",
    "lr.fit(X_train, y_train)"
   ]
  },
  {
   "cell_type": "code",
   "execution_count": 9,
   "id": "f1256221",
   "metadata": {},
   "outputs": [
    {
     "data": {
      "text/plain": [
       "-1    227\n",
       " 1    173\n",
       "Name: quality, dtype: int64"
      ]
     },
     "execution_count": 9,
     "metadata": {},
     "output_type": "execute_result"
    }
   ],
   "source": [
    "y_test.value_counts()"
   ]
  },
  {
   "cell_type": "code",
   "execution_count": 10,
   "id": "1c0a4a06",
   "metadata": {},
   "outputs": [
    {
     "data": {
      "text/plain": [
       "0.6315789473684211"
      ]
     },
     "execution_count": 10,
     "metadata": {},
     "output_type": "execute_result"
    }
   ],
   "source": [
    "from sklearn.metrics import f1_score\n",
    "f1_score(y_test, lr.predict(X_test))"
   ]
  },
  {
   "cell_type": "markdown",
   "id": "b3ff78cb",
   "metadata": {},
   "source": [
    "**Задание 4.** Проинтерпретируйте коэффициенты оценённой модели."
   ]
  },
  {
   "cell_type": "code",
   "execution_count": 11,
   "id": "b7c96d28",
   "metadata": {},
   "outputs": [
    {
     "data": {
      "text/plain": [
       "array([[-0.44434015,  0.28252526,  0.06307118, -0.22940958,  0.14603013,\n",
       "        -0.11738845,  0.56409574,  0.45928412, -0.19944872, -0.44992822,\n",
       "        -0.78322418]])"
      ]
     },
     "execution_count": 11,
     "metadata": {},
     "output_type": "execute_result"
    }
   ],
   "source": [
    "lr.coef_"
   ]
  },
  {
   "cell_type": "code",
   "execution_count": 12,
   "id": "17d35ec3",
   "metadata": {},
   "outputs": [
    {
     "data": {
      "text/plain": [
       "array([-0.49327585])"
      ]
     },
     "execution_count": 12,
     "metadata": {},
     "output_type": "execute_result"
    }
   ],
   "source": [
    "lr.intercept_"
   ]
  },
  {
   "cell_type": "markdown",
   "id": "a3207d18",
   "metadata": {},
   "source": [
    "**Задание 5.** Попробуйте поменять какие-либо гиперпараметры, чтобы добиться более высокого качества на тестовой выборке. "
   ]
  },
  {
   "cell_type": "code",
   "execution_count": 27,
   "id": "6fea750b",
   "metadata": {},
   "outputs": [
    {
     "data": {
      "text/plain": [
       "0.6296296296296298"
      ]
     },
     "execution_count": 27,
     "metadata": {},
     "output_type": "execute_result"
    }
   ],
   "source": [
    "lr2 = LogisticRegression(C = 10) # более слабая регуляризация\n",
    "lr2.fit(X_train, y_train)\n",
    "f1_score(y_test, lr2.predict(X_test))"
   ]
  },
  {
   "cell_type": "markdown",
   "id": "neutral-notebook",
   "metadata": {},
   "source": [
    "### ROC-кривая"
   ]
  },
  {
   "cell_type": "markdown",
   "id": "marine-parish",
   "metadata": {},
   "source": [
    "Ранее мы узнали, что помимо accuracy в задачах классификации так же используются precision, recall и f-мера. Теперь пришло время познакомиться с ещё одной метрикой – ROC AUC.\n",
    "\n",
    "Для начала вспомним, что мы работаем с матрицей ошибок:\n",
    "\n",
    "|       | alg = 1          | alg = -1    |\n",
    "|-------| -----------------|-------------|\n",
    "|y = 1  |TP                |FN           |\n",
    "|y = -1 |FP                | TN          |\n",
    "\n",
    "Определим следующие величины:\n",
    "\n",
    "$$\n",
    "TPR \\text{ (true positive rate, recall, sensitivity)} = \\dfrac{TP}{TP + FN}\n",
    "$$\n",
    "– доля правильно предсказанных объектов положительного класса.\n",
    "\n",
    "$$\n",
    "FPR \\text{ (false positive rate, 1 - specificity)} = \\dfrac{FP}{FP + TN}\n",
    "$$\n",
    "– доля неправильно предсказанных объектов отрицательного класса.\n",
    "\n",
    "Рассмотрим задачу мягкой классификации: мы предказываем вероятности принадлежности наблюдения к положительному и отрицательному классам. Тогда TPR и FPR будут зависеть от порога для вероятности, выше которого наблюдение будет отнесено к положительному классу. ROC-кривая строится в координатах $(FPR, TPR)$ и показывает комбинации TPR и FPR при всевозможных значениях порога. \n",
    "\n",
    "Для хорошего классификатора эта кривая является вогнутой, а для идеального классификатора она будет проходить через точку $(0, 1)$ (почему?).\n",
    "\n",
    "[<img src=\"https://upload.wikimedia.org/wikipedia/commons/6/6b/Roccurves.png\" alt=\"drawing\" width=\"350\"/>](https://ru.wikipedia.org/wiki/ROC-кривая)\n",
    "\n",
    "\n",
    "\n",
    "**Задание 1.** Постройте ROC-кривую для следующей выборки."
   ]
  },
  {
   "cell_type": "code",
   "execution_count": 20,
   "id": "convertible-leader",
   "metadata": {},
   "outputs": [],
   "source": [
    "# True labels\n",
    "y = [-1, 1, 1, -1, 1, 1]\n",
    "# Predicted labels\n",
    "p = [0.5, 0.1, 0.2, 0.9, 0.7, 0.1]"
   ]
  },
  {
   "cell_type": "markdown",
   "id": "worst-machinery",
   "metadata": {},
   "source": [
    "**Решение:**\n",
    "1. Упорядочим наблюдения по **убыванию** ответов алгоритма."
   ]
  },
  {
   "cell_type": "code",
   "execution_count": 21,
   "id": "desirable-bleeding",
   "metadata": {},
   "outputs": [],
   "source": [
    "y = [-1, 1, -1, 1, 1, 1]\n",
    "p = [0.9, 0.7, 0.5, 0.2, 0.1, 0.1]"
   ]
  },
  {
   "cell_type": "markdown",
   "id": "virtual-crack",
   "metadata": {},
   "source": [
    "2. Разобьём единичный квадрат на $(m, n)$ частей, где $m$ – число 1 в $y$, $n$ – число нулей. Стартуем из точки $(0, 0)$. Если значение $y$ равно 1, делаем шаг вверх, а если -1 – вправо. Понятно, что конечная точка нашего маршрута – точка $(1, 1)$.\n",
    "\n",
    "**Важный момент:** если у нескольких объектов значения предсказаний равны, а $y$ – различны, то мы должны сделать ход \"по диагонали\". \n",
    "\n",
    "Если построить кривую по этому алгоритму, то получим:"
   ]
  },
  {
   "cell_type": "code",
   "execution_count": 22,
   "id": "substantial-louis",
   "metadata": {},
   "outputs": [
    {
     "data": {
      "text/plain": [
       "<matplotlib.legend.Legend at 0x7fcb69c97df0>"
      ]
     },
     "execution_count": 22,
     "metadata": {},
     "output_type": "execute_result"
    },
    {
     "data": {
      "image/png": "[encoded data removed]",
      "text/plain": [
       "<Figure size 576x576 with 1 Axes>"
      ]
     },
     "metadata": {
      "needs_background": "light"
     },
     "output_type": "display_data"
    }
   ],
   "source": [
    "from sklearn.metrics import roc_curve, auc\n",
    "\n",
    "fpr, tpr, _ = roc_curve(y, p)\n",
    "\n",
    "plt.figure(figsize = (8, 8))\n",
    "plt.plot(fpr, tpr, label = 'ROC')\n",
    "plt.axvline(0.5, linestyle = 'dotted', c = 'red')\n",
    "plt.axhline(0.25, linestyle = 'dotted', c = 'red')\n",
    "plt.axhline(0.5, linestyle = 'dotted', c = 'red')\n",
    "plt.axhline(0.75, linestyle = 'dotted', c = 'red')\n",
    "plt.axhline(1.0, linestyle = 'dotted', c = 'red')\n",
    "plt.title('Красные линии показывают разбиение единичного квадрата на m и n частей')\n",
    "plt.legend()"
   ]
  },
  {
   "cell_type": "markdown",
   "id": "manufactured-lyric",
   "metadata": {},
   "source": [
    "3. Полученная кривая и является ROC-кривой. \n",
    "\n",
    "**(Почему этот алгоритм имеет смысл?)**"
   ]
  },
  {
   "cell_type": "markdown",
   "id": "arctic-scott",
   "metadata": {},
   "source": [
    "**Пример с диагональным шагом.**"
   ]
  },
  {
   "cell_type": "code",
   "execution_count": 23,
   "id": "wireless-worship",
   "metadata": {},
   "outputs": [],
   "source": [
    "p = [0.5, 0.1, 0.2, 0.6, 0.2, 0.3, 0.0]\n",
    "y = [-1,  -1,   -1, 1,    1,   1,   -1]"
   ]
  },
  {
   "cell_type": "code",
   "execution_count": 24,
   "id": "bizarre-farming",
   "metadata": {},
   "outputs": [],
   "source": [
    "fpr, tpr, _ = roc_curve(y, p)"
   ]
  },
  {
   "cell_type": "code",
   "execution_count": 25,
   "id": "likely-facial",
   "metadata": {},
   "outputs": [
    {
     "data": {
      "text/plain": [
       "<matplotlib.legend.Legend at 0x7fcb8acd4520>"
      ]
     },
     "execution_count": 25,
     "metadata": {},
     "output_type": "execute_result"
    },
    {
     "data": {
      "image/png": "[encoded data removed]",
      "text/plain": [
       "<Figure size 576x576 with 1 Axes>"
      ]
     },
     "metadata": {
      "needs_background": "light"
     },
     "output_type": "display_data"
    }
   ],
   "source": [
    "plt.figure(figsize = (8, 8))\n",
    "plt.plot(fpr, tpr, label = 'ROC')\n",
    "plt.axvline(0.25, linestyle = 'dotted', c = 'red')\n",
    "plt.axvline(0.5, linestyle = 'dotted', c = 'red')\n",
    "plt.axvline(0.75, linestyle = 'dotted', c = 'red')\n",
    "plt.axvline(1.0, linestyle = 'dotted', c = 'red')\n",
    "plt.axhline(0.33, linestyle = 'dotted', c = 'red')\n",
    "plt.axhline(0.66, linestyle = 'dotted', c = 'red')\n",
    "plt.axhline(1.0, linestyle = 'dotted', c = 'red')\n",
    "plt.title('Красные линии показывают разбиение единичного квадрата на m и n частей')\n",
    "plt.legend()"
   ]
  },
  {
   "cell_type": "markdown",
   "id": "present-hurricane",
   "metadata": {},
   "source": [
    "**Задание 2.** ROC AUC – площадь под ROC-кривой – равна доле пар наблюдений $(y = 1, y = -1)$, которые алгоритм верно упорядочил. Таким образом, чем больше ROC AUC, тем качественнее отработал классификатор. Вычислите ROC AUC для построенной ROC-кривой из первого примера. "
   ]
  },
  {
   "cell_type": "markdown",
   "id": "prescription-indiana",
   "metadata": {},
   "source": [
    "**Решение:**"
   ]
  },
  {
   "cell_type": "code",
   "execution_count": 52,
   "id": "complicated-istanbul",
   "metadata": {},
   "outputs": [
    {
     "data": {
      "text/plain": [
       "0.125"
      ]
     },
     "execution_count": 52,
     "metadata": {},
     "output_type": "execute_result"
    }
   ],
   "source": [
    "0.25 * 0.5"
   ]
  },
  {
   "cell_type": "markdown",
   "id": "colored-hebrew",
   "metadata": {},
   "source": [
    "**Задание 3.** Как выглядит ROC-кривая для случайного классификатора? \n",
    "\n",
    "\n",
    "**Задание 4.** Как по ROC-кривой выбрать порог для бинаризации?"
   ]
  },
  {
   "cell_type": "markdown",
   "id": "expensive-spyware",
   "metadata": {},
   "source": [
    "В `sklearn` реализовано вычисление значений ROC-кривой и площади под ней. "
   ]
  },
  {
   "cell_type": "code",
   "execution_count": 33,
   "id": "corresponding-target",
   "metadata": {},
   "outputs": [],
   "source": [
    "from sklearn.metrics import roc_curve, auc"
   ]
  },
  {
   "cell_type": "markdown",
   "id": "premier-merchandise",
   "metadata": {},
   "source": [
    "**Важно:** в `roc_curve` передаются предсказанные вероятности!"
   ]
  },
  {
   "cell_type": "markdown",
   "id": "searching-crystal",
   "metadata": {},
   "source": [
    "**Задание 5.** Постройте ROC-кривую и рассчитайте площадь под ней для логистической регрессии на данных о вине. О чём говорит такая форма кривой?"
   ]
  },
  {
   "cell_type": "code",
   "execution_count": 34,
   "id": "driving-doubt",
   "metadata": {},
   "outputs": [
    {
     "name": "stdout",
     "output_type": "stream",
     "text": [
      "AUC ROC 0.771562\n"
     ]
    },
    {
     "data": {
      "image/png": "[encoded data removed]",
      "text/plain": [
       "<Figure size 432x288 with 1 Axes>"
      ]
     },
     "metadata": {
      "needs_background": "light"
     },
     "output_type": "display_data"
    }
   ],
   "source": [
    "lr = LogisticRegression()\n",
    "lr.fit(X_train, y_train)\n",
    "fpr, tpr, _ = roc_curve(y_test, lr.predict_proba(X_test)[:, 1])\n",
    "plt.plot(fpr, tpr)\n",
    "print('AUC ROC %f' % auc(fpr, tpr))"
   ]
  },
  {
   "cell_type": "markdown",
   "id": "narrow-martial",
   "metadata": {},
   "source": [
    "### Бонус для самых смелых: вывод логистической регрессии через правдоподобие\n",
    "\n",
    "Перекодируем $y$ так, что её возможные значения – это 0 и 1. Теперь $y$ является случайной величиной из распределения Бернулли. Тогда сигмоида задаёт условную вероятность принадлежности $y$ к положительному классу:\n",
    "\n",
    "$$\n",
    "P(y_i = 1 | x_i, w) = \\sigma(x_i, w).\n",
    "$$\n",
    "\n",
    "Будем искать оценку коэффициентов $w$ при помощи метода максимального правдоподобия.\n",
    "\n",
    "$$\n",
    "\\mathcal{L} = \\sigma(x_i, w)^{\\sum_i y_i}(1 - \\sigma(x_i, w))^{\\sum_i 1 - y_i}\n",
    "$$\n",
    "\n",
    "Логарифмируем:\n",
    "\n",
    "$$\n",
    "\\mathcal{l} = \\sum_i y_i \\log\\sigma(x_i, w) + (1 - y_i)(1 - \\log\\sigma(x_i, w))\n",
    "$$\n",
    "\n",
    "Если теперь взять среднее, то мы получим log-loss, взятый со знаком минус. Таким образом, минимизация функции потерь в логистической регрессии эквивалентна  максимизации правдоподобия в задаче нахождения оценок $w$!"
   ]
  }
 ],
 "metadata": {
  "kernelspec": {
   "display_name": "Python 3 (ipykernel)",
   "language": "python",
   "name": "python3"
  },
  "language_info": {
   "codemirror_mode": {
    "name": "ipython",
    "version": 3
   },
   "file_extension": ".py",
   "mimetype": "text/x-python",
   "name": "python",
   "nbconvert_exporter": "python",
   "pygments_lexer": "ipython3",
   "version": "3.8.13"
  }
 },
 "nbformat": 4,
 "nbformat_minor": 5
}
