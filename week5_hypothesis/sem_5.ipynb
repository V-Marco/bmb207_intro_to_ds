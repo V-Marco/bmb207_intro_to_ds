{
 "cells": [
  {
   "cell_type": "markdown",
   "metadata": {},
   "source": [
    "## Семинар 5 - Проверка гипотез"
   ]
  },
  {
   "cell_type": "markdown",
   "metadata": {},
   "source": [
    "*Где используется проверка гипотез?*\n",
    "\n",
    " * в медицине для изучения эффективности клинических испытаний\n",
    " * маркетологами, менеджерами, дизайнерами при A/B тестировании\n",
    " * в машинном обучении для отбора признаков\n",
    " * в курсах по математической статистике и анализу данных"
   ]
  },
  {
   "cell_type": "markdown",
   "metadata": {},
   "source": [
    "<center>\n",
    "<img src=\"final-1.jpg\" width=\"800\" height=\"400\">\n",
    "</center>"
   ]
  },
  {
   "cell_type": "markdown",
   "metadata": {},
   "source": [
    "*Теперь давайте вспомним!*"
   ]
  },
  {
   "cell_type": "markdown",
   "metadata": {},
   "source": [
    "**Статистическая гипотеза** — это определённое предположение о распределении вероятностей, лежащем в основе наблюдаемой выборки данных."
   ]
  },
  {
   "cell_type": "markdown",
   "metadata": {},
   "source": [
    "**Проверка статистической гипотезы** — это процесс принятия решения о том, противоречит ли рассматриваемая статистическая гипотеза наблюдаемой выборке данных."
   ]
  },
  {
   "cell_type": "markdown",
   "metadata": {},
   "source": [
    "**Статистический тест или  критерий** — строгое математическое правило, по которому принимается или отвергается статистическая гипотеза."
   ]
  },
  {
   "cell_type": "markdown",
   "metadata": {},
   "source": [
    "Если гипотез всего две, то одну из них принято называть основной, а другую — альтернативой, или отклонением от основной гипотезы.\n",
    "\n",
    "$$ H_0 - \\textit{основная гипотеза}$$ \n",
    "$$ H_a - \\textit{альтернативная гипотеза}$$"
   ]
  },
  {
   "cell_type": "markdown",
   "metadata": {},
   "source": [
    "<center>\n",
    "<img src=\"alter_h.png\" width=\"800\" height=\"400\">\n",
    "</center>"
   ]
  },
  {
   "cell_type": "markdown",
   "metadata": {},
   "source": [
    "\n",
    "\n",
    "Типы гипотез:\n",
    "\n",
    "* Выбор из нескольких простых гипотез:\n",
    "\n",
    "$$ H_1: \\{F = F_1\\} $$\n",
    "$$ H_2: \\{F = F_2\\} $$\n",
    "\n",
    "* Простая основная гипотеза и сложная альтернатива:\n",
    "\n",
    "$$ H_1: \\{F = F_1\\} $$\n",
    "$$ H_2: \\{F \\neq F_1\\} $$\n",
    "\n",
    "* Сложная основная гипотеза и сложная альтернатива:\n",
    "\n",
    "$$ H_1: \\{F \\in \\mathbb{F}\\} $$\n",
    "$$ H_2: \\{F \\notin \\mathbb{F}\\} $$\n",
    "\n",
    "* а также гипотезы однородности, независимости и случайности выборок\n"
   ]
  },
  {
   "cell_type": "markdown",
   "metadata": {},
   "source": [
    "**Важно помнить:**\n",
    "\n",
    "* Статистический тест не отвечает на вопрос, верна ли гипотеза, а выясняет противоречат ли имеющиеся данные выдвинутой гипотезе.\n",
    "\n",
    "* Вывод «данные противоречат гипотезе» всегда весомее, чем вывод «данные не противоречат гипотезе»"
   ]
  },
  {
   "cell_type": "markdown",
   "metadata": {},
   "source": [
    "<center>\n",
    "<img src=\"sem_5_p2.png\" width=\"800\" height=\"400\">\n",
    "</center>"
   ]
  },
  {
   "cell_type": "markdown",
   "metadata": {},
   "source": [
    "\n",
    "**Самые популярные тесты:**\n",
    "\n",
    "* Z-тест\n",
    "* T-тест\n",
    "* ANOVA\n",
    "* Хи-квадрат тест \n",
    "\n",
    "В данном семинаре будем использовать первые два: Z-тест и T-тест"
   ]
  },
  {
   "cell_type": "markdown",
   "metadata": {},
   "source": [
    "* T-тест: сравнение двух групп/категорий числовых переменных с небольшим размером выборки\n",
    "* Z-тест: сравнение двух групп/категорий числовых переменных с большим размером выборки\n",
    "* Тест ANOVA: сравнение разницы между двумя или более группами/категориями числовых переменных\n",
    "* Тест Chi-Squared: исследование взаимосвязи между двумя категориальными переменными\n",
    "* Корреляция: исследование взаимосвязи между двумя числовыми переменными"
   ]
  },
  {
   "cell_type": "markdown",
   "metadata": {},
   "source": [
    "**Простой пример с монеткой**\n",
    "\n",
    "У вас есть монета, и вы не знаете, \"правильная\" ли она.\n",
    "\n",
    "$$ H_0: \\textit{монета правильная} $$ \n",
    "$$ H_a: \\textit{монета неправильная} $$ \n",
    "\n",
    "\n",
    "\n"
   ]
  },
  {
   "cell_type": "markdown",
   "metadata": {},
   "source": [
    "## 4 шага для проверки гипотезы"
   ]
  },
  {
   "cell_type": "markdown",
   "metadata": {},
   "source": [
    "Шаг 1: Сформулировать гипотезу\n",
    "\n",
    "Шаг 2: Выбрать критерий\n",
    "\n",
    "Шаг 3: Посчитать тестовую статистику\n",
    "\n",
    "Шаг 4: Сделать вывод"
   ]
  },
  {
   "cell_type": "markdown",
   "metadata": {},
   "source": [
    "**Разберем на примере** *(особенно актуальном для студентов)*"
   ]
  },
  {
   "cell_type": "markdown",
   "metadata": {},
   "source": [
    "## Z-тест"
   ]
  },
  {
   "cell_type": "markdown",
   "metadata": {},
   "source": [
    "Для применения данного критерия необходимо, чтобы:\n",
    "\n",
    "* исходные данные имели **нормальное распределение**\n",
    "* была **известна дисперсия** генеральной совокупности"
   ]
  },
  {
   "cell_type": "markdown",
   "metadata": {},
   "source": [
    "Проверим гипотезу, что **в среднем человек спит 7 часов в сутки.**"
   ]
  },
  {
   "cell_type": "markdown",
   "metadata": {},
   "source": [
    "Тогда генеральная совокупность - это все люди.\n",
    "\n",
    "Предположим, что мы провели опрос и выяснили, что в среднем опрошенные респонденты спят 7.5 часов, что на полчаса больше, чем мы изначально предположили, а стандартное отклонение равно 1 часу.\n",
    "\n",
    "Теперь необходимо сформулировать гипотезу. \n",
    "\n",
    "$$ H_0: E(\\text{продолжительность сна}) = \\mu = 7 \\textit{, в среднем человек спит 7 часов в сутки}$$ \n",
    "\n",
    "Для альтернативной гипотезы есть 3 варианта: \n",
    "\n",
    "$$ H_a: \\mu \\neq 7 \\textit{, в среднем человек спит не 7 часов в сутки}$$ \n",
    "\n",
    "$$ H_a: \\mu > 7 \\textit{, в среднем человек спит больше 7 часов в сутки}$$ \n",
    "\n",
    "$$ H_a: \\mu < 7 \\textit{, в среднем человек спит меньше 7 часов в сутки}$$ \n",
    "\n",
    "\n",
    "\n"
   ]
  },
  {
   "cell_type": "markdown",
   "metadata": {},
   "source": [
    "**Шаг 1**\n",
    "\n",
    "Выберем первый вариант альтернативной гипотезы:\n",
    "$$ H_0: \\mu = 7 $$ \n",
    "$$ H_a: \\mu \\neq 7 $$ "
   ]
  },
  {
   "cell_type": "markdown",
   "metadata": {},
   "source": [
    "**Шаг 2**\n",
    "\n",
    "Зафиксируем уровень значимости: $\\alpha = 5\\%$"
   ]
  },
  {
   "cell_type": "markdown",
   "metadata": {},
   "source": [
    "Так как при альтернативной гипотезе значение может быть как больше, так и меньше 7, тест будет двусторонний.\n",
    "Уровень доверия 95% говорит о том, что в 95% случаев мы не отвергаем основную гипотезу.\n",
    "Тогда по 2.5% будет приходиться на хвосты распределения на картинке, то есть на области, где основная гипотеза отвергается."
   ]
  },
  {
   "cell_type": "markdown",
   "metadata": {},
   "source": [
    "<center>\n",
    "<img src=\"Z-2_tailed.png\" width=\"800\" height=\"400\">\n",
    "</center>"
   ]
  },
  {
   "cell_type": "markdown",
   "metadata": {},
   "source": [
    "Чтобы найти критические значения, начиная с которых будет отвергаться основная гипотеза, воспользуемся таблицей нормального распределения и выберем значение, которое приближает площадь под кривой к 0.0250. В данном случае это значение равно 1.96.\n",
    "Если значение нашей статистики больше 1.96 стандартных отклонений или меньше -1.96 стандартных отклонений, мы будем находиться в зоне отклонения и основная гипотеза будет отвергаться."
   ]
  },
  {
   "cell_type": "markdown",
   "metadata": {},
   "source": [
    "<center>\n",
    "<img src=\"n_table.png\" width=\"800\" height=\"400\">\n",
    "</center>"
   ]
  },
  {
   "cell_type": "markdown",
   "metadata": {},
   "source": [
    "Границы, где основная гипотеза не отвергается определены: [-1.96, 1.96]"
   ]
  },
  {
   "cell_type": "code",
   "execution_count": 1,
   "metadata": {},
   "outputs": [],
   "source": [
    "# импорт библиотек\n",
    "import numpy as np \n",
    "import pandas as pd    \n",
    "from scipy.stats import norm"
   ]
  },
  {
   "cell_type": "code",
   "execution_count": 6,
   "metadata": {},
   "outputs": [
    {
     "data": {
      "text/plain": [
       "-1.9599639845400545"
      ]
     },
     "execution_count": 6,
     "metadata": {},
     "output_type": "execute_result"
    }
   ],
   "source": [
    "norm.ppf(0.025)"
   ]
  },
  {
   "cell_type": "code",
   "execution_count": 86,
   "metadata": {},
   "outputs": [
    {
     "name": "stdout",
     "output_type": "stream",
     "text": [
      "-1.9599639845400545 1.959963984540054\n"
     ]
    }
   ],
   "source": [
    "print(norm.ppf(0.025),norm.ppf(0.975))"
   ]
  },
  {
   "cell_type": "markdown",
   "metadata": {},
   "source": [
    "**Шаг 3**\n",
    "\n",
    "Теперь посчитаем тестовую статистику (предполагаем 10 наблюдений).\n",
    "\n",
    "$$ Z_{stat} = \\frac{M - \\mu}{\\sigma / \\sqrt{n}} = \\frac{7.5 - 7}{1 / \\sqrt{10}} = 1.58 $$"
   ]
  },
  {
   "cell_type": "markdown",
   "metadata": {},
   "source": [
    "**Шаг 4**\n",
    "\n",
    "Осталось только сделать вывод: тестовая статистика равна 1.58 и принадлежит интервалу [-1.96, 1.96].\n",
    "\n",
    "Следовательно, основная гипотеза о том, что в среднем человек спит 7 часов в сутки, не отвергается.\n"
   ]
  },
  {
   "cell_type": "markdown",
   "metadata": {},
   "source": [
    "**Задание**\n",
    "\n",
    "А теперь предположите, что опрос проводился среди студентов ВШЭ во время сессии.\n",
    "Проведите повторный тест. Изменился ли Ваш ответ?"
   ]
  },
  {
   "cell_type": "markdown",
   "metadata": {},
   "source": [
    "**Переходим к коду:**"
   ]
  },
  {
   "cell_type": "code",
   "execution_count": 26,
   "metadata": {},
   "outputs": [],
   "source": [
    "from statsmodels.stats.weightstats import ztest\n",
    "\n"
   ]
  },
  {
   "cell_type": "code",
   "execution_count": 10,
   "metadata": {},
   "outputs": [
    {
     "data": {
      "text/plain": [
       "(1.4911351956845575, 0.13592600350150816)"
      ]
     },
     "execution_count": 10,
     "metadata": {},
     "output_type": "execute_result"
    }
   ],
   "source": [
    "from statsmodels.stats.weightstats import ztest\n",
    "\n",
    "# сгенерируем данные из нормального распределения с заданными параметрами\n",
    "\n",
    "mu, sigma = 7.5, 1\n",
    "\n",
    "data = np.random.normal(mu, sigma, 10)\n",
    "\n",
    "# Z-тест:\n",
    "#   data - выборка\n",
    "#   value - значение нулевой гипотезы\n",
    "#   alternative - тип альтернативной гипотезы: 'two-sided', 'larger', 'smaller'\n",
    "\n",
    "result = ztest(data, value = 7.0, alternative = 'two-sided')\n",
    "\n",
    "#print(f'Z-statistics = {round(result[0],3)}\\\n",
    "#        \\n p-value = {round(result[1],3)}')\n",
    "result"
   ]
  },
  {
   "cell_type": "markdown",
   "metadata": {},
   "source": [
    "Про **p-value** будем подробнее говорить на следующем семинаре, но забегая немного вперед, фактически, это вероятность ошибки при отклонении нулевой гипотезы или наименьшее значение уровня значимости, для которого рассчитанная статистика ведет к отказу от нулевой гипотезы."
   ]
  },
  {
   "cell_type": "markdown",
   "metadata": {},
   "source": [
    "Задание на Z-test: поэкспериментируйте с типом альтернативной гипотезы"
   ]
  },
  {
   "cell_type": "code",
   "execution_count": 13,
   "metadata": {},
   "outputs": [
    {
     "data": {
      "text/plain": [
       "(1.4911351956845575, 0.06796300175075408)"
      ]
     },
     "execution_count": 13,
     "metadata": {},
     "output_type": "execute_result"
    }
   ],
   "source": [
    "result = ztest(data, value = 7.0, alternative = 'larger')\n",
    "result"
   ]
  },
  {
   "cell_type": "markdown",
   "metadata": {},
   "source": [
    "**Задача**\n",
    "\n",
    "Студенты в конце учебного года сдают итоговое тестирование по английскому языку по 10-бальной шкале. \n",
    "Вы предполагаете, что средняя оценка равна 6 и решаете опросить несколько старшекурсников.\n",
    "Получилась следующая выборка: 9, 7, 5, 10, 4, 6, 8.\n",
    "Также из наблюдений прошлых лет известно, что дисперсия равна 1.\n",
    "\n",
    "Проверьте гипотезу, что среднее равно 6 на уровне значимости 1% против односторонней альтернативы, что средний балл больше 6."
   ]
  },
  {
   "cell_type": "code",
   "execution_count": 16,
   "metadata": {},
   "outputs": [
    {
     "data": {
      "text/plain": [
       "2.6457513110645907"
      ]
     },
     "execution_count": 16,
     "metadata": {},
     "output_type": "execute_result"
    }
   ],
   "source": [
    "X = [9, 7, 5, 10, 4, 6, 8]\n",
    "\n",
    "# H0: mu = 6\n",
    "# H1: mu > 6\n",
    "\n",
    "Z = (np.mean(X) - 6) / (1 / np.sqrt(7))\n",
    "Z"
   ]
  },
  {
   "cell_type": "code",
   "execution_count": 17,
   "metadata": {},
   "outputs": [
    {
     "data": {
      "text/plain": [
       "2.3263478740408408"
      ]
     },
     "execution_count": 17,
     "metadata": {},
     "output_type": "execute_result"
    }
   ],
   "source": [
    "norm.ppf(0.99) # H0 отвергается на уровне значимости 1%"
   ]
  },
  {
   "cell_type": "code",
   "execution_count": null,
   "metadata": {},
   "outputs": [],
   "source": [
    "# С автоматическим тестом"
   ]
  },
  {
   "cell_type": "code",
   "execution_count": 23,
   "metadata": {},
   "outputs": [
    {
     "data": {
      "text/plain": [
       "4.0"
      ]
     },
     "execution_count": 23,
     "metadata": {},
     "output_type": "execute_result"
    }
   ],
   "source": [
    "np.var(X)"
   ]
  },
  {
   "cell_type": "code",
   "execution_count": 22,
   "metadata": {},
   "outputs": [
    {
     "data": {
      "text/plain": [
       "(1.224744871391589, 0.11033568095992347)"
      ]
     },
     "execution_count": 22,
     "metadata": {},
     "output_type": "execute_result"
    }
   ],
   "source": [
    "ztest(X, value = 6, alternative = 'larger')"
   ]
  },
  {
   "cell_type": "markdown",
   "metadata": {},
   "source": [
    "**Теперь немного о финансах...**"
   ]
  },
  {
   "cell_type": "markdown",
   "metadata": {},
   "source": [
    " Загрузим данные котировок акций и проверим гипотезу на реальных данных."
   ]
  },
  {
   "cell_type": "code",
   "execution_count": 24,
   "metadata": {},
   "outputs": [
    {
     "name": "stdout",
     "output_type": "stream",
     "text": [
      "Collecting quandl\n",
      "  Downloading Quandl-3.7.0-py2.py3-none-any.whl (26 kB)\n",
      "Collecting inflection>=0.3.1\n",
      "  Downloading inflection-0.5.1-py2.py3-none-any.whl (9.5 kB)\n",
      "Requirement already satisfied: numpy>=1.8 in /opt/anaconda3/lib/python3.8/site-packages (from quandl) (1.18.1)\n",
      "Requirement already satisfied: more-itertools in /opt/anaconda3/lib/python3.8/site-packages (from quandl) (8.7.0)\n",
      "Requirement already satisfied: requests>=2.7.0 in /opt/anaconda3/lib/python3.8/site-packages (from quandl) (2.25.1)\n",
      "Requirement already satisfied: six in /opt/anaconda3/lib/python3.8/site-packages (from quandl) (1.15.0)\n",
      "Requirement already satisfied: pandas>=0.14 in /opt/anaconda3/lib/python3.8/site-packages (from quandl) (1.2.3)\n",
      "Requirement already satisfied: python-dateutil in /opt/anaconda3/lib/python3.8/site-packages (from quandl) (2.8.1)\n",
      "Requirement already satisfied: pytz>=2017.3 in /opt/anaconda3/lib/python3.8/site-packages (from pandas>=0.14->quandl) (2021.1)\n",
      "Requirement already satisfied: urllib3<1.27,>=1.21.1 in /opt/anaconda3/lib/python3.8/site-packages (from requests>=2.7.0->quandl) (1.26.3)\n",
      "Requirement already satisfied: certifi>=2017.4.17 in /opt/anaconda3/lib/python3.8/site-packages (from requests>=2.7.0->quandl) (2020.12.5)\n",
      "Requirement already satisfied: chardet<5,>=3.0.2 in /opt/anaconda3/lib/python3.8/site-packages (from requests>=2.7.0->quandl) (4.0.0)\n",
      "Requirement already satisfied: idna<3,>=2.5 in /opt/anaconda3/lib/python3.8/site-packages (from requests>=2.7.0->quandl) (2.10)\n",
      "Installing collected packages: inflection, quandl\n",
      "Successfully installed inflection-0.5.1 quandl-3.7.0\n"
     ]
    }
   ],
   "source": [
    "!pip install quandl"
   ]
  },
  {
   "cell_type": "code",
   "execution_count": 16,
   "metadata": {},
   "outputs": [
    {
     "name": "stdout",
     "output_type": "stream",
     "text": [
      "<class 'pandas.core.frame.DataFrame'>\n",
      "DatetimeIndex: 9400 entries, 1980-12-12 to 2018-03-27\n",
      "Data columns (total 12 columns):\n",
      " #   Column       Non-Null Count  Dtype  \n",
      "---  ------       --------------  -----  \n",
      " 0   Open         9400 non-null   float64\n",
      " 1   High         9400 non-null   float64\n",
      " 2   Low          9400 non-null   float64\n",
      " 3   Close        9400 non-null   float64\n",
      " 4   Volume       9400 non-null   float64\n",
      " 5   Ex-Dividend  9400 non-null   float64\n",
      " 6   Split Ratio  9400 non-null   float64\n",
      " 7   Adj. Open    9400 non-null   float64\n",
      " 8   Adj. High    9400 non-null   float64\n",
      " 9   Adj. Low     9400 non-null   float64\n",
      " 10  Adj. Close   9400 non-null   float64\n",
      " 11  Adj. Volume  9400 non-null   float64\n",
      "dtypes: float64(12)\n",
      "memory usage: 954.7 KB\n",
      "None\n"
     ]
    }
   ],
   "source": [
    "import quandl\n",
    "# Загрузим данные котировок акций Apple с Quandl\n",
    "data = quandl.get('WIKI/AAPL')\n",
    "print(data.info())"
   ]
  },
  {
   "cell_type": "code",
   "execution_count": 17,
   "metadata": {},
   "outputs": [
    {
     "data": {
      "text/html": [
       "<div>\n",
       "<style scoped>\n",
       "    .dataframe tbody tr th:only-of-type {\n",
       "        vertical-align: middle;\n",
       "    }\n",
       "\n",
       "    .dataframe tbody tr th {\n",
       "        vertical-align: top;\n",
       "    }\n",
       "\n",
       "    .dataframe thead th {\n",
       "        text-align: right;\n",
       "    }\n",
       "</style>\n",
       "<table border=\"1\" class=\"dataframe\">\n",
       "  <thead>\n",
       "    <tr style=\"text-align: right;\">\n",
       "      <th></th>\n",
       "      <th>Open</th>\n",
       "      <th>High</th>\n",
       "      <th>Low</th>\n",
       "      <th>Close</th>\n",
       "      <th>Volume</th>\n",
       "      <th>Ex-Dividend</th>\n",
       "      <th>Split Ratio</th>\n",
       "      <th>Adj. Open</th>\n",
       "      <th>Adj. High</th>\n",
       "      <th>Adj. Low</th>\n",
       "      <th>Adj. Close</th>\n",
       "      <th>Adj. Volume</th>\n",
       "    </tr>\n",
       "    <tr>\n",
       "      <th>Date</th>\n",
       "      <th></th>\n",
       "      <th></th>\n",
       "      <th></th>\n",
       "      <th></th>\n",
       "      <th></th>\n",
       "      <th></th>\n",
       "      <th></th>\n",
       "      <th></th>\n",
       "      <th></th>\n",
       "      <th></th>\n",
       "      <th></th>\n",
       "      <th></th>\n",
       "    </tr>\n",
       "  </thead>\n",
       "  <tbody>\n",
       "    <tr>\n",
       "      <th>1980-12-12</th>\n",
       "      <td>28.75</td>\n",
       "      <td>28.87</td>\n",
       "      <td>28.75</td>\n",
       "      <td>28.750</td>\n",
       "      <td>2093900.0</td>\n",
       "      <td>0.0</td>\n",
       "      <td>1.0</td>\n",
       "      <td>0.422706</td>\n",
       "      <td>0.424470</td>\n",
       "      <td>0.422706</td>\n",
       "      <td>0.422706</td>\n",
       "      <td>117258400.0</td>\n",
       "    </tr>\n",
       "    <tr>\n",
       "      <th>1980-12-15</th>\n",
       "      <td>27.38</td>\n",
       "      <td>27.38</td>\n",
       "      <td>27.25</td>\n",
       "      <td>27.250</td>\n",
       "      <td>785200.0</td>\n",
       "      <td>0.0</td>\n",
       "      <td>1.0</td>\n",
       "      <td>0.402563</td>\n",
       "      <td>0.402563</td>\n",
       "      <td>0.400652</td>\n",
       "      <td>0.400652</td>\n",
       "      <td>43971200.0</td>\n",
       "    </tr>\n",
       "    <tr>\n",
       "      <th>1980-12-16</th>\n",
       "      <td>25.37</td>\n",
       "      <td>25.37</td>\n",
       "      <td>25.25</td>\n",
       "      <td>25.250</td>\n",
       "      <td>472000.0</td>\n",
       "      <td>0.0</td>\n",
       "      <td>1.0</td>\n",
       "      <td>0.373010</td>\n",
       "      <td>0.373010</td>\n",
       "      <td>0.371246</td>\n",
       "      <td>0.371246</td>\n",
       "      <td>26432000.0</td>\n",
       "    </tr>\n",
       "    <tr>\n",
       "      <th>1980-12-17</th>\n",
       "      <td>25.87</td>\n",
       "      <td>26.00</td>\n",
       "      <td>25.87</td>\n",
       "      <td>25.870</td>\n",
       "      <td>385900.0</td>\n",
       "      <td>0.0</td>\n",
       "      <td>1.0</td>\n",
       "      <td>0.380362</td>\n",
       "      <td>0.382273</td>\n",
       "      <td>0.380362</td>\n",
       "      <td>0.380362</td>\n",
       "      <td>21610400.0</td>\n",
       "    </tr>\n",
       "    <tr>\n",
       "      <th>1980-12-18</th>\n",
       "      <td>26.63</td>\n",
       "      <td>26.75</td>\n",
       "      <td>26.63</td>\n",
       "      <td>26.630</td>\n",
       "      <td>327900.0</td>\n",
       "      <td>0.0</td>\n",
       "      <td>1.0</td>\n",
       "      <td>0.391536</td>\n",
       "      <td>0.393300</td>\n",
       "      <td>0.391536</td>\n",
       "      <td>0.391536</td>\n",
       "      <td>18362400.0</td>\n",
       "    </tr>\n",
       "    <tr>\n",
       "      <th>...</th>\n",
       "      <td>...</td>\n",
       "      <td>...</td>\n",
       "      <td>...</td>\n",
       "      <td>...</td>\n",
       "      <td>...</td>\n",
       "      <td>...</td>\n",
       "      <td>...</td>\n",
       "      <td>...</td>\n",
       "      <td>...</td>\n",
       "      <td>...</td>\n",
       "      <td>...</td>\n",
       "      <td>...</td>\n",
       "    </tr>\n",
       "    <tr>\n",
       "      <th>2018-03-21</th>\n",
       "      <td>175.04</td>\n",
       "      <td>175.09</td>\n",
       "      <td>171.26</td>\n",
       "      <td>171.270</td>\n",
       "      <td>35247358.0</td>\n",
       "      <td>0.0</td>\n",
       "      <td>1.0</td>\n",
       "      <td>175.040000</td>\n",
       "      <td>175.090000</td>\n",
       "      <td>171.260000</td>\n",
       "      <td>171.270000</td>\n",
       "      <td>35247358.0</td>\n",
       "    </tr>\n",
       "    <tr>\n",
       "      <th>2018-03-22</th>\n",
       "      <td>170.00</td>\n",
       "      <td>172.68</td>\n",
       "      <td>168.60</td>\n",
       "      <td>168.845</td>\n",
       "      <td>41051076.0</td>\n",
       "      <td>0.0</td>\n",
       "      <td>1.0</td>\n",
       "      <td>170.000000</td>\n",
       "      <td>172.680000</td>\n",
       "      <td>168.600000</td>\n",
       "      <td>168.845000</td>\n",
       "      <td>41051076.0</td>\n",
       "    </tr>\n",
       "    <tr>\n",
       "      <th>2018-03-23</th>\n",
       "      <td>168.39</td>\n",
       "      <td>169.92</td>\n",
       "      <td>164.94</td>\n",
       "      <td>164.940</td>\n",
       "      <td>40248954.0</td>\n",
       "      <td>0.0</td>\n",
       "      <td>1.0</td>\n",
       "      <td>168.390000</td>\n",
       "      <td>169.920000</td>\n",
       "      <td>164.940000</td>\n",
       "      <td>164.940000</td>\n",
       "      <td>40248954.0</td>\n",
       "    </tr>\n",
       "    <tr>\n",
       "      <th>2018-03-26</th>\n",
       "      <td>168.07</td>\n",
       "      <td>173.10</td>\n",
       "      <td>166.44</td>\n",
       "      <td>172.770</td>\n",
       "      <td>36272617.0</td>\n",
       "      <td>0.0</td>\n",
       "      <td>1.0</td>\n",
       "      <td>168.070000</td>\n",
       "      <td>173.100000</td>\n",
       "      <td>166.440000</td>\n",
       "      <td>172.770000</td>\n",
       "      <td>36272617.0</td>\n",
       "    </tr>\n",
       "    <tr>\n",
       "      <th>2018-03-27</th>\n",
       "      <td>173.68</td>\n",
       "      <td>175.15</td>\n",
       "      <td>166.92</td>\n",
       "      <td>168.340</td>\n",
       "      <td>38962839.0</td>\n",
       "      <td>0.0</td>\n",
       "      <td>1.0</td>\n",
       "      <td>173.680000</td>\n",
       "      <td>175.150000</td>\n",
       "      <td>166.920000</td>\n",
       "      <td>168.340000</td>\n",
       "      <td>38962839.0</td>\n",
       "    </tr>\n",
       "  </tbody>\n",
       "</table>\n",
       "<p>9400 rows × 12 columns</p>\n",
       "</div>"
      ],
      "text/plain": [
       "              Open    High     Low    Close      Volume  Ex-Dividend  \\\n",
       "Date                                                                   \n",
       "1980-12-12   28.75   28.87   28.75   28.750   2093900.0          0.0   \n",
       "1980-12-15   27.38   27.38   27.25   27.250    785200.0          0.0   \n",
       "1980-12-16   25.37   25.37   25.25   25.250    472000.0          0.0   \n",
       "1980-12-17   25.87   26.00   25.87   25.870    385900.0          0.0   \n",
       "1980-12-18   26.63   26.75   26.63   26.630    327900.0          0.0   \n",
       "...            ...     ...     ...      ...         ...          ...   \n",
       "2018-03-21  175.04  175.09  171.26  171.270  35247358.0          0.0   \n",
       "2018-03-22  170.00  172.68  168.60  168.845  41051076.0          0.0   \n",
       "2018-03-23  168.39  169.92  164.94  164.940  40248954.0          0.0   \n",
       "2018-03-26  168.07  173.10  166.44  172.770  36272617.0          0.0   \n",
       "2018-03-27  173.68  175.15  166.92  168.340  38962839.0          0.0   \n",
       "\n",
       "            Split Ratio   Adj. Open   Adj. High    Adj. Low  Adj. Close  \\\n",
       "Date                                                                      \n",
       "1980-12-12          1.0    0.422706    0.424470    0.422706    0.422706   \n",
       "1980-12-15          1.0    0.402563    0.402563    0.400652    0.400652   \n",
       "1980-12-16          1.0    0.373010    0.373010    0.371246    0.371246   \n",
       "1980-12-17          1.0    0.380362    0.382273    0.380362    0.380362   \n",
       "1980-12-18          1.0    0.391536    0.393300    0.391536    0.391536   \n",
       "...                 ...         ...         ...         ...         ...   \n",
       "2018-03-21          1.0  175.040000  175.090000  171.260000  171.270000   \n",
       "2018-03-22          1.0  170.000000  172.680000  168.600000  168.845000   \n",
       "2018-03-23          1.0  168.390000  169.920000  164.940000  164.940000   \n",
       "2018-03-26          1.0  168.070000  173.100000  166.440000  172.770000   \n",
       "2018-03-27          1.0  173.680000  175.150000  166.920000  168.340000   \n",
       "\n",
       "            Adj. Volume  \n",
       "Date                     \n",
       "1980-12-12  117258400.0  \n",
       "1980-12-15   43971200.0  \n",
       "1980-12-16   26432000.0  \n",
       "1980-12-17   21610400.0  \n",
       "1980-12-18   18362400.0  \n",
       "...                 ...  \n",
       "2018-03-21   35247358.0  \n",
       "2018-03-22   41051076.0  \n",
       "2018-03-23   40248954.0  \n",
       "2018-03-26   36272617.0  \n",
       "2018-03-27   38962839.0  \n",
       "\n",
       "[9400 rows x 12 columns]"
      ]
     },
     "execution_count": 17,
     "metadata": {},
     "output_type": "execute_result"
    }
   ],
   "source": [
    "data"
   ]
  },
  {
   "cell_type": "code",
   "execution_count": 18,
   "metadata": {},
   "outputs": [
    {
     "data": {
      "text/plain": [
       "DatetimeIndex(['1980-12-12', '1980-12-15', '1980-12-16', '1980-12-17',\n",
       "               '1980-12-18', '1980-12-19', '1980-12-22', '1980-12-23',\n",
       "               '1980-12-24', '1980-12-26',\n",
       "               ...\n",
       "               '2018-03-14', '2018-03-15', '2018-03-16', '2018-03-19',\n",
       "               '2018-03-20', '2018-03-21', '2018-03-22', '2018-03-23',\n",
       "               '2018-03-26', '2018-03-27'],\n",
       "              dtype='datetime64[ns]', name='Date', length=9400, freq=None)"
      ]
     },
     "execution_count": 18,
     "metadata": {},
     "output_type": "execute_result"
    }
   ],
   "source": [
    "# Данные с 1980 по 2018 год\n",
    "data.index"
   ]
  },
  {
   "cell_type": "code",
   "execution_count": 19,
   "metadata": {},
   "outputs": [
    {
     "data": {
      "text/plain": [
       "<matplotlib.axes._subplots.AxesSubplot at 0x7fbe9acfa3d0>"
      ]
     },
     "execution_count": 19,
     "metadata": {},
     "output_type": "execute_result"
    },
    {
     "data": {
      "image/png": "[encoded data removed]",
      "text/plain": [
       "<Figure size 1080x360 with 1 Axes>"
      ]
     },
     "metadata": {
      "needs_background": "light"
     },
     "output_type": "display_data"
    }
   ],
   "source": [
    "# Возьмем цены закрытия c 2016 года\n",
    "\n",
    "prices = data['2016-01-01':]['Close']\n",
    "prices.plot(figsize=(15, 5))"
   ]
  },
  {
   "cell_type": "code",
   "execution_count": 35,
   "metadata": {},
   "outputs": [
    {
     "data": {
      "text/plain": [
       "<matplotlib.axes._subplots.AxesSubplot at 0x7fbe79799a60>"
      ]
     },
     "execution_count": 35,
     "metadata": {},
     "output_type": "execute_result"
    },
    {
     "data": {
      "image/png": "[encoded data removed]",
      "text/plain": [
       "<Figure size 1080x360 with 1 Axes>"
      ]
     },
     "metadata": {
      "needs_background": "light"
     },
     "output_type": "display_data"
    }
   ],
   "source": [
    "prices_before_crisis = data['2000-01-01':'2008-01-01']['Close']\n",
    "prices_after_crisis = data['2010-01-01':'2014-01-01']['Close']\n",
    "prices_before_crisis.plot(figsize=(15, 5))"
   ]
  },
  {
   "cell_type": "code",
   "execution_count": 36,
   "metadata": {},
   "outputs": [
    {
     "data": {
      "text/plain": [
       "<matplotlib.axes._subplots.AxesSubplot at 0x7fbe7939d3a0>"
      ]
     },
     "execution_count": 36,
     "metadata": {},
     "output_type": "execute_result"
    },
    {
     "data": {
      "image/png": "[encoded data removed]",
      "text/plain": [
       "<Figure size 1080x360 with 1 Axes>"
      ]
     },
     "metadata": {
      "needs_background": "light"
     },
     "output_type": "display_data"
    }
   ],
   "source": [
    "prices_after_crisis.plot(figsize=(15, 5))"
   ]
  },
  {
   "cell_type": "code",
   "execution_count": 37,
   "metadata": {},
   "outputs": [],
   "source": [
    "def log_returns(df):\n",
    "    \n",
    "    '''Calcualate log returns from close prices'''\n",
    "    \n",
    "    return np.log(1+df.pct_change())"
   ]
  },
  {
   "cell_type": "code",
   "execution_count": 38,
   "metadata": {},
   "outputs": [],
   "source": [
    "returns_before = log_returns(prices_before_crisis).dropna()\n",
    "returns_after = log_returns(prices_after_crisis).dropna()"
   ]
  },
  {
   "cell_type": "code",
   "execution_count": 21,
   "metadata": {},
   "outputs": [
    {
     "data": {
      "text/plain": [
       "<matplotlib.axes._subplots.AxesSubplot at 0x7fbe500e5730>"
      ]
     },
     "execution_count": 21,
     "metadata": {},
     "output_type": "execute_result"
    },
    {
     "data": {
      "image/png": "[encoded data removed]",
      "text/plain": [
       "<Figure size 1080x360 with 1 Axes>"
      ]
     },
     "metadata": {
      "needs_background": "light"
     },
     "output_type": "display_data"
    }
   ],
   "source": [
    "# рассчитаем ежедневную логарифмическую доходность и изобразим распределение на гистограмме\n",
    "returns = log_returns(prices).dropna()\n",
    "returns.hist(figsize=(15, 5), bins = 30)"
   ]
  },
  {
   "cell_type": "code",
   "execution_count": 40,
   "metadata": {},
   "outputs": [
    {
     "data": {
      "text/plain": [
       "<matplotlib.axes._subplots.AxesSubplot at 0x7fbe7a330bb0>"
      ]
     },
     "execution_count": 40,
     "metadata": {},
     "output_type": "execute_result"
    },
    {
     "data": {
      "image/png": "[encoded data removed]",
      "text/plain": [
       "<Figure size 432x288 with 1 Axes>"
      ]
     },
     "metadata": {
      "needs_background": "light"
     },
     "output_type": "display_data"
    }
   ],
   "source": [
    "returns_before.hist(bins = 100)"
   ]
  },
  {
   "cell_type": "code",
   "execution_count": 41,
   "metadata": {},
   "outputs": [
    {
     "data": {
      "text/plain": [
       "<matplotlib.axes._subplots.AxesSubplot at 0x7fbe78a480d0>"
      ]
     },
     "execution_count": 41,
     "metadata": {},
     "output_type": "execute_result"
    },
    {
     "data": {
      "image/png": "[encoded data removed]",
      "text/plain": [
       "<Figure size 432x288 with 1 Axes>"
      ]
     },
     "metadata": {
      "needs_background": "light"
     },
     "output_type": "display_data"
    }
   ],
   "source": [
    "returns_after.hist(bins = 100)"
   ]
  },
  {
   "cell_type": "code",
   "execution_count": 22,
   "metadata": {},
   "outputs": [
    {
     "data": {
      "text/plain": [
       "<matplotlib.axes._subplots.AxesSubplot at 0x7fbe68bb2130>"
      ]
     },
     "execution_count": 22,
     "metadata": {},
     "output_type": "execute_result"
    },
    {
     "data": {
      "image/png": "[encoded data removed]",
      "text/plain": [
       "<Figure size 1080x360 with 1 Axes>"
      ]
     },
     "metadata": {
      "needs_background": "light"
     },
     "output_type": "display_data"
    }
   ],
   "source": [
    "returns.plot(figsize=(15, 5))"
   ]
  },
  {
   "cell_type": "code",
   "execution_count": 27,
   "metadata": {},
   "outputs": [
    {
     "name": "stdout",
     "output_type": "stream",
     "text": [
      "Z-statistics = 1.465        \n",
      " p-value = 0.072\n"
     ]
    }
   ],
   "source": [
    "# простестируем гипотезу, что среднее по выборке равно 0, против альтернативной гипотезы, что среднее больше 0\n",
    "\n",
    "result = ztest(returns.values, value = 0, alternative = 'larger')\n",
    "\n",
    "print(f'Z-statistics = {round(result[0],3)}\\\n",
    "        \\n p-value = {round(result[1],3)}')\n"
   ]
  },
  {
   "cell_type": "markdown",
   "metadata": {},
   "source": [
    "Отвергается ли основная гипотеза? На каком уровне значимости?"
   ]
  },
  {
   "cell_type": "markdown",
   "metadata": {},
   "source": [
    "Попробуйте выбрать более широкое окно данных и повторить тест\n"
   ]
  },
  {
   "cell_type": "code",
   "execution_count": null,
   "metadata": {},
   "outputs": [],
   "source": [
    "# YOUR CODE"
   ]
  },
  {
   "cell_type": "markdown",
   "metadata": {},
   "source": [
    "**Проверка гипотезы о доле**"
   ]
  },
  {
   "cell_type": "markdown",
   "metadata": {},
   "source": [
    "Проверка гипотезы $H_0: p=p_0$ о доле $p$ признака в генеральной совокупности также проводится с помощью z-статистики."
   ]
  },
  {
   "cell_type": "markdown",
   "metadata": {},
   "source": [
    "$$ z = \\frac{m-n p_0}{\\sqrt{n p_0 q_0} } $$"
   ]
  },
  {
   "cell_type": "code",
   "execution_count": 42,
   "metadata": {},
   "outputs": [],
   "source": [
    "# Для доли – только Z-тест"
   ]
  },
  {
   "cell_type": "markdown",
   "metadata": {},
   "source": [
    "---"
   ]
  },
  {
   "cell_type": "markdown",
   "metadata": {},
   "source": [
    "Резюмируя, **Z-тест** имеет смысл использовать если:\n",
    "* размер вашей выборки больше 30, в противном случае используйте t-тест.\n",
    "* элементы выборки независимы, то есть одно наблюдение не связано или не влияет на другое.\n",
    "* данные должны быть нормально распределены (при больших объемах выборки это не всегда имеет значение).\n",
    "* данные должны быть случайно выбраны из совокупности, где каждый элемент имеет равные шансы быть выбранным."
   ]
  },
  {
   "cell_type": "markdown",
   "metadata": {},
   "source": [
    "### T-тест"
   ]
  },
  {
   "cell_type": "markdown",
   "metadata": {},
   "source": [
    "Существует три основных типа Т-теста:\n",
    "\n",
    "* по одной выборке: проверка равенства среднего значения заданному\n",
    "* для двух независимых выборок: проверка разницы средних двух выборок\n",
    "* для двух парных выборок: проверка разницы средних между двумя измерениями одного и того же объекта\n"
   ]
  },
  {
   "cell_type": "code",
   "execution_count": 63,
   "metadata": {},
   "outputs": [
    {
     "name": "stdout",
     "output_type": "stream",
     "text": [
      "Requirement already satisfied: scipy in /opt/anaconda3/lib/python3.8/site-packages (1.4.1)\n",
      "Collecting scipy\n",
      "  Downloading scipy-1.8.0-cp38-cp38-macosx_12_0_universal2.macosx_10_9_x86_64.whl (55.3 MB)\n",
      "\u001b[K     |████████████████████████████████| 55.3 MB 446 kB/s eta 0:00:01     |████████████████████████████    | 48.3 MB 327 kB/s eta 0:00:22\n",
      "\u001b[?25hRequirement already satisfied: numpy<1.25.0,>=1.17.3 in /opt/anaconda3/lib/python3.8/site-packages (from scipy) (1.18.1)\n",
      "Installing collected packages: scipy\n",
      "  Attempting uninstall: scipy\n",
      "    Found existing installation: scipy 1.4.1\n",
      "    Uninstalling scipy-1.4.1:\n",
      "      Successfully uninstalled scipy-1.4.1\n",
      "\u001b[31mERROR: pip's dependency resolver does not currently take into account all the packages that are installed. This behaviour is the source of the following dependency conflicts.\n",
      "sidekit 1.4.3.2 requires matplotlib>=3.3.2, but you have matplotlib 3.1.2 which is incompatible.\n",
      "sidekit 1.4.3.2 requires scikit-learn>=0.24.1, but you have scikit-learn 0.23.2 which is incompatible.\n",
      "sidekit 1.4.3.2 requires tqdm>=4.55.1, but you have tqdm 4.46.0 which is incompatible.\n",
      "s4d 0.2.6 requires matplotlib>=3.3.2, but you have matplotlib 3.1.2 which is incompatible.\n",
      "s4d 0.2.6 requires numpy>=1.19.0, but you have numpy 1.18.1 which is incompatible.\n",
      "s4d 0.2.6 requires scikit-learn>=0.24.1, but you have scikit-learn 0.23.2 which is incompatible.\n",
      "s4d 0.2.6 requires tqdm>=4.55.1, but you have tqdm 4.46.0 which is incompatible.\n",
      "pymc3 3.6 requires joblib<0.13.0, but you have joblib 1.0.1 which is incompatible.\u001b[0m\n",
      "Successfully installed scipy-1.8.0\n"
     ]
    }
   ],
   "source": [
    "!pip install --upgrade scipy"
   ]
  },
  {
   "cell_type": "code",
   "execution_count": 1,
   "metadata": {},
   "outputs": [],
   "source": [
    "from scipy.stats import ttest_1samp\n",
    "#from scipy import stats"
   ]
  },
  {
   "cell_type": "markdown",
   "metadata": {},
   "source": [
    "Формула для **Т-статистики**:\n",
    "\n",
    "$$ T_{stat} = \\frac{M - \\mu}{\\sigma / \\sqrt{n}} $$\n",
    "\n",
    "$$ n - \\textit{размер выборки}$$"
   ]
  },
  {
   "cell_type": "markdown",
   "metadata": {},
   "source": [
    "В данном случае алгоритм такой же, как у Z-теста"
   ]
  },
  {
   "cell_type": "markdown",
   "metadata": {},
   "source": [
    "Простой пример: \n",
    "\n",
    "Проверяем гипотезу, что в среднем человек потребляет в сутки 2500 ккал в сутки (двусторонняя).\n",
    "\n",
    "Имеются данные опроса 12 человек."
   ]
  },
  {
   "cell_type": "code",
   "execution_count": 2,
   "metadata": {},
   "outputs": [],
   "source": [
    "data = [2000, 1900, 2800, 2600, 2500, 2000, 2200, 2300, 2700, 3000, 2400, 2600]"
   ]
  },
  {
   "cell_type": "code",
   "execution_count": 4,
   "metadata": {},
   "outputs": [
    {
     "data": {
      "text/plain": [
       "Ttest_1sampResult(statistic=-0.8343875188697228, pvalue=0.421813505286054)"
      ]
     },
     "execution_count": 4,
     "metadata": {},
     "output_type": "execute_result"
    }
   ],
   "source": [
    "ttest_1samp(data, popmean = 2500)"
   ]
  },
  {
   "cell_type": "markdown",
   "metadata": {},
   "source": [
    "Следовательно, основная гипотеза не отвергается на любом разумном уровне значимости."
   ]
  },
  {
   "cell_type": "markdown",
   "metadata": {},
   "source": [
    "Теперь вспомним про данные по фильмам"
   ]
  },
  {
   "cell_type": "code",
   "execution_count": 7,
   "metadata": {},
   "outputs": [],
   "source": [
    "import numpy as np\n",
    "import pandas as pd"
   ]
  },
  {
   "cell_type": "code",
   "execution_count": 8,
   "metadata": {},
   "outputs": [],
   "source": [
    "oscars = pd.read_csv('oscars_df.csv', sep=',')"
   ]
  },
  {
   "cell_type": "code",
   "execution_count": 9,
   "metadata": {},
   "outputs": [
    {
     "data": {
      "text/plain": [
       "Index(['Unnamed: 0', 'Film', 'Oscar Year', 'Film Studio/Producer(s)', 'Award',\n",
       "       'Year of Release', 'Movie Time', 'Movie Genre', 'IMDB Rating',\n",
       "       'IMDB Votes', 'Movie Info', 'Genres', 'Critic Consensus',\n",
       "       'Content Rating', 'Directors', 'Authors', 'Actors',\n",
       "       'Original Release Date', 'Streaming Release Date', 'Production Company',\n",
       "       'Tomatometer Status', 'Tomatometer Rating', 'Tomatometer Count',\n",
       "       'Audience Status', 'Audience Rating', 'Audience Count',\n",
       "       'Tomatometer Top Critics Count', 'Tomatometer Fresh Critics Count',\n",
       "       'Tomatometer Rotten Critics Count', 'Film ID'],\n",
       "      dtype='object')"
      ]
     },
     "execution_count": 9,
     "metadata": {},
     "output_type": "execute_result"
    }
   ],
   "source": [
    "oscars.columns"
   ]
  },
  {
   "cell_type": "code",
   "execution_count": 10,
   "metadata": {},
   "outputs": [
    {
     "data": {
      "text/plain": [
       "7.570402802101572"
      ]
     },
     "execution_count": 10,
     "metadata": {},
     "output_type": "execute_result"
    }
   ],
   "source": [
    "oscars['IMDB Rating'].mean()"
   ]
  },
  {
   "cell_type": "markdown",
   "metadata": {},
   "source": [
    "Проверим гипотезу, что средний IMDB рейтинг равен 7.5, против альтернативной гипотезы, что рейтинг больше."
   ]
  },
  {
   "cell_type": "code",
   "execution_count": 14,
   "metadata": {},
   "outputs": [
    {
     "data": {
      "text/plain": [
       "Ttest_1sampResult(statistic=3.006007491707009, pvalue=0.0013817734209566274)"
      ]
     },
     "execution_count": 14,
     "metadata": {},
     "output_type": "execute_result"
    }
   ],
   "source": [
    "# alternative: 'less', 'greater' or 'two-sided'\n",
    "ttest_1samp(oscars['IMDB Rating'], popmean = 7.5, alternative = 'greater')"
   ]
  },
  {
   "cell_type": "code",
   "execution_count": null,
   "metadata": {},
   "outputs": [],
   "source": [
    "# H0 отвергается на любом разумном уровне значимости"
   ]
  },
  {
   "cell_type": "markdown",
   "metadata": {},
   "source": [
    "Сформулируйте и проверьте любую свою гипотезу с помощью T-теста"
   ]
  },
  {
   "cell_type": "code",
   "execution_count": 28,
   "metadata": {},
   "outputs": [
    {
     "data": {
      "text/plain": [
       "Ttest_1sampResult(statistic=3.006007491707009, pvalue=0.0013817734209566274)"
      ]
     },
     "execution_count": 28,
     "metadata": {},
     "output_type": "execute_result"
    }
   ],
   "source": [
    "ttest_1samp(oscars['IMDB Rating'], popmean = 7.5, alternative = 'greater')"
   ]
  },
  {
   "cell_type": "markdown",
   "metadata": {},
   "source": [
    "Теперь вспомним про данные по котировкам акций. \n",
    "\n",
    "* Повторите T-тест для той же гипотезы\n",
    "* Сравните среднее значение в кризисный и некризисный периоды\n"
   ]
  },
  {
   "cell_type": "code",
   "execution_count": 29,
   "metadata": {},
   "outputs": [
    {
     "data": {
      "text/plain": [
       "Ttest_1sampResult(statistic=1.4646216993690897, pvalue=0.07179366021354958)"
      ]
     },
     "execution_count": 29,
     "metadata": {},
     "output_type": "execute_result"
    }
   ],
   "source": [
    "ttest_1samp(returns, popmean = 0, alternative = 'greater')"
   ]
  },
  {
   "cell_type": "code",
   "execution_count": 30,
   "metadata": {},
   "outputs": [],
   "source": [
    "from scipy.stats import ttest_ind"
   ]
  },
  {
   "cell_type": "code",
   "execution_count": null,
   "metadata": {},
   "outputs": [],
   "source": [
    "# H0: mu_before == mu_after"
   ]
  },
  {
   "cell_type": "code",
   "execution_count": 42,
   "metadata": {},
   "outputs": [
    {
     "data": {
      "text/plain": [
       "Ttest_indResult(statistic=-0.5118011964108434, pvalue=0.608827672962665)"
      ]
     },
     "execution_count": 42,
     "metadata": {},
     "output_type": "execute_result"
    }
   ],
   "source": [
    "ttest_ind(returns_before, returns_after, alternative = 'two-sided')"
   ]
  },
  {
   "cell_type": "code",
   "execution_count": null,
   "metadata": {},
   "outputs": [],
   "source": [
    "# H0 не отвергается на любом разумном ур. знач. "
   ]
  },
  {
   "cell_type": "markdown",
   "metadata": {},
   "source": [
    "Что почитать, где потренироваться:"
   ]
  },
  {
   "cell_type": "markdown",
   "metadata": {},
   "source": [
    "https://machinelearningmastery.com/parametric-statistical-significance-tests-in-python/\n",
    "\n",
    "https://towardsdatascience.com/an-interactive-guide-to-hypothesis-testing-in-python-979f4d62d85\n",
    "\n",
    "https://towardsdatascience.com/hypothesis-testing-z-scores-337fb06e26ab\n",
    "\n"
   ]
  }
 ],
 "metadata": {
  "kernelspec": {
   "display_name": "Python 3",
   "language": "python",
   "name": "python3"
  },
  "language_info": {
   "codemirror_mode": {
    "name": "ipython",
    "version": 3
   },
   "file_extension": ".py",
   "mimetype": "text/x-python",
   "name": "python",
   "nbconvert_exporter": "python",
   "pygments_lexer": "ipython3",
   "version": "3.8.8"
  }
 },
 "nbformat": 4,
 "nbformat_minor": 4
}
