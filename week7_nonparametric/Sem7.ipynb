{
 "cells": [
  {
   "cell_type": "markdown",
   "metadata": {
    "id": "UkXf9fyatJhc"
   },
   "source": [
    "# Семинар 7. Проверка гипотез: непараметрические критерии"
   ]
  },
  {
   "cell_type": "markdown",
   "metadata": {
    "id": "7ViK9OjJXOPL"
   },
   "source": [
    "План на сегодняшний семинар:\n",
    "\n",
    "* Повторить суть непараметрического оценивания\n",
    "* Таблица сопряженности и хи-квадрат\n",
    "* Критерий Манна-Уитни\n",
    "* Критерий Уилкоксона\n",
    "* Критерий Знаков"
   ]
  },
  {
   "cell_type": "markdown",
   "metadata": {
    "id": "A8aIo3KuNUBx"
   },
   "source": [
    "В предыдущем семинаре мы рассматривали параметрические критерии. Они достаточно удобны для проверки гипотез, однако зачастую наши данные не подходят для того, чтобы применять для них подобные тесты. Для таких случаяв подходят непараметрические критерии: они могут быть применены для порядковых и номинальных признаках, а также они не нуждаются в предположениях о параметрах генеральной совокупности или форме ее распределения"
   ]
  },
  {
   "cell_type": "code",
   "execution_count": 1,
   "metadata": {
    "id": "uvJRt8fgRtEo"
   },
   "outputs": [],
   "source": [
    "#подгружаем все необходимые библиотеки\n",
    "import numpy as np\n",
    "import pandas as pd\n",
    "import statsmodels as sm\n",
    "from scipy import stats"
   ]
  },
  {
   "cell_type": "code",
   "execution_count": 2,
   "metadata": {},
   "outputs": [
    {
     "name": "stderr",
     "output_type": "stream",
     "text": [
      "\n",
      "Bad key text.latex.preview in file /opt/anaconda3/lib/python3.8/site-packages/matplotlib/mpl-data/stylelib/_classic_test.mplstyle, line 123 ('text.latex.preview : False')\n",
      "You probably need to get an updated matplotlibrc file from\n",
      "https://github.com/matplotlib/matplotlib/blob/v3.5.1/matplotlibrc.template\n",
      "or from the matplotlib source distribution\n",
      "\n",
      "Bad key mathtext.fallback_to_cm in file /opt/anaconda3/lib/python3.8/site-packages/matplotlib/mpl-data/stylelib/_classic_test.mplstyle, line 155 ('mathtext.fallback_to_cm : True  # When True, use symbols from the Computer Modern')\n",
      "You probably need to get an updated matplotlibrc file from\n",
      "https://github.com/matplotlib/matplotlib/blob/v3.5.1/matplotlibrc.template\n",
      "or from the matplotlib source distribution\n",
      "\n",
      "Bad key savefig.jpeg_quality in file /opt/anaconda3/lib/python3.8/site-packages/matplotlib/mpl-data/stylelib/_classic_test.mplstyle, line 418 ('savefig.jpeg_quality: 95       # when a jpeg is saved, the default quality parameter.')\n",
      "You probably need to get an updated matplotlibrc file from\n",
      "https://github.com/matplotlib/matplotlib/blob/v3.5.1/matplotlibrc.template\n",
      "or from the matplotlib source distribution\n",
      "\n",
      "Bad key keymap.all_axes in file /opt/anaconda3/lib/python3.8/site-packages/matplotlib/mpl-data/stylelib/_classic_test.mplstyle, line 466 ('keymap.all_axes : a                 # enable all axes')\n",
      "You probably need to get an updated matplotlibrc file from\n",
      "https://github.com/matplotlib/matplotlib/blob/v3.5.1/matplotlibrc.template\n",
      "or from the matplotlib source distribution\n",
      "\n",
      "Bad key animation.avconv_path in file /opt/anaconda3/lib/python3.8/site-packages/matplotlib/mpl-data/stylelib/_classic_test.mplstyle, line 477 ('animation.avconv_path: avconv     # Path to avconv binary. Without full path')\n",
      "You probably need to get an updated matplotlibrc file from\n",
      "https://github.com/matplotlib/matplotlib/blob/v3.5.1/matplotlibrc.template\n",
      "or from the matplotlib source distribution\n",
      "\n",
      "Bad key animation.avconv_args in file /opt/anaconda3/lib/python3.8/site-packages/matplotlib/mpl-data/stylelib/_classic_test.mplstyle, line 479 ('animation.avconv_args:            # Additional arguments to pass to avconv')\n",
      "You probably need to get an updated matplotlibrc file from\n",
      "https://github.com/matplotlib/matplotlib/blob/v3.5.1/matplotlibrc.template\n",
      "or from the matplotlib source distribution\n"
     ]
    }
   ],
   "source": [
    "import matplotlib.pyplot as plt"
   ]
  },
  {
   "cell_type": "code",
   "execution_count": null,
   "metadata": {},
   "outputs": [],
   "source": [
    "import warnings\n",
    "warnings.filterwarnings('ignore')"
   ]
  },
  {
   "cell_type": "markdown",
   "metadata": {
    "id": "IjAkNPzMG4lB"
   },
   "source": [
    "## Критерий согласия хи-квадрат"
   ]
  },
  {
   "cell_type": "markdown",
   "metadata": {
    "id": "L0Aq_g7rOOfS"
   },
   "source": [
    "При анализе данных у нас может возникать вопрос о том, как наши наблюдения распределены по каким-то категориям. Например, на сколько больше студентов на коммерции по сравнению с бюджетниками на двух разных факультетах? Или как соотносятся пропорции сдавших и несдавших экзамен по Python в разных группах?\n",
    "При такой постановке вопроса нас не интересуют какие-то количественные характеристики для конкретного объекта или выборки в целом: нас интересует только принадлежность объекта к той или иной группе. И в таком случае, когда нас в первую очередь интересует соотношение пропорций в генеральной совокупности, мы будем использовать критерий согласия хи-квадрат."
   ]
  },
  {
   "cell_type": "markdown",
   "metadata": {
    "id": "nPEN4uy1QTs2"
   },
   "source": [
    "Данный критерий реализован с помощью функции chisquare в модуле stats:\n",
    "    \n",
    "* **stats.chisquare(obs, exp)** \n",
    "\n",
    "В эту функцию мы передаем два аргумента:\n",
    "\n",
    "* obs — фактическая частота попадания в ту или иную подгруппу\n",
    "* exp — ожидаемая частота."
   ]
  },
  {
   "cell_type": "markdown",
   "metadata": {
    "id": "tokFTPtyQ090"
   },
   "source": [
    "Возможно, вы знакомы с Менделем и его экспериментами с селекцией гороха: эта история отлично подойдет для иллюстрации применения критерия согласия хи-квадрат. \n",
    "\n",
    "Краткий экскурс в тему: Мендель вывел теоретический закон распределения частот видов семян, и в 20-м веке было огромное количество исследований, которые основывались на проверке близости этого закона к реальной жизни как раз с помощью критерия согласия хи-квадрата. История была столь популярна, что на ее тему написал статьи даже известный математик - академик Колмогоров.\n",
    "\n",
    "Давайте и мы проверим, что там происходило с горохом!"
   ]
  },
  {
   "cell_type": "markdown",
   "metadata": {
    "id": "jDeEC-z9P4i_"
   },
   "source": [
    "В экспериментах с селекцией гороха Мендель наблюдал частоты различных видов семян, получаемых при скрещивании растений с круглыми желтыми семенами и растений с морщинистыми зелеными семенами. Эти данные и значения теоретических вероятностей, определяемые в соответствии с законом Менделя, приведены в следующей таблице:\n",
    "\n",
    "| Тип семян            | Доля | Вероятность |\n",
    "|:-------------------- |:-------:| -----------:|\n",
    "| Круглые и желтые     | 315/556 | 9/16        |\n",
    "| Морщинистые и желтые | 101/556 | 3/16        |\n",
    "| Круглые и зеленые    | 108/556 | 3/16        |\n",
    "| Морщинистые и зеленые| 32/556  | 1/16        |\n",
    "\n",
    "Необходимо проверить гипотезу $H_0$ о согласованности частот с теоретическими вероятностями при помощи критерия хи-квадрат."
   ]
  },
  {
   "cell_type": "code",
   "execution_count": 4,
   "metadata": {
    "id": "AE0LTU5VQIw1"
   },
   "outputs": [],
   "source": [
    "# создаем массивы с реальными частотами (точнее, долями) и с теоретическими вероятностями\n",
    "obs = np.array([315/556, 101/556, 108/556, 32/556]) #реальные доли - левый столбец в таблице\n",
    "exp = np.array([9/16, 3/16, 3/16, 1/16]) #теоретические вероятности - правый столбец в таблице"
   ]
  },
  {
   "cell_type": "markdown",
   "metadata": {
    "id": "K0uCV8pXS5Ea"
   },
   "source": [
    "Ранее мы посмотрели, что в функцию для реализации критерия согласия мы передаем фактические частоты, а у нас только доли. Чтобы получить из них частоты, мы умножим каждую долю на общее количество семян:"
   ]
  },
  {
   "cell_type": "code",
   "execution_count": 5,
   "metadata": {
    "id": "UPQvT8mtQLAD"
   },
   "outputs": [],
   "source": [
    "obs = obs*556 #рассчитали реальные частоты\n",
    "exp = exp*556 #рассчитали ожидаемые частоты"
   ]
  },
  {
   "cell_type": "code",
   "execution_count": 6,
   "metadata": {},
   "outputs": [
    {
     "data": {
      "text/plain": [
       "array([315., 101., 108.,  32.])"
      ]
     },
     "execution_count": 6,
     "metadata": {},
     "output_type": "execute_result"
    }
   ],
   "source": [
    "obs"
   ]
  },
  {
   "cell_type": "code",
   "execution_count": 7,
   "metadata": {},
   "outputs": [
    {
     "data": {
      "text/plain": [
       "array([312.75, 104.25, 104.25,  34.75])"
      ]
     },
     "execution_count": 7,
     "metadata": {},
     "output_type": "execute_result"
    }
   ],
   "source": [
    "exp"
   ]
  },
  {
   "cell_type": "code",
   "execution_count": 8,
   "metadata": {
    "id": "oKxDXtUyQM2j"
   },
   "outputs": [
    {
     "data": {
      "text/plain": [
       "Power_divergenceResult(statistic=0.4700239808153487, pvalue=0.9254258951036157)"
      ]
     },
     "execution_count": 8,
     "metadata": {},
     "output_type": "execute_result"
    }
   ],
   "source": [
    "# запускаем функцию для критерия хи-квадрат\n",
    "stats.chisquare(obs, exp) "
   ]
  },
  {
   "cell_type": "markdown",
   "metadata": {
    "id": "DW3qSXAMTclc"
   },
   "source": [
    "Мы видим, что у нас получилось очень большое значение p-value: оно свидетельствует о том, что мы не отвергаем нулевую гипотезу. Значит, закон Менделя работает!"
   ]
  },
  {
   "cell_type": "markdown",
   "metadata": {
    "id": "9TYL3R1QUcfj"
   },
   "source": [
    "## Задача 1"
   ]
  },
  {
   "cell_type": "markdown",
   "metadata": {
    "id": "bzIREq1LVPk7"
   },
   "source": [
    "У некоторого преподавателя НИУ ВШЭ есть предположение, что 25% студентов сдают ДЗ заранее, 60% в последний момент, а 15% вовсе забывают о домашнем задании. После первого ДЗ на курсе \"Введение в Data Science\" было выявлено, что из 330 студентов 60 сдали ДЗ заранее, 200 в последний момент, а 70 - вовсе забыли о ДЗ. Проверьте гипотезу о том, что предположение преподавателя о теоретическом распределении вероятностей верное."
   ]
  },
  {
   "cell_type": "code",
   "execution_count": 12,
   "metadata": {
    "id": "e5yWfGDRVRUG"
   },
   "outputs": [
    {
     "data": {
      "text/plain": [
       "Power_divergenceResult(statistic=14.646464646464647, pvalue=0.0006600253442961802)"
      ]
     },
     "execution_count": 12,
     "metadata": {},
     "output_type": "execute_result"
    }
   ],
   "source": [
    "#YOUR CODE\n",
    "obs = [60, 200, 70] # наблюдаемые частоты\n",
    "exp = [330 * 0.25, 330 * 0.6, 330 * 0.15]\n",
    "\n",
    "stats.chisquare(obs, exp)\n",
    "\n",
    "# H0 отвергается на лруз\n",
    "# Предположение преподавателя неверно"
   ]
  },
  {
   "cell_type": "markdown",
   "metadata": {
    "id": "zZ2yvk8pT8HN"
   },
   "source": [
    "# Критерий независимости хи-квадрат Пирсона (критерий независимости номинальных признаков Пирсона)"
   ]
  },
  {
   "cell_type": "markdown",
   "metadata": {
    "id": "4R-X063ZVWCm"
   },
   "source": [
    "Еще один критерий - критерий независимости хи-квадрат Пирсона - нужен нам для того, чтобы проверять наличие взаимосвязи между двумя признаками."
   ]
  },
  {
   "cell_type": "markdown",
   "metadata": {
    "id": "pkoPKKkkY-9N"
   },
   "source": [
    "Пусть у нас есть пациенты, которых проверяли на предмет наличия сердечных заболеваний. И мы хотим проверить, есть ли взаимосвязь у пола пациента и наличия у него заболевания. Нулевая гипотеза заключается в том, что признаки независимы.\n",
    "* Пол записан в признаке sex (1-мужчины, 0-женщины)\n",
    "* Наличие заболевания записано в признаке target (1 - заболевание обнаружено, 0 - нет)"
   ]
  },
  {
   "cell_type": "code",
   "execution_count": 13,
   "metadata": {
    "id": "aq1sDM6SsRMI"
   },
   "outputs": [
    {
     "data": {
      "text/html": [
       "<div>\n",
       "<style scoped>\n",
       "    .dataframe tbody tr th:only-of-type {\n",
       "        vertical-align: middle;\n",
       "    }\n",
       "\n",
       "    .dataframe tbody tr th {\n",
       "        vertical-align: top;\n",
       "    }\n",
       "\n",
       "    .dataframe thead th {\n",
       "        text-align: right;\n",
       "    }\n",
       "</style>\n",
       "<table border=\"1\" class=\"dataframe\">\n",
       "  <thead>\n",
       "    <tr style=\"text-align: right;\">\n",
       "      <th></th>\n",
       "      <th>age</th>\n",
       "      <th>sex</th>\n",
       "      <th>cp</th>\n",
       "      <th>trestbps</th>\n",
       "      <th>chol</th>\n",
       "      <th>fbs</th>\n",
       "      <th>restecg</th>\n",
       "      <th>thalach</th>\n",
       "      <th>exang</th>\n",
       "      <th>target</th>\n",
       "    </tr>\n",
       "  </thead>\n",
       "  <tbody>\n",
       "    <tr>\n",
       "      <th>0</th>\n",
       "      <td>63</td>\n",
       "      <td>1</td>\n",
       "      <td>3</td>\n",
       "      <td>145</td>\n",
       "      <td>233</td>\n",
       "      <td>1</td>\n",
       "      <td>0</td>\n",
       "      <td>150</td>\n",
       "      <td>0</td>\n",
       "      <td>1</td>\n",
       "    </tr>\n",
       "    <tr>\n",
       "      <th>1</th>\n",
       "      <td>37</td>\n",
       "      <td>1</td>\n",
       "      <td>2</td>\n",
       "      <td>130</td>\n",
       "      <td>250</td>\n",
       "      <td>0</td>\n",
       "      <td>1</td>\n",
       "      <td>187</td>\n",
       "      <td>0</td>\n",
       "      <td>1</td>\n",
       "    </tr>\n",
       "    <tr>\n",
       "      <th>2</th>\n",
       "      <td>41</td>\n",
       "      <td>0</td>\n",
       "      <td>1</td>\n",
       "      <td>130</td>\n",
       "      <td>204</td>\n",
       "      <td>0</td>\n",
       "      <td>0</td>\n",
       "      <td>172</td>\n",
       "      <td>0</td>\n",
       "      <td>1</td>\n",
       "    </tr>\n",
       "    <tr>\n",
       "      <th>3</th>\n",
       "      <td>56</td>\n",
       "      <td>1</td>\n",
       "      <td>1</td>\n",
       "      <td>120</td>\n",
       "      <td>236</td>\n",
       "      <td>0</td>\n",
       "      <td>1</td>\n",
       "      <td>178</td>\n",
       "      <td>0</td>\n",
       "      <td>1</td>\n",
       "    </tr>\n",
       "    <tr>\n",
       "      <th>4</th>\n",
       "      <td>57</td>\n",
       "      <td>0</td>\n",
       "      <td>0</td>\n",
       "      <td>120</td>\n",
       "      <td>354</td>\n",
       "      <td>0</td>\n",
       "      <td>1</td>\n",
       "      <td>163</td>\n",
       "      <td>1</td>\n",
       "      <td>1</td>\n",
       "    </tr>\n",
       "  </tbody>\n",
       "</table>\n",
       "</div>"
      ],
      "text/plain": [
       "   age  sex  cp  trestbps  chol  fbs  restecg  thalach  exang  target\n",
       "0   63    1   3       145   233    1        0      150      0       1\n",
       "1   37    1   2       130   250    0        1      187      0       1\n",
       "2   41    0   1       130   204    0        0      172      0       1\n",
       "3   56    1   1       120   236    0        1      178      0       1\n",
       "4   57    0   0       120   354    0        1      163      1       1"
      ]
     },
     "execution_count": 13,
     "metadata": {},
     "output_type": "execute_result"
    }
   ],
   "source": [
    "df = pd.read_csv('heart.csv')\n",
    "df.head()"
   ]
  },
  {
   "cell_type": "code",
   "execution_count": 16,
   "metadata": {},
   "outputs": [
    {
     "data": {
      "text/plain": [
       "(303, 10)"
      ]
     },
     "execution_count": 16,
     "metadata": {},
     "output_type": "execute_result"
    }
   ],
   "source": [
    "df.shape"
   ]
  },
  {
   "cell_type": "markdown",
   "metadata": {
    "id": "adVpn4NXZsDB"
   },
   "source": [
    "В первую очередь построим таблицу сопряженности:"
   ]
  },
  {
   "cell_type": "code",
   "execution_count": 14,
   "metadata": {
    "id": "2tl8kB9YsVma"
   },
   "outputs": [
    {
     "data": {
      "text/html": [
       "<div>\n",
       "<style scoped>\n",
       "    .dataframe tbody tr th:only-of-type {\n",
       "        vertical-align: middle;\n",
       "    }\n",
       "\n",
       "    .dataframe tbody tr th {\n",
       "        vertical-align: top;\n",
       "    }\n",
       "\n",
       "    .dataframe thead th {\n",
       "        text-align: right;\n",
       "    }\n",
       "</style>\n",
       "<table border=\"1\" class=\"dataframe\">\n",
       "  <thead>\n",
       "    <tr style=\"text-align: right;\">\n",
       "      <th>target</th>\n",
       "      <th>0</th>\n",
       "      <th>1</th>\n",
       "    </tr>\n",
       "    <tr>\n",
       "      <th>sex</th>\n",
       "      <th></th>\n",
       "      <th></th>\n",
       "    </tr>\n",
       "  </thead>\n",
       "  <tbody>\n",
       "    <tr>\n",
       "      <th>0</th>\n",
       "      <td>24</td>\n",
       "      <td>72</td>\n",
       "    </tr>\n",
       "    <tr>\n",
       "      <th>1</th>\n",
       "      <td>114</td>\n",
       "      <td>93</td>\n",
       "    </tr>\n",
       "  </tbody>\n",
       "</table>\n",
       "</div>"
      ],
      "text/plain": [
       "target    0   1\n",
       "sex            \n",
       "0        24  72\n",
       "1       114  93"
      ]
     },
     "execution_count": 14,
     "metadata": {},
     "output_type": "execute_result"
    }
   ],
   "source": [
    "t = df.groupby('sex')['target'].value_counts().unstack()\n",
    "t"
   ]
  },
  {
   "cell_type": "code",
   "execution_count": 20,
   "metadata": {},
   "outputs": [
    {
     "data": {
      "text/plain": [
       "target\n",
       "0    24\n",
       "1    72\n",
       "Name: 0, dtype: int64"
      ]
     },
     "execution_count": 20,
     "metadata": {},
     "output_type": "execute_result"
    }
   ],
   "source": [
    "t.iloc[0, :]"
   ]
  },
  {
   "cell_type": "markdown",
   "metadata": {
    "id": "jv_i6zcwaCWM"
   },
   "source": [
    "Теперь рассчитаем суммарное количество здоровых и больных, а также общую сумму:"
   ]
  },
  {
   "cell_type": "code",
   "execution_count": 17,
   "metadata": {
    "id": "RJOAo4gTaIs7"
   },
   "outputs": [
    {
     "name": "stdout",
     "output_type": "stream",
     "text": [
      "138 165 303\n"
     ]
    }
   ],
   "source": [
    "n_0 = t[0].sum()\n",
    "n_1 = t[1].sum()\n",
    "n_sum = n_0 + n_1\n",
    "print(n_0, n_1, n_sum)"
   ]
  },
  {
   "cell_type": "markdown",
   "metadata": {
    "id": "j6zd9Nlfaw2X"
   },
   "source": [
    "Рассчитаем доли:"
   ]
  },
  {
   "cell_type": "code",
   "execution_count": 18,
   "metadata": {
    "id": "mJ07HcQwbFLO"
   },
   "outputs": [
    {
     "name": "stdout",
     "output_type": "stream",
     "text": [
      "0.45544554455445546 0.5445544554455446\n"
     ]
    }
   ],
   "source": [
    "p_0 = n_0 / n_sum\n",
    "p_1 = n_1 / n_sum\n",
    "print(p_0, p_1)"
   ]
  },
  {
   "cell_type": "markdown",
   "metadata": {
    "id": "5OjYDXPS9TRl"
   },
   "source": [
    "Рассчитаем суммарное количество мужчин и женщин:"
   ]
  },
  {
   "cell_type": "code",
   "execution_count": 21,
   "metadata": {
    "id": "wQpYZbTq9TRm"
   },
   "outputs": [
    {
     "name": "stdout",
     "output_type": "stream",
     "text": [
      "96 207\n"
     ]
    }
   ],
   "source": [
    "n_w = t.iloc[0].sum()\n",
    "n_m = t.iloc[1].sum()\n",
    "print(n_w, n_m)"
   ]
  },
  {
   "cell_type": "markdown",
   "metadata": {
    "id": "UERk44lQ9TRm"
   },
   "source": [
    "Рассчитываем ожидаемые в случае независимости признаков частоты для мужчин (здоровых и больных) и для женщин (здоровых и больных):"
   ]
  },
  {
   "cell_type": "code",
   "execution_count": 23,
   "metadata": {
    "id": "KX7DXJ-A9TRn"
   },
   "outputs": [],
   "source": [
    "e0_women = n_w * p_0\n",
    "e1_women = n_w * p_1\n",
    "e0_men = n_m * p_0\n",
    "e1_men = n_m * p_1"
   ]
  },
  {
   "cell_type": "code",
   "execution_count": 24,
   "metadata": {
    "id": "UEeTOwEH9TRn"
   },
   "outputs": [
    {
     "name": "stdout",
     "output_type": "stream",
     "text": [
      "43.722772277227726 52.27722772277228 94.27722772277228 112.72277227722773\n"
     ]
    }
   ],
   "source": [
    "print(e0_women, e1_women, e0_men, e1_men)"
   ]
  },
  {
   "cell_type": "markdown",
   "metadata": {
    "id": "J6lrnPvB9TRo"
   },
   "source": [
    "Составим таблицу ожидаемых частот:"
   ]
  },
  {
   "cell_type": "code",
   "execution_count": 25,
   "metadata": {
    "id": "k7KG_mkg9TRo"
   },
   "outputs": [
    {
     "data": {
      "text/plain": [
       "array([[ 43.72277228,  52.27722772],\n",
       "       [ 94.27722772, 112.72277228]])"
      ]
     },
     "execution_count": 25,
     "metadata": {},
     "output_type": "execute_result"
    }
   ],
   "source": [
    "t_e = np.array([[e0_women, e1_women], [e0_men, e1_men]])\n",
    "t_e"
   ]
  },
  {
   "cell_type": "markdown",
   "metadata": {
    "id": "6-QB_Bcu9TRo"
   },
   "source": [
    "Рассчитываем значение статистики:"
   ]
  },
  {
   "cell_type": "markdown",
   "metadata": {
    "id": "BFAOB9__9TRp"
   },
   "source": [
    "$\n",
    "\\chi^2 = \\sum{\\frac{(f_o - f_e)^2}{f_e}}\n",
    "$"
   ]
  },
  {
   "cell_type": "markdown",
   "metadata": {
    "id": "wHRs0RAG9TRp"
   },
   "source": [
    "В данной формуле $f_o$ - это наблюдаемые частоты, а $f_e$ - ожидаемые частоты"
   ]
  },
  {
   "cell_type": "code",
   "execution_count": 26,
   "metadata": {
    "id": "bfTBIE0R9TRq"
   },
   "outputs": [
    {
     "name": "stdout",
     "output_type": "stream",
     "text": [
      "23.914383914761984\n"
     ]
    }
   ],
   "source": [
    "chi_square = ((t - t_e)**2/t_e).sum().sum() #суммируем сначала по полу, потом в целом\n",
    "print(chi_square)"
   ]
  },
  {
   "cell_type": "markdown",
   "metadata": {
    "id": "vkppVBKO9TRq"
   },
   "source": [
    "Рассчитаем значение количества степей свободы:"
   ]
  },
  {
   "cell_type": "markdown",
   "metadata": {
    "id": "V9TCA4iY9TRq"
   },
   "source": [
    "$\n",
    "dof = (R - 1)(C - 1)\n",
    "$"
   ]
  },
  {
   "cell_type": "markdown",
   "metadata": {
    "id": "2LoCmEJT9TRq"
   },
   "source": [
    "В формуле R - количество строк нашей таблицы, а C - количество столбцов."
   ]
  },
  {
   "cell_type": "code",
   "execution_count": 27,
   "metadata": {
    "id": "vSJRA_L19TRr"
   },
   "outputs": [
    {
     "data": {
      "text/plain": [
       "1"
      ]
     },
     "execution_count": 27,
     "metadata": {},
     "output_type": "execute_result"
    }
   ],
   "source": [
    "dof = (t.shape[0] - 1) * (t.shape[1] - 1)\n",
    "dof"
   ]
  },
  {
   "cell_type": "markdown",
   "metadata": {
    "id": "v_v_mEeC9TRr"
   },
   "source": [
    "_Примечание: количество степеней свободы - это количество значений в итоговом вычислении статистики, способных варьироваться. Смысл в том, что при разном значении степеней свободы будет меняться форма распределения статистик хи-квадрат. А значит и значения критерия, отсекающие определенную пропорцию распределения, будут варьироваться.(с)_"
   ]
  },
  {
   "cell_type": "code",
   "execution_count": 28,
   "metadata": {
    "id": "vtfM6abQ9TRr"
   },
   "outputs": [
    {
     "name": "stdout",
     "output_type": "stream",
     "text": [
      "1.0071642033704364e-06\n"
     ]
    }
   ],
   "source": [
    "pvalue = 1-stats.chi2.cdf(chi_square, df=1)\n",
    "print(pvalue)"
   ]
  },
  {
   "cell_type": "markdown",
   "metadata": {
    "id": "R55zZLys9TRr"
   },
   "source": [
    "Можно было бы рассчитать и автоматически:"
   ]
  },
  {
   "cell_type": "code",
   "execution_count": 29,
   "metadata": {
    "id": "5-C1dUFO9TRs"
   },
   "outputs": [
    {
     "data": {
      "text/plain": [
       "(23.914383914761988,\n",
       " 1.0071642033238865e-06,\n",
       " 1,\n",
       " array([[ 43.72277228,  52.27722772],\n",
       "        [ 94.27722772, 112.72277228]]))"
      ]
     },
     "execution_count": 29,
     "metadata": {},
     "output_type": "execute_result"
    }
   ],
   "source": [
    "stats.chi2_contingency(t, correction=False)"
   ]
  },
  {
   "cell_type": "markdown",
   "metadata": {
    "id": "Gu2TtWew9TRs"
   },
   "source": [
    "Время решить задачу самостоятельно! (ну почти)"
   ]
  },
  {
   "cell_type": "markdown",
   "metadata": {
    "id": "og2-eQGM9TRs"
   },
   "source": [
    "## Задача 2 (парадокс Симпсона)"
   ]
  },
  {
   "cell_type": "markdown",
   "metadata": {
    "id": "1twGW3mpSie-"
   },
   "source": [
    "Не забывайте, что мы должны не только уметь применять функции из библиотек, но еще надо понимать, какие действия с данными корректны, а какие нет.\n",
    "\n",
    "Перед вами результаты медицинских исследований. Из 1650 мужчин, испытывающих лекарство, выздоровели 770, из 223 не принимавших выздоровели 88. Из 245 принимавших женщин — 165, из 750 не принимавших — 440.\n",
    "\n",
    "Необходимо проверить следующее:\n",
    "1. Влияет ли лекарство на мужчин?\n",
    "2. Влияет ли лекарство на женщин? \n",
    "3. Влияет ли лекарство на людей обоих полов в целом?"
   ]
  },
  {
   "cell_type": "markdown",
   "metadata": {
    "id": "c3JGG5fsSjDZ"
   },
   "source": [
    "Запишем данные в аккуратную табличку. Пусть $A$ — принимавшие лекарство, $\\overline{A}$ — не принимавшие лекарство, $B$ — выздоровевшие, $\\overline{B}$ — не выздоровевшие."
   ]
  },
  {
   "cell_type": "markdown",
   "metadata": {
    "id": "bWAP1UjbSl4F"
   },
   "source": [
    "<!--<img width=\"60%\" src=\"pics/pic2.png\">-->\n",
    "<table>\n",
    "<tr><td>\n",
    "    \n",
    "|Мужчины| $B$ |  $\\overline{B}$|\n",
    "|--|--|--|\n",
    "|$A$| 770 | 880 |\n",
    "|$\\overline{A}$| 88 | 135 |\n",
    "\n",
    "</td><td>\n",
    "    \n",
    "|Женщины| $B$ |  $\\overline{B}$|\n",
    "|--|--|--|\n",
    "|$A$| 165 | 80 |\n",
    "|$\\overline{A}$| 440 | 310 |\n",
    "\n",
    "</td><td>\n",
    "\n",
    "|Вместе| $B$ |  $\\overline{B}$|\n",
    "|--|--|--|\n",
    "|$A$| 935 | 960 |\n",
    "|$\\overline{A}$| 528 | 445 |\n",
    "\n",
    "</td></tr> </table>"
   ]
  },
  {
   "cell_type": "markdown",
   "metadata": {
    "id": "ZAyR-iIXTKTT"
   },
   "source": [
    "### Есть ли эффект от лекарства у мужчин? "
   ]
  },
  {
   "cell_type": "markdown",
   "metadata": {
    "id": "OzEyylXGTLMW"
   },
   "source": [
    "Заметим, что среди принимавших лекарство мужчин доля выздоровевших больше, чем среди мужчин, не принимавших лекарство:\n",
    "\n",
    "$$\\frac{770}{770 + 880} \\approx 0.467 \\qquad > \\qquad 0.395 \\approx \\frac{88}{88 + 135}.$$\n",
    "  \n",
    "Проверим, значимо ли это различие."
   ]
  },
  {
   "cell_type": "code",
   "execution_count": 30,
   "metadata": {
    "id": "giZCoa7yTnUd"
   },
   "outputs": [],
   "source": [
    "#создаем массивы для наших данных \n",
    "\n",
    "men = np.array([[770,880],[88,135]]) #частоты для мужчин\n",
    "women = np.array([[165,80],[440,310]]) #частоты для женщин\n",
    "both = men + women #складываем частоты для женщин и для мужчин, чтобы получить суммарные частоты"
   ]
  },
  {
   "cell_type": "code",
   "execution_count": 31,
   "metadata": {
    "id": "9as5SQMHTNMg",
    "scrolled": true
   },
   "outputs": [
    {
     "name": "stdout",
     "output_type": "stream",
     "text": [
      "statistic =  4.107854906463222\n",
      "p-value =  0.04268446899604583\n"
     ]
    }
   ],
   "source": [
    "# можно реализовать критерий вручную \n",
    "\n",
    "n = np.sum(men) # количество испытуемых среди мужчин\n",
    "n1,n2 = np.sum(men,axis=1) # количество испытуемых, принимавших и не принимавших лекарство среди мужчин\n",
    "p = np.sum(men,axis=0)/n # вероятности попасть в (B) и (not B)\n",
    "exmen = np.array([p*n1,p*n2]) # ожидаемые количества в каждой ячейке\n",
    "\n",
    "statistic = np.sum((men - exmen)**2/exmen) #рассчитываем значение статистики\n",
    "pvalue = 1-stats.chi2.cdf(statistic, df=1) #значение p-value\n",
    "\n",
    "print(\"statistic = \", statistic)\n",
    "print(\"p-value = \", pvalue)"
   ]
  },
  {
   "cell_type": "code",
   "execution_count": 32,
   "metadata": {
    "id": "M8KbRS5TbZWP"
   },
   "outputs": [
    {
     "data": {
      "text/plain": [
       "(4.107854906463222,\n",
       " 0.04268446899604581,\n",
       " 1,\n",
       " array([[755.84623599, 894.15376401],\n",
       "        [102.15376401, 120.84623599]]))"
      ]
     },
     "execution_count": 32,
     "metadata": {},
     "output_type": "execute_result"
    }
   ],
   "source": [
    "stats.chi2_contingency(men, correction=False)"
   ]
  },
  {
   "cell_type": "markdown",
   "metadata": {
    "id": "RdsdAh0i9TRv"
   },
   "source": [
    "### Есть ли эффект от лекарства у женщин? "
   ]
  },
  {
   "cell_type": "code",
   "execution_count": 33,
   "metadata": {
    "id": "eOd4obAt9TRv",
    "scrolled": true
   },
   "outputs": [
    {
     "data": {
      "text/plain": [
       "(5.838444095586957,\n",
       " 0.015679686056826774,\n",
       " 1,\n",
       " array([[148.96984925,  96.03015075],\n",
       "        [456.03015075, 293.96984925]]))"
      ]
     },
     "execution_count": 33,
     "metadata": {},
     "output_type": "execute_result"
    }
   ],
   "source": [
    "#YOUR CODE\n",
    "stats.chi2_contingency(women, correction=False)"
   ]
  },
  {
   "cell_type": "markdown",
   "metadata": {
    "id": "NZI3z-AL9TRv"
   },
   "source": [
    "Для женщин соответствующие доли равны $0.673>0.587$ - среди принимавших лекарство доля выздоровевших больше, чем среди не принимавших лекарство, различия значимы."
   ]
  },
  {
   "cell_type": "markdown",
   "metadata": {
    "id": "muXDpaVlyuz8"
   },
   "source": [
    "### Есть ли эффект от лекарства у мужчин и женщин вместе? "
   ]
  },
  {
   "cell_type": "code",
   "execution_count": 34,
   "metadata": {
    "id": "FwWLikWny23X"
   },
   "outputs": [
    {
     "data": {
      "text/plain": [
       "(6.239588767305169,\n",
       " 0.012492547994073244,\n",
       " 1,\n",
       " array([[966.66143654, 928.33856346],\n",
       "        [496.33856346, 476.66143654]]))"
      ]
     },
     "execution_count": 34,
     "metadata": {},
     "output_type": "execute_result"
    }
   ],
   "source": [
    "# YOUR CODE\n",
    "stats.chi2_contingency(both, correction=False)"
   ]
  },
  {
   "cell_type": "markdown",
   "metadata": {
    "id": "YmtCZjShyzpO"
   },
   "source": [
    "Как это ни странно, из таблицы с объединенными результатами следует, что доля выздоровевших больше среди тех людей, которые лекарство **не принимали**:\n",
    "\n",
    "$$\\frac{935}{935+960} \\approx 0.493 \\qquad < \\qquad 0.542 \\approx \\frac{528}{528+445}.$$\n",
    "  "
   ]
  },
  {
   "cell_type": "markdown",
   "metadata": {
    "id": "WtyiiuXl7fE-"
   },
   "source": [
    "Может произойти такая ситуация, что новое лекарство может оказаться эффективным в каждом из отдельных исследований, на каждой отдельной группе, но объединение результатов укажет на то, что это лекарство либо бесполезно, либо вредно. Проблема здесь в том, что объединять эти выборки просто слив данные вместе нельзя: контрольные группы (не принимавших лекарство) занимают разный объем от выборок -- примерно 12% в случае мужчин и 75% в случае женщин."
   ]
  },
  {
   "cell_type": "markdown",
   "metadata": {
    "id": "u9kJ9VPKcQVr"
   },
   "source": [
    "# Критерий Манна-Уитни"
   ]
  },
  {
   "cell_type": "markdown",
   "metadata": {
    "id": "iWF8xE3O9TRx"
   },
   "source": [
    "U-критерий Манна-Уитни - это непараметрический статистический критерий, используемый для оценки различий между двумя выборками по признаку, измеренному в количественной или порядковой шкале. U-критерий является ранговым."
   ]
  },
  {
   "cell_type": "markdown",
   "metadata": {
    "id": "wH4vpYqn9TRx"
   },
   "source": [
    "**Выборки**    $X_1^{n1} = {X_{11} ... X_{1n_1}}$ и выборка $X_2^{n2} = {X_{21} ... X_{2n_2}}$ \n",
    "\n",
    "\n",
    "**Нулевая гипотеза**: $F_{X_1} = F_{X_2}$ - значения из выборок равномерно рассеяны в вариационном ряде.\n",
    "\n",
    "**Альтернативная гипотеза (двусторонняя альтернатива)**  $F_{X_1} \\not= F_{X_2}$ - значения в какой-то из выборок рассеяны в вариационном ряде неравномерно.\n",
    "\n",
    "\n",
    "**Статистика** Уложим обе наши выборки в один вариационный ряд. После чего подсчитаем сумму рангов, приходящуюся на элементы первой выборки ($R_1$) и на элементы  второй выборки ($R_2$). \n",
    "\n",
    "$$U_1 = n_1n_2 + \\dfrac{n_2(n_2+1)}{2} - R_1$$\n",
    "\n",
    "$$U_2 = n_1n_2 + \\dfrac{n_1(n_1+1)}{2} - R_2$$\n",
    "\n",
    "$$U = min(U_1, U_2)$$\n",
    "\n",
    "**Нулевое распределение** Табличное\n"
   ]
  },
  {
   "cell_type": "code",
   "execution_count": 35,
   "metadata": {
    "id": "kgr6xQNt9TRx"
   },
   "outputs": [],
   "source": [
    "import matplotlib.pyplot as plt\n",
    "def two_histograms(x, y):\n",
    "    \"\"\"\n",
    "    Функция, которая построит две гистограммы на одной картинке.\n",
    "    Дополнительно пунктирными линиями указываются медианные значения выборок.\n",
    "    x: вектор pd.Series,\n",
    "    y: вектор pd.Series\n",
    "    \"\"\"\n",
    "    x.hist(alpha=0.5, weights=[1./len(x)]*len(x))\n",
    "    y.hist(alpha=0.5, weights=[1./len(y)]*len(y))\n",
    "    plt.axvline(x.median(), color='red', alpha=0.8, linestyle='dashed')\n",
    "    plt.axvline(y.median(), color='blue', alpha=0.8, linestyle='dashed')\n",
    "    plt.legend([x.name, y.name])"
   ]
  },
  {
   "cell_type": "markdown",
   "metadata": {
    "id": "OZPQauMq9TRy"
   },
   "source": [
    "Теперь давайте решим реальную задачку. "
   ]
  },
  {
   "cell_type": "code",
   "execution_count": 37,
   "metadata": {
    "id": "Jcd09vUT9TRy"
   },
   "outputs": [],
   "source": [
    "df = pd.read_csv('Albuquerque Home Prices_data (1).txt', sep='\\t')"
   ]
  },
  {
   "cell_type": "code",
   "execution_count": 38,
   "metadata": {
    "id": "i4J4KdiP9TRy"
   },
   "outputs": [
    {
     "data": {
      "text/html": [
       "<div>\n",
       "<style scoped>\n",
       "    .dataframe tbody tr th:only-of-type {\n",
       "        vertical-align: middle;\n",
       "    }\n",
       "\n",
       "    .dataframe tbody tr th {\n",
       "        vertical-align: top;\n",
       "    }\n",
       "\n",
       "    .dataframe thead th {\n",
       "        text-align: right;\n",
       "    }\n",
       "</style>\n",
       "<table border=\"1\" class=\"dataframe\">\n",
       "  <thead>\n",
       "    <tr style=\"text-align: right;\">\n",
       "      <th></th>\n",
       "      <th>PRICE</th>\n",
       "      <th>SQFT</th>\n",
       "      <th>AGE</th>\n",
       "      <th>FEATS</th>\n",
       "      <th>NE</th>\n",
       "      <th>CUST</th>\n",
       "      <th>COR</th>\n",
       "      <th>TAX</th>\n",
       "    </tr>\n",
       "  </thead>\n",
       "  <tbody>\n",
       "    <tr>\n",
       "      <th>0</th>\n",
       "      <td>2050</td>\n",
       "      <td>2650</td>\n",
       "      <td>13</td>\n",
       "      <td>7</td>\n",
       "      <td>1</td>\n",
       "      <td>1</td>\n",
       "      <td>0</td>\n",
       "      <td>1639</td>\n",
       "    </tr>\n",
       "    <tr>\n",
       "      <th>1</th>\n",
       "      <td>2080</td>\n",
       "      <td>2600</td>\n",
       "      <td>-9999</td>\n",
       "      <td>4</td>\n",
       "      <td>1</td>\n",
       "      <td>1</td>\n",
       "      <td>0</td>\n",
       "      <td>1088</td>\n",
       "    </tr>\n",
       "    <tr>\n",
       "      <th>2</th>\n",
       "      <td>2150</td>\n",
       "      <td>2664</td>\n",
       "      <td>6</td>\n",
       "      <td>5</td>\n",
       "      <td>1</td>\n",
       "      <td>1</td>\n",
       "      <td>0</td>\n",
       "      <td>1193</td>\n",
       "    </tr>\n",
       "    <tr>\n",
       "      <th>3</th>\n",
       "      <td>2150</td>\n",
       "      <td>2921</td>\n",
       "      <td>3</td>\n",
       "      <td>6</td>\n",
       "      <td>1</td>\n",
       "      <td>1</td>\n",
       "      <td>0</td>\n",
       "      <td>1635</td>\n",
       "    </tr>\n",
       "    <tr>\n",
       "      <th>4</th>\n",
       "      <td>1999</td>\n",
       "      <td>2580</td>\n",
       "      <td>4</td>\n",
       "      <td>4</td>\n",
       "      <td>1</td>\n",
       "      <td>1</td>\n",
       "      <td>0</td>\n",
       "      <td>1732</td>\n",
       "    </tr>\n",
       "  </tbody>\n",
       "</table>\n",
       "</div>"
      ],
      "text/plain": [
       "   PRICE  SQFT   AGE  FEATS  NE  CUST  COR   TAX\n",
       "0   2050  2650    13      7   1     1    0  1639\n",
       "1   2080  2600 -9999      4   1     1    0  1088\n",
       "2   2150  2664     6      5   1     1    0  1193\n",
       "3   2150  2921     3      6   1     1    0  1635\n",
       "4   1999  2580     4      4   1     1    0  1732"
      ]
     },
     "execution_count": 38,
     "metadata": {},
     "output_type": "execute_result"
    }
   ],
   "source": [
    "df.head()"
   ]
  },
  {
   "cell_type": "markdown",
   "metadata": {
    "id": "KztXqo_B9TRz"
   },
   "source": [
    "Хотим проверить, что цены домов на углу (COR = 1) отличаются от цен домов не на углу (COR = 0). Мы хотели бы применить t-критерий Стьюдента, но, увы, данные не удовлетворяют предпосылкам.\n",
    "Также заметьте, что значение -9999 здесь употребляется в качестве пустого значения. Нужно заменить его на корректное пустое значение."
   ]
  },
  {
   "cell_type": "code",
   "execution_count": 39,
   "metadata": {
    "id": "DhpUNrMI9TRz"
   },
   "outputs": [],
   "source": [
    "df = df.replace(-9999, np.nan)"
   ]
  },
  {
   "cell_type": "code",
   "execution_count": 40,
   "metadata": {
    "id": "5NmuKNEi9TRz"
   },
   "outputs": [
    {
     "data": {
      "text/html": [
       "<div>\n",
       "<style scoped>\n",
       "    .dataframe tbody tr th:only-of-type {\n",
       "        vertical-align: middle;\n",
       "    }\n",
       "\n",
       "    .dataframe tbody tr th {\n",
       "        vertical-align: top;\n",
       "    }\n",
       "\n",
       "    .dataframe thead th {\n",
       "        text-align: right;\n",
       "    }\n",
       "</style>\n",
       "<table border=\"1\" class=\"dataframe\">\n",
       "  <thead>\n",
       "    <tr style=\"text-align: right;\">\n",
       "      <th></th>\n",
       "      <th>PRICE</th>\n",
       "      <th>SQFT</th>\n",
       "      <th>AGE</th>\n",
       "      <th>FEATS</th>\n",
       "      <th>NE</th>\n",
       "      <th>CUST</th>\n",
       "      <th>COR</th>\n",
       "      <th>TAX</th>\n",
       "    </tr>\n",
       "  </thead>\n",
       "  <tbody>\n",
       "    <tr>\n",
       "      <th>0</th>\n",
       "      <td>2050</td>\n",
       "      <td>2650</td>\n",
       "      <td>13.0</td>\n",
       "      <td>7</td>\n",
       "      <td>1</td>\n",
       "      <td>1</td>\n",
       "      <td>0</td>\n",
       "      <td>1639.0</td>\n",
       "    </tr>\n",
       "    <tr>\n",
       "      <th>1</th>\n",
       "      <td>2080</td>\n",
       "      <td>2600</td>\n",
       "      <td>NaN</td>\n",
       "      <td>4</td>\n",
       "      <td>1</td>\n",
       "      <td>1</td>\n",
       "      <td>0</td>\n",
       "      <td>1088.0</td>\n",
       "    </tr>\n",
       "    <tr>\n",
       "      <th>2</th>\n",
       "      <td>2150</td>\n",
       "      <td>2664</td>\n",
       "      <td>6.0</td>\n",
       "      <td>5</td>\n",
       "      <td>1</td>\n",
       "      <td>1</td>\n",
       "      <td>0</td>\n",
       "      <td>1193.0</td>\n",
       "    </tr>\n",
       "    <tr>\n",
       "      <th>3</th>\n",
       "      <td>2150</td>\n",
       "      <td>2921</td>\n",
       "      <td>3.0</td>\n",
       "      <td>6</td>\n",
       "      <td>1</td>\n",
       "      <td>1</td>\n",
       "      <td>0</td>\n",
       "      <td>1635.0</td>\n",
       "    </tr>\n",
       "    <tr>\n",
       "      <th>4</th>\n",
       "      <td>1999</td>\n",
       "      <td>2580</td>\n",
       "      <td>4.0</td>\n",
       "      <td>4</td>\n",
       "      <td>1</td>\n",
       "      <td>1</td>\n",
       "      <td>0</td>\n",
       "      <td>1732.0</td>\n",
       "    </tr>\n",
       "  </tbody>\n",
       "</table>\n",
       "</div>"
      ],
      "text/plain": [
       "   PRICE  SQFT   AGE  FEATS  NE  CUST  COR     TAX\n",
       "0   2050  2650  13.0      7   1     1    0  1639.0\n",
       "1   2080  2600   NaN      4   1     1    0  1088.0\n",
       "2   2150  2664   6.0      5   1     1    0  1193.0\n",
       "3   2150  2921   3.0      6   1     1    0  1635.0\n",
       "4   1999  2580   4.0      4   1     1    0  1732.0"
      ]
     },
     "execution_count": 40,
     "metadata": {},
     "output_type": "execute_result"
    }
   ],
   "source": [
    "df.head()"
   ]
  },
  {
   "cell_type": "markdown",
   "metadata": {
    "id": "zM8EecLy9TRz"
   },
   "source": [
    "Сохраним в отдельные переменные выборки, которые собираемся сравнивать."
   ]
  },
  {
   "cell_type": "code",
   "execution_count": 41,
   "metadata": {
    "id": "XVC8RSpp9TR0"
   },
   "outputs": [],
   "source": [
    "x = df[df['COR'] == 1]['PRICE']\n",
    "y = df[df['COR'] == 0]['PRICE']\n",
    "x.name, y.name = 'corner', 'not corner'"
   ]
  },
  {
   "cell_type": "code",
   "execution_count": 49,
   "metadata": {},
   "outputs": [
    {
     "data": {
      "text/plain": [
       "<AxesSubplot:>"
      ]
     },
     "execution_count": 49,
     "metadata": {},
     "output_type": "execute_result"
    },
    {
     "data": {
      "image/png": "[encoded data removed]",
      "text/plain": [
       "<Figure size 432x288 with 1 Axes>"
      ]
     },
     "metadata": {
      "needs_background": "light"
     },
     "output_type": "display_data"
    }
   ],
   "source": [
    "x.hist()"
   ]
  },
  {
   "cell_type": "code",
   "execution_count": 48,
   "metadata": {},
   "outputs": [
    {
     "data": {
      "text/plain": [
       "<AxesSubplot:>"
      ]
     },
     "execution_count": 48,
     "metadata": {},
     "output_type": "execute_result"
    },
    {
     "data": {
      "image/png": "[encoded data removed]",
      "text/plain": [
       "<Figure size 432x288 with 1 Axes>"
      ]
     },
     "metadata": {
      "needs_background": "light"
     },
     "output_type": "display_data"
    }
   ],
   "source": [
    "y.hist()"
   ]
  },
  {
   "cell_type": "code",
   "execution_count": 50,
   "metadata": {
    "id": "wKnWP65Y9TR0"
   },
   "outputs": [
    {
     "name": "stdout",
     "output_type": "stream",
     "text": [
      "p-value: 0.8044081572425339\n"
     ]
    }
   ],
   "source": [
    "res = stats.mannwhitneyu(x, y)\n",
    "print('p-value:', res[1])"
   ]
  },
  {
   "cell_type": "code",
   "execution_count": 51,
   "metadata": {
    "id": "xnT3bPcs9TR0"
   },
   "outputs": [
    {
     "data": {
      "image/png": "[encoded data removed]",
      "text/plain": [
       "<Figure size 432x288 with 1 Axes>"
      ]
     },
     "metadata": {
      "needs_background": "light"
     },
     "output_type": "display_data"
    }
   ],
   "source": [
    "two_histograms(x, y)"
   ]
  },
  {
   "cell_type": "markdown",
   "metadata": {
    "id": "Or5BV-tU9TR0"
   },
   "source": [
    "## Задача 3"
   ]
  },
  {
   "cell_type": "markdown",
   "metadata": {
    "id": "_g-GUmRl9TR1"
   },
   "source": [
    "Проверьте, отличаются ли цены домов на северо-востоке от цен домов в других местах."
   ]
  },
  {
   "cell_type": "code",
   "execution_count": 52,
   "metadata": {
    "id": "jGB788gm9TR1"
   },
   "outputs": [],
   "source": [
    "x = df[df['NE'] == 1]['PRICE']\n",
    "y = df[df['NE'] == 0]['PRICE']"
   ]
  },
  {
   "cell_type": "code",
   "execution_count": 53,
   "metadata": {},
   "outputs": [
    {
     "name": "stdout",
     "output_type": "stream",
     "text": [
      "p-value: 0.10544080986815679\n"
     ]
    }
   ],
   "source": [
    "res = stats.mannwhitneyu(x, y)\n",
    "print('p-value:', res[1])"
   ]
  },
  {
   "cell_type": "markdown",
   "metadata": {
    "id": "CgAtqxqecUN8"
   },
   "source": [
    "# Критерий Уилкоксона"
   ]
  },
  {
   "cell_type": "markdown",
   "metadata": {
    "id": "tjpLkk9O9TR1"
   },
   "source": [
    "Критерий Уилкоксона (Вилкоксона) для связных выборок — непараметрический статистический критерий, применяемый для оценки различий между двумя зависимыми выборками, взятыми из закона распределения, отличного от нормального, либо измеренными с использованием порядковой шкалы. Критерий является аналогом t-критерия Стьюдента для связанных выборок в тех случаях, когда предпосылки для применения t-критерия не выполняются."
   ]
  },
  {
   "cell_type": "markdown",
   "metadata": {
    "id": "tgGsuM4m9TR1"
   },
   "source": [
    "Обычно критерий Уилкоксона применяют для того, чтобы сравнить показатели до и после лечения, до обучения и после и т.д."
   ]
  },
  {
   "cell_type": "markdown",
   "metadata": {
    "id": "7_z62TL89TR2"
   },
   "source": [
    "**Выборки**    $X_1^{n1} = {X_{11} ... X_{1n_1}}$ и выборка $X_2^{n2} = {X_{21} ... X_{2n_2}}$ \n",
    "\n",
    "Важно, что выборки являются связными.\n",
    "\n",
    "\n",
    "**Нулевая гипотеза**    $H_0: P(X_1 > X_2) = \\frac{1}{2}$\n",
    "\n",
    "**Альтернативная гипотеза**     $H_1: P(X_1 > X_2) \\not= \\frac{1}{2}$ (Двусторонняя альтернатива)\n",
    "\n",
    "**Вычисление статистики критерия:**\n",
    "\n",
    "* Рассчитать значения разностей пар двух выборок. Нулевые разности далее не учитываются. N - количество ненулевых разностей.\n",
    "* Проранжировать модули разностей пар в возрастающем порядке.\n",
    "* Приписать рангам знаки соответствующих им разностей.\n",
    "* Рассчитать сумму R положительных рангов."
   ]
  },
  {
   "cell_type": "markdown",
   "metadata": {
    "id": "rEqf4OVt9TR2"
   },
   "source": [
    "Рассмотрим файл reaction.xls, где  содержатся времена реакции испытуемых на световой и звуковой сигналы соответственно. Необходимо проверить гипотезу однородности времен рекции на различные раздражители."
   ]
  },
  {
   "cell_type": "code",
   "execution_count": 54,
   "metadata": {
    "id": "w-JqvGEj9TR2"
   },
   "outputs": [
    {
     "data": {
      "text/html": [
       "<div>\n",
       "<style scoped>\n",
       "    .dataframe tbody tr th:only-of-type {\n",
       "        vertical-align: middle;\n",
       "    }\n",
       "\n",
       "    .dataframe tbody tr th {\n",
       "        vertical-align: top;\n",
       "    }\n",
       "\n",
       "    .dataframe thead th {\n",
       "        text-align: right;\n",
       "    }\n",
       "</style>\n",
       "<table border=\"1\" class=\"dataframe\">\n",
       "  <thead>\n",
       "    <tr style=\"text-align: right;\">\n",
       "      <th></th>\n",
       "      <th>LIGHT</th>\n",
       "      <th>SOUND</th>\n",
       "    </tr>\n",
       "  </thead>\n",
       "  <tbody>\n",
       "    <tr>\n",
       "      <th>0</th>\n",
       "      <td>176</td>\n",
       "      <td>168</td>\n",
       "    </tr>\n",
       "    <tr>\n",
       "      <th>1</th>\n",
       "      <td>163</td>\n",
       "      <td>215</td>\n",
       "    </tr>\n",
       "    <tr>\n",
       "      <th>2</th>\n",
       "      <td>152</td>\n",
       "      <td>172</td>\n",
       "    </tr>\n",
       "    <tr>\n",
       "      <th>3</th>\n",
       "      <td>155</td>\n",
       "      <td>200</td>\n",
       "    </tr>\n",
       "    <tr>\n",
       "      <th>4</th>\n",
       "      <td>156</td>\n",
       "      <td>191</td>\n",
       "    </tr>\n",
       "  </tbody>\n",
       "</table>\n",
       "</div>"
      ],
      "text/plain": [
       "   LIGHT  SOUND\n",
       "0    176    168\n",
       "1    163    215\n",
       "2    152    172\n",
       "3    155    200\n",
       "4    156    191"
      ]
     },
     "execution_count": 54,
     "metadata": {},
     "output_type": "execute_result"
    }
   ],
   "source": [
    "df = pd.read_excel('reaction.xls')\n",
    "df.head()"
   ]
  },
  {
   "cell_type": "code",
   "execution_count": 55,
   "metadata": {
    "id": "5BqtApv79TR3"
   },
   "outputs": [],
   "source": [
    "sample1 = df['LIGHT']\n",
    "sample2 = df['SOUND']"
   ]
  },
  {
   "cell_type": "markdown",
   "metadata": {
    "id": "c2ex2_zO9TR3"
   },
   "source": [
    "В критерии Уикоксона есть предположение о нормальном распределении остатков. Для того, чтобы прикинуть, что это предположение выполнено, построим гистограмму для остатков:"
   ]
  },
  {
   "cell_type": "code",
   "execution_count": 56,
   "metadata": {
    "id": "q56tJqp59TR3"
   },
   "outputs": [
    {
     "data": {
      "image/png": "[encoded data removed]",
      "text/plain": [
       "<Figure size 432x288 with 1 Axes>"
      ]
     },
     "metadata": {
      "needs_background": "light"
     },
     "output_type": "display_data"
    }
   ],
   "source": [
    "plt.figure(figsize=(6,4))\n",
    "plt.hist(sample1-sample2, bins=6)\n",
    "plt.show()"
   ]
  },
  {
   "cell_type": "code",
   "execution_count": 57,
   "metadata": {
    "id": "RHLOrN6p9TR4"
   },
   "outputs": [
    {
     "name": "stderr",
     "output_type": "stream",
     "text": [
      "/opt/anaconda3/lib/python3.8/site-packages/scipy/stats/morestats.py:3141: UserWarning: Exact p-value calculation does not work if there are ties. Switching to normal approximation.\n",
      "  warnings.warn(\"Exact p-value calculation does not work if there are \"\n"
     ]
    },
    {
     "data": {
      "text/plain": [
       "WilcoxonResult(statistic=4.5, pvalue=0.011197738894413023)"
      ]
     },
     "execution_count": 57,
     "metadata": {},
     "output_type": "execute_result"
    }
   ],
   "source": [
    "stats.wilcoxon(sample1, sample2)"
   ]
  },
  {
   "cell_type": "code",
   "execution_count": 58,
   "metadata": {
    "id": "Ti1S5ND09TR4"
   },
   "outputs": [
    {
     "data": {
      "text/plain": [
       "WilcoxonResult(statistic=4.5, pvalue=0.005598869447206512)"
      ]
     },
     "execution_count": 58,
     "metadata": {},
     "output_type": "execute_result"
    }
   ],
   "source": [
    "stats.wilcoxon(sample1,sample2, alternative='less')"
   ]
  },
  {
   "cell_type": "code",
   "execution_count": 59,
   "metadata": {
    "id": "ubb3jG0s9TR4"
   },
   "outputs": [
    {
     "data": {
      "text/plain": [
       "WilcoxonResult(statistic=4.5, pvalue=0.9944011305527934)"
      ]
     },
     "execution_count": 59,
     "metadata": {},
     "output_type": "execute_result"
    }
   ],
   "source": [
    "stats.wilcoxon(sample1,sample2, alternative='greater')"
   ]
  },
  {
   "cell_type": "code",
   "execution_count": 60,
   "metadata": {
    "id": "PImSRzzJ9TR5"
   },
   "outputs": [
    {
     "data": {
      "text/plain": [
       "MannwhitneyuResult(statistic=33.0, pvalue=0.02603404658534565)"
      ]
     },
     "execution_count": 60,
     "metadata": {},
     "output_type": "execute_result"
    }
   ],
   "source": [
    "stats.mannwhitneyu(sample1,sample2, alternative='two-sided')"
   ]
  },
  {
   "cell_type": "markdown",
   "metadata": {
    "id": "dqM8KINP9TR5"
   },
   "source": [
    "## Задача 4"
   ]
  },
  {
   "cell_type": "markdown",
   "metadata": {
    "id": "97FlUUQg9TR5"
   },
   "source": [
    "Пусть у нас есть баллы студентов за пробный экзамен до посещения интенсива и после. Проверьте гипотезу, есть ли значимый прирост знаний благодаря посещению интенсива."
   ]
  },
  {
   "cell_type": "code",
   "execution_count": null,
   "metadata": {
    "id": "auEF46Hm9TR5"
   },
   "outputs": [],
   "source": [
    "st_before = [20, 23, 21, 25, 18, 17, 18, 24, 20, 24, 23, 19]\n",
    "st_after = [24, 25, 21, 22, 23, 18, 17, 28, 24, 27, 21, 23]"
   ]
  },
  {
   "cell_type": "markdown",
   "metadata": {
    "id": "WOknBliacWpD"
   },
   "source": [
    "# Критерий Знаков"
   ]
  },
  {
   "cell_type": "markdown",
   "metadata": {
    "id": "_soPUhlH9TR6"
   },
   "source": [
    "Критерий знаков  - это статистический критерий, позволяющий проверить нулевую гипотезу, что выборка подчиняется биномиальному распределению с параметром p=1/2. Критерий знаков можно использовать как непараметрический статистический критерий для проверки гипотезы равенства медианы заданному значению (в частности, нулю), а также отсутствия сдвига (отсутствия эффекта обработки) в двух связных выборках. "
   ]
  },
  {
   "cell_type": "markdown",
   "metadata": {
    "id": "XC9sbyIJ9TR6"
   },
   "source": [
    "**Выборка**    $X_n = {X_1 ... X_n}$ \n",
    "\n",
    "**Нулевая гипотеза**    $H_0: median(X) = M$\n",
    "\n",
    "**Альтернативная гипотеза**     $H_1: median(X) \\not= M$ (двусторонняя альтернатива)\n",
    "\n",
    "**Статистика** $T(X_n) = \\sum_i[X_i>M]$ Здесь $[]$- индикаторная функция (равна 1, если условие в скобках истинно и нулю в противном случае)\n",
    "\n",
    "**Нулевое распределение** $T \\sim Binomial(n,\\dfrac{1}{2})$"
   ]
  },
  {
   "cell_type": "code",
   "execution_count": 61,
   "metadata": {
    "id": "MFL8G4GC9TR7"
   },
   "outputs": [],
   "source": [
    "from statsmodels.stats.descriptivestats import sign_test"
   ]
  },
  {
   "cell_type": "code",
   "execution_count": 62,
   "metadata": {
    "id": "bkmPP3al9TR7"
   },
   "outputs": [
    {
     "data": {
      "text/plain": [
       "(-3.5, 0.0654296875)"
      ]
     },
     "execution_count": 62,
     "metadata": {},
     "output_type": "execute_result"
    }
   ],
   "source": [
    "sign_test(sample1-sample2)"
   ]
  },
  {
   "cell_type": "markdown",
   "metadata": {
    "id": "B0fhnjIs9TR7"
   },
   "source": [
    "## Задача 5"
   ]
  },
  {
   "cell_type": "markdown",
   "metadata": {
    "id": "jQ1CbnSy9TR7"
   },
   "source": [
    "В 2004 году проводился следующий эксперимент: 16 лабораторных мышей были помещены в двухкомнатные клетки, в одной из комнат висело зеркало. С целью установить, есть ли у мышей какие-то предпочтения насчет зеркал, измерялась доля времени, которое каждая мышь проводила в каждой из своих двух клеток. Проверьте гипотезу о том, что медиана доли времени, проведенного в клетке с зеркалом, равна 0.5. Данные в файле mirror_mouses.txt."
   ]
  },
  {
   "cell_type": "code",
   "execution_count": 76,
   "metadata": {
    "id": "wk3yQuT69TR8"
   },
   "outputs": [],
   "source": [
    "data = pd.read_csv('mirror_mouses.txt', sep='\\t', header = None)"
   ]
  },
  {
   "cell_type": "code",
   "execution_count": 77,
   "metadata": {},
   "outputs": [
    {
     "data": {
      "text/html": [
       "<div>\n",
       "<style scoped>\n",
       "    .dataframe tbody tr th:only-of-type {\n",
       "        vertical-align: middle;\n",
       "    }\n",
       "\n",
       "    .dataframe tbody tr th {\n",
       "        vertical-align: top;\n",
       "    }\n",
       "\n",
       "    .dataframe thead th {\n",
       "        text-align: right;\n",
       "    }\n",
       "</style>\n",
       "<table border=\"1\" class=\"dataframe\">\n",
       "  <thead>\n",
       "    <tr style=\"text-align: right;\">\n",
       "      <th></th>\n",
       "      <th>0</th>\n",
       "    </tr>\n",
       "  </thead>\n",
       "  <tbody>\n",
       "    <tr>\n",
       "      <th>0</th>\n",
       "      <td>0.348471</td>\n",
       "    </tr>\n",
       "    <tr>\n",
       "      <th>1</th>\n",
       "      <td>0.640620</td>\n",
       "    </tr>\n",
       "    <tr>\n",
       "      <th>2</th>\n",
       "      <td>0.549818</td>\n",
       "    </tr>\n",
       "    <tr>\n",
       "      <th>3</th>\n",
       "      <td>0.537454</td>\n",
       "    </tr>\n",
       "    <tr>\n",
       "      <th>4</th>\n",
       "      <td>0.400444</td>\n",
       "    </tr>\n",
       "    <tr>\n",
       "      <th>5</th>\n",
       "      <td>0.426292</td>\n",
       "    </tr>\n",
       "    <tr>\n",
       "      <th>6</th>\n",
       "      <td>0.417156</td>\n",
       "    </tr>\n",
       "    <tr>\n",
       "      <th>7</th>\n",
       "      <td>0.477977</td>\n",
       "    </tr>\n",
       "    <tr>\n",
       "      <th>8</th>\n",
       "      <td>0.450657</td>\n",
       "    </tr>\n",
       "    <tr>\n",
       "      <th>9</th>\n",
       "      <td>0.476602</td>\n",
       "    </tr>\n",
       "    <tr>\n",
       "      <th>10</th>\n",
       "      <td>0.488677</td>\n",
       "    </tr>\n",
       "    <tr>\n",
       "      <th>11</th>\n",
       "      <td>0.484741</td>\n",
       "    </tr>\n",
       "    <tr>\n",
       "      <th>12</th>\n",
       "      <td>0.481614</td>\n",
       "    </tr>\n",
       "    <tr>\n",
       "      <th>13</th>\n",
       "      <td>0.489406</td>\n",
       "    </tr>\n",
       "    <tr>\n",
       "      <th>14</th>\n",
       "      <td>0.467365</td>\n",
       "    </tr>\n",
       "    <tr>\n",
       "      <th>15</th>\n",
       "      <td>0.467330</td>\n",
       "    </tr>\n",
       "  </tbody>\n",
       "</table>\n",
       "</div>"
      ],
      "text/plain": [
       "           0\n",
       "0   0.348471\n",
       "1   0.640620\n",
       "2   0.549818\n",
       "3   0.537454\n",
       "4   0.400444\n",
       "5   0.426292\n",
       "6   0.417156\n",
       "7   0.477977\n",
       "8   0.450657\n",
       "9   0.476602\n",
       "10  0.488677\n",
       "11  0.484741\n",
       "12  0.481614\n",
       "13  0.489406\n",
       "14  0.467365\n",
       "15  0.467330"
      ]
     },
     "execution_count": 77,
     "metadata": {},
     "output_type": "execute_result"
    }
   ],
   "source": [
    "data"
   ]
  },
  {
   "cell_type": "code",
   "execution_count": 78,
   "metadata": {},
   "outputs": [
    {
     "data": {
      "text/plain": [
       "(-5.0, 0.021270751953125)"
      ]
     },
     "execution_count": 78,
     "metadata": {},
     "output_type": "execute_result"
    }
   ],
   "source": [
    "sign_test(data, 0.5)"
   ]
  },
  {
   "cell_type": "code",
   "execution_count": null,
   "metadata": {},
   "outputs": [],
   "source": []
  }
 ],
 "metadata": {
  "colab": {
   "name": "Sem7_chi_square.ipynb",
   "provenance": []
  },
  "kernelspec": {
   "display_name": "Python 3 (ipykernel)",
   "language": "python",
   "name": "python3"
  },
  "language_info": {
   "codemirror_mode": {
    "name": "ipython",
    "version": 3
   },
   "file_extension": ".py",
   "mimetype": "text/x-python",
   "name": "python",
   "nbconvert_exporter": "python",
   "pygments_lexer": "ipython3",
   "version": "3.8.13"
  }
 },
 "nbformat": 4,
 "nbformat_minor": 1
}
