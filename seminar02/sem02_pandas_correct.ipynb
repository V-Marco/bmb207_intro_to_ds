{
 "cells": [
  {
   "cell_type": "markdown",
   "metadata": {},
   "source": [
    "# Семинар 2:  Пакеты ~~(с пакетами)~~ в python\n",
    "\n",
    "На семинаре мы будем:\n",
    "\n",
    "* Устанавливать полезные пакеты для обработки данных\n",
    "* Поработать с таблицами в pandas и использовать numpy\n",
    "* Пофильтруем, почистим, причешем данные и посчитаем статистики\n",
    "\n",
    "В качестве датасета мы будем использовать датасет по фильмам, получившим Оскар"
   ]
  },
  {
   "cell_type": "markdown",
   "metadata": {},
   "source": [
    "# 1. Пакеты\n",
    "\n",
    "Пакет - это набор полезных функций, которыми можно пользоваться просто достав их из нужного пакета. Доставать их можно методом import. Каждый пакет также нужно грузить всего один в начале работы с ноутбуком и потом спокойно можно использовать его в следующих ячейках.\n",
    "\n",
    "Подгружать пакеты можно разными способами. Давайте попробуем несколько."
   ]
  },
  {
   "cell_type": "code",
   "execution_count": 4,
   "metadata": {},
   "outputs": [
    {
     "data": {
      "text/plain": [
       "2.0"
      ]
     },
     "execution_count": 4,
     "metadata": {},
     "output_type": "execute_result"
    }
   ],
   "source": [
    "import math \n",
    "math.sqrt(4)"
   ]
  },
  {
   "cell_type": "markdown",
   "metadata": {},
   "source": [
    "При таком способе загрузки обращение к каждой команде модуля делается через точку. В Python работает табуляция. Если написать название модуля, поставить точку, а после нажать Tab, то Jupyter Notebook подскажет какие ещё команды есть внутри модуля."
   ]
  },
  {
   "cell_type": "code",
   "execution_count": null,
   "metadata": {},
   "outputs": [],
   "source": [
    "math."
   ]
  },
  {
   "cell_type": "markdown",
   "metadata": {},
   "source": [
    "Каждый раз писать название пакета перед тем как достать из него какую-нибудь функцию - это нудно и длинно. Можно сокращать.\n",
    "\n",
    "Например, можно импортировать только какие-то определенные функции. Это еще и память экономит."
   ]
  },
  {
   "cell_type": "code",
   "execution_count": 6,
   "metadata": {},
   "outputs": [
    {
     "data": {
      "text/plain": [
       "3.0"
      ]
     },
     "execution_count": 6,
     "metadata": {},
     "output_type": "execute_result"
    }
   ],
   "source": [
    "from math import sqrt\n",
    "\n",
    "sqrt(9)"
   ]
  },
  {
   "cell_type": "markdown",
   "metadata": {},
   "source": [
    "А можно выгрузить вообще все содержимое пакета и обращаться к функциям напрямую."
   ]
  },
  {
   "cell_type": "code",
   "execution_count": 7,
   "metadata": {},
   "outputs": [
    {
     "data": {
      "text/plain": [
       "3.141592653589793"
      ]
     },
     "execution_count": 7,
     "metadata": {},
     "output_type": "execute_result"
    }
   ],
   "source": [
    "from math import *\n",
    "pi"
   ]
  },
  {
   "cell_type": "markdown",
   "metadata": {},
   "source": [
    "Также можно подгрузить какой-нибудь модуль или пакет, но при этом изменить у него название на более короткое и пользоваться им."
   ]
  },
  {
   "cell_type": "markdown",
   "metadata": {},
   "source": [
    "# 2. Все любят панд\n",
    "\n",
    "Давайте подгрузим пакет для работы с таблицами, [pandas](http://pandas.pydata.org/) и попробуем немного поработать с данными о фильмах, получивших премию Оскар. \n",
    "\n",
    "## 2.1 Оскар в студию"
   ]
  },
  {
   "cell_type": "code",
   "execution_count": 9,
   "metadata": {},
   "outputs": [],
   "source": [
    "import pandas as pd  # подгружаем пакет для работы с таблицами"
   ]
  },
  {
   "cell_type": "markdown",
   "metadata": {},
   "source": [
    "По имени `pd` нам теперь доступна куча команд для работы с таблицами. Давайте подгрузим данные и посмотрим что лежит внутри нашей таблички. Делать это будем командой [pd.read_csv().](http://pandas.pydata.org/pandas-docs/stable/generated/pandas.read_csv.html#pandas.read_csv)\n",
    "\n",
    "Аргументов у нее очень много, критически важные:\n",
    "\n",
    " - **filepath_or_buffer** - текстовая строка с названием (адресом) файла\n",
    " - **sep** - разделитель между данными\n",
    " - **header** - номер строки, в которой в файле указаны названия столбцов, None, если нет\n",
    " - **names** - список с названиями колонок\n",
    " - **index_col** - или номер столбца, или список,  или ничего - названия строк"
   ]
  },
  {
   "cell_type": "code",
   "execution_count": 14,
   "metadata": {},
   "outputs": [
    {
     "data": {
      "text/html": [
       "<div>\n",
       "<style scoped>\n",
       "    .dataframe tbody tr th:only-of-type {\n",
       "        vertical-align: middle;\n",
       "    }\n",
       "\n",
       "    .dataframe tbody tr th {\n",
       "        vertical-align: top;\n",
       "    }\n",
       "\n",
       "    .dataframe thead th {\n",
       "        text-align: right;\n",
       "    }\n",
       "</style>\n",
       "<table border=\"1\" class=\"dataframe\">\n",
       "  <thead>\n",
       "    <tr style=\"text-align: right;\">\n",
       "      <th></th>\n",
       "      <th>Unnamed: 0</th>\n",
       "      <th>Film</th>\n",
       "      <th>Oscar Year</th>\n",
       "      <th>Film Studio/Producer(s)</th>\n",
       "      <th>Award</th>\n",
       "      <th>Year of Release</th>\n",
       "      <th>Movie Time</th>\n",
       "      <th>Movie Genre</th>\n",
       "      <th>IMDB Rating</th>\n",
       "      <th>IMDB Votes</th>\n",
       "      <th>...</th>\n",
       "      <th>Tomatometer Status</th>\n",
       "      <th>Tomatometer Rating</th>\n",
       "      <th>Tomatometer Count</th>\n",
       "      <th>Audience Status</th>\n",
       "      <th>Audience Rating</th>\n",
       "      <th>Audience Count</th>\n",
       "      <th>Tomatometer Top Critics Count</th>\n",
       "      <th>Tomatometer Fresh Critics Count</th>\n",
       "      <th>Tomatometer Rotten Critics Count</th>\n",
       "      <th>Film ID</th>\n",
       "    </tr>\n",
       "  </thead>\n",
       "  <tbody>\n",
       "    <tr>\n",
       "      <th>0</th>\n",
       "      <td>0</td>\n",
       "      <td>Wings</td>\n",
       "      <td>1927/28</td>\n",
       "      <td>Famous Players-Lasky</td>\n",
       "      <td>Winner</td>\n",
       "      <td>1927</td>\n",
       "      <td>144</td>\n",
       "      <td>Drama,Romance,War</td>\n",
       "      <td>7.5</td>\n",
       "      <td>12,221</td>\n",
       "      <td>...</td>\n",
       "      <td>Certified-Fresh</td>\n",
       "      <td>93.0</td>\n",
       "      <td>46.0</td>\n",
       "      <td>Upright</td>\n",
       "      <td>78.0</td>\n",
       "      <td>3530.0</td>\n",
       "      <td>9.0</td>\n",
       "      <td>43.0</td>\n",
       "      <td>3.0</td>\n",
       "      <td>2becf7d5-a3de-46ab-ae45-abdd6b588067</td>\n",
       "    </tr>\n",
       "    <tr>\n",
       "      <th>1</th>\n",
       "      <td>1</td>\n",
       "      <td>7th Heaven</td>\n",
       "      <td>1927/28</td>\n",
       "      <td>Fox</td>\n",
       "      <td>Nominee</td>\n",
       "      <td>1927</td>\n",
       "      <td>110</td>\n",
       "      <td>Drama,Romance</td>\n",
       "      <td>7.7</td>\n",
       "      <td>3,439</td>\n",
       "      <td>...</td>\n",
       "      <td>NaN</td>\n",
       "      <td>NaN</td>\n",
       "      <td>NaN</td>\n",
       "      <td>NaN</td>\n",
       "      <td>NaN</td>\n",
       "      <td>NaN</td>\n",
       "      <td>NaN</td>\n",
       "      <td>NaN</td>\n",
       "      <td>NaN</td>\n",
       "      <td>19ed3295-a878-4fd2-8e60-5cd7b5f93dad</td>\n",
       "    </tr>\n",
       "    <tr>\n",
       "      <th>2</th>\n",
       "      <td>2</td>\n",
       "      <td>The Racket</td>\n",
       "      <td>1927/28</td>\n",
       "      <td>The Caddo Company</td>\n",
       "      <td>Nominee</td>\n",
       "      <td>1928</td>\n",
       "      <td>84</td>\n",
       "      <td>Crime,Drama,Film-Noir</td>\n",
       "      <td>6.7</td>\n",
       "      <td>1,257</td>\n",
       "      <td>...</td>\n",
       "      <td>NaN</td>\n",
       "      <td>NaN</td>\n",
       "      <td>NaN</td>\n",
       "      <td>NaN</td>\n",
       "      <td>NaN</td>\n",
       "      <td>NaN</td>\n",
       "      <td>NaN</td>\n",
       "      <td>NaN</td>\n",
       "      <td>NaN</td>\n",
       "      <td>3111c2d8-0908-4093-8ff3-99c89f2f2f08</td>\n",
       "    </tr>\n",
       "    <tr>\n",
       "      <th>3</th>\n",
       "      <td>3</td>\n",
       "      <td>The Broadway Melody</td>\n",
       "      <td>1928/29</td>\n",
       "      <td>Metro-Goldwyn-Mayer</td>\n",
       "      <td>Winner</td>\n",
       "      <td>1929</td>\n",
       "      <td>100</td>\n",
       "      <td>Drama,Musical,Romance</td>\n",
       "      <td>5.7</td>\n",
       "      <td>6,890</td>\n",
       "      <td>...</td>\n",
       "      <td>Rotten</td>\n",
       "      <td>33.0</td>\n",
       "      <td>24.0</td>\n",
       "      <td>Spilled</td>\n",
       "      <td>21.0</td>\n",
       "      <td>1813.0</td>\n",
       "      <td>7.0</td>\n",
       "      <td>8.0</td>\n",
       "      <td>16.0</td>\n",
       "      <td>de063f3f-2d35-4e1c-8636-6eb4c16bd236</td>\n",
       "    </tr>\n",
       "    <tr>\n",
       "      <th>4</th>\n",
       "      <td>4</td>\n",
       "      <td>Alibi</td>\n",
       "      <td>1928/29</td>\n",
       "      <td>Feature Productions</td>\n",
       "      <td>Nominee</td>\n",
       "      <td>1929</td>\n",
       "      <td>91</td>\n",
       "      <td>Action,Crime,Romance</td>\n",
       "      <td>5.8</td>\n",
       "      <td>765</td>\n",
       "      <td>...</td>\n",
       "      <td>NaN</td>\n",
       "      <td>NaN</td>\n",
       "      <td>NaN</td>\n",
       "      <td>NaN</td>\n",
       "      <td>NaN</td>\n",
       "      <td>NaN</td>\n",
       "      <td>NaN</td>\n",
       "      <td>NaN</td>\n",
       "      <td>NaN</td>\n",
       "      <td>609887c2-877c-43a4-b88c-e40e31096a98</td>\n",
       "    </tr>\n",
       "  </tbody>\n",
       "</table>\n",
       "<p>5 rows × 30 columns</p>\n",
       "</div>"
      ],
      "text/plain": [
       "   Unnamed: 0                 Film Oscar Year Film Studio/Producer(s)  \\\n",
       "0           0                Wings    1927/28    Famous Players-Lasky   \n",
       "1           1           7th Heaven    1927/28                     Fox   \n",
       "2           2           The Racket    1927/28       The Caddo Company   \n",
       "3           3  The Broadway Melody    1928/29     Metro-Goldwyn-Mayer   \n",
       "4           4                Alibi    1928/29     Feature Productions   \n",
       "\n",
       "     Award  Year of Release  Movie Time            Movie Genre  IMDB Rating  \\\n",
       "0   Winner             1927         144      Drama,Romance,War          7.5   \n",
       "1  Nominee             1927         110          Drama,Romance          7.7   \n",
       "2  Nominee             1928          84  Crime,Drama,Film-Noir          6.7   \n",
       "3   Winner             1929         100  Drama,Musical,Romance          5.7   \n",
       "4  Nominee             1929          91   Action,Crime,Romance          5.8   \n",
       "\n",
       "  IMDB Votes  ... Tomatometer Status Tomatometer Rating Tomatometer Count  \\\n",
       "0     12,221  ...    Certified-Fresh               93.0              46.0   \n",
       "1      3,439  ...                NaN                NaN               NaN   \n",
       "2      1,257  ...                NaN                NaN               NaN   \n",
       "3      6,890  ...             Rotten               33.0              24.0   \n",
       "4        765  ...                NaN                NaN               NaN   \n",
       "\n",
       "  Audience Status Audience Rating Audience Count  \\\n",
       "0         Upright            78.0         3530.0   \n",
       "1             NaN             NaN            NaN   \n",
       "2             NaN             NaN            NaN   \n",
       "3         Spilled            21.0         1813.0   \n",
       "4             NaN             NaN            NaN   \n",
       "\n",
       "  Tomatometer Top Critics Count Tomatometer Fresh Critics Count  \\\n",
       "0                           9.0                            43.0   \n",
       "1                           NaN                             NaN   \n",
       "2                           NaN                             NaN   \n",
       "3                           7.0                             8.0   \n",
       "4                           NaN                             NaN   \n",
       "\n",
       "  Tomatometer Rotten Critics Count                               Film ID  \n",
       "0                              3.0  2becf7d5-a3de-46ab-ae45-abdd6b588067  \n",
       "1                              NaN  19ed3295-a878-4fd2-8e60-5cd7b5f93dad  \n",
       "2                              NaN  3111c2d8-0908-4093-8ff3-99c89f2f2f08  \n",
       "3                             16.0  de063f3f-2d35-4e1c-8636-6eb4c16bd236  \n",
       "4                              NaN  609887c2-877c-43a4-b88c-e40e31096a98  \n",
       "\n",
       "[5 rows x 30 columns]"
      ]
     },
     "execution_count": 14,
     "metadata": {},
     "output_type": "execute_result"
    }
   ],
   "source": [
    "df = pd.read_csv('/Users/ekutynina/Downloads/oscars_df.csv', sep=',')\n",
    "df.head(5) # метод head выводит на экран первые 7 строк :) "
   ]
  },
  {
   "cell_type": "markdown",
   "metadata": {},
   "source": [
    "В табличке есть огромное количество самых разных переменных. Их названия довольно интуитивны. Будем разбираться с тем за что отвечает какая колонка по мере необходимости. Отметим только то, что все переменные разных типов. На основную информацию по ним можно посмотреть с помощью метода `.info()`. Напротив каждого названия столбца можно увидеть, сколько в нём заполненных ячеек. "
   ]
  },
  {
   "cell_type": "code",
   "execution_count": 15,
   "metadata": {},
   "outputs": [
    {
     "name": "stdout",
     "output_type": "stream",
     "text": [
      "<class 'pandas.core.frame.DataFrame'>\n",
      "RangeIndex: 571 entries, 0 to 570\n",
      "Data columns (total 30 columns):\n",
      " #   Column                            Non-Null Count  Dtype  \n",
      "---  ------                            --------------  -----  \n",
      " 0   Unnamed: 0                        571 non-null    int64  \n",
      " 1   Film                              571 non-null    object \n",
      " 2   Oscar Year                        571 non-null    object \n",
      " 3   Film Studio/Producer(s)           571 non-null    object \n",
      " 4   Award                             571 non-null    object \n",
      " 5   Year of Release                   571 non-null    int64  \n",
      " 6   Movie Time                        571 non-null    int64  \n",
      " 7   Movie Genre                       571 non-null    object \n",
      " 8   IMDB Rating                       571 non-null    float64\n",
      " 9   IMDB Votes                        571 non-null    object \n",
      " 10  Movie Info                        438 non-null    object \n",
      " 11  Genres                            439 non-null    object \n",
      " 12  Critic Consensus                  339 non-null    object \n",
      " 13  Content Rating                    439 non-null    object \n",
      " 14  Directors                         437 non-null    object \n",
      " 15  Authors                           437 non-null    object \n",
      " 16  Actors                            439 non-null    object \n",
      " 17  Original Release Date             439 non-null    object \n",
      " 18  Streaming Release Date            438 non-null    object \n",
      " 19  Production Company                439 non-null    object \n",
      " 20  Tomatometer Status                439 non-null    object \n",
      " 21  Tomatometer Rating                439 non-null    float64\n",
      " 22  Tomatometer Count                 439 non-null    float64\n",
      " 23  Audience Status                   436 non-null    object \n",
      " 24  Audience Rating                   439 non-null    float64\n",
      " 25  Audience Count                    439 non-null    float64\n",
      " 26  Tomatometer Top Critics Count     439 non-null    float64\n",
      " 27  Tomatometer Fresh Critics Count   439 non-null    float64\n",
      " 28  Tomatometer Rotten Critics Count  439 non-null    float64\n",
      " 29  Film ID                           571 non-null    object \n",
      "dtypes: float64(8), int64(3), object(19)\n",
      "memory usage: 134.0+ KB\n"
     ]
    }
   ],
   "source": [
    "df.info()"
   ]
  },
  {
   "cell_type": "markdown",
   "metadata": {},
   "source": [
    "Часто надо ответить на вопрос о количестве строк и столбцов в таблице. Для этого есть метод  `.shape`"
   ]
  },
  {
   "cell_type": "code",
   "execution_count": 33,
   "metadata": {},
   "outputs": [
    {
     "data": {
      "text/plain": [
       "(571, 31)"
      ]
     },
     "execution_count": 33,
     "metadata": {},
     "output_type": "execute_result"
    }
   ],
   "source": [
    "df.shape"
   ]
  },
  {
   "cell_type": "markdown",
   "metadata": {},
   "source": [
    "Мы уже научились смотреть на первые строки dataframe, но мы можем посмотреть на любые строки интересующего нам диапазона.\n",
    "Например, с 100 по 105 строки. Почему бы и нет?"
   ]
  },
  {
   "cell_type": "code",
   "execution_count": 17,
   "metadata": {},
   "outputs": [
    {
     "data": {
      "text/html": [
       "<div>\n",
       "<style scoped>\n",
       "    .dataframe tbody tr th:only-of-type {\n",
       "        vertical-align: middle;\n",
       "    }\n",
       "\n",
       "    .dataframe tbody tr th {\n",
       "        vertical-align: top;\n",
       "    }\n",
       "\n",
       "    .dataframe thead th {\n",
       "        text-align: right;\n",
       "    }\n",
       "</style>\n",
       "<table border=\"1\" class=\"dataframe\">\n",
       "  <thead>\n",
       "    <tr style=\"text-align: right;\">\n",
       "      <th></th>\n",
       "      <th>Unnamed: 0</th>\n",
       "      <th>Film</th>\n",
       "      <th>Oscar Year</th>\n",
       "      <th>Film Studio/Producer(s)</th>\n",
       "      <th>Award</th>\n",
       "      <th>Year of Release</th>\n",
       "      <th>Movie Time</th>\n",
       "      <th>Movie Genre</th>\n",
       "      <th>IMDB Rating</th>\n",
       "      <th>IMDB Votes</th>\n",
       "      <th>...</th>\n",
       "      <th>Tomatometer Status</th>\n",
       "      <th>Tomatometer Rating</th>\n",
       "      <th>Tomatometer Count</th>\n",
       "      <th>Audience Status</th>\n",
       "      <th>Audience Rating</th>\n",
       "      <th>Audience Count</th>\n",
       "      <th>Tomatometer Top Critics Count</th>\n",
       "      <th>Tomatometer Fresh Critics Count</th>\n",
       "      <th>Tomatometer Rotten Critics Count</th>\n",
       "      <th>Film ID</th>\n",
       "    </tr>\n",
       "  </thead>\n",
       "  <tbody>\n",
       "    <tr>\n",
       "      <th>99</th>\n",
       "      <td>99</td>\n",
       "      <td>Wuthering Heights</td>\n",
       "      <td>1939</td>\n",
       "      <td>Samuel Goldwyn Productions</td>\n",
       "      <td>Nominee</td>\n",
       "      <td>1939</td>\n",
       "      <td>104</td>\n",
       "      <td>Drama,Romance</td>\n",
       "      <td>7.6</td>\n",
       "      <td>17,314</td>\n",
       "      <td>...</td>\n",
       "      <td>Fresh</td>\n",
       "      <td>96.0</td>\n",
       "      <td>23.0</td>\n",
       "      <td>Upright</td>\n",
       "      <td>85.0</td>\n",
       "      <td>8786.0</td>\n",
       "      <td>1.0</td>\n",
       "      <td>22.0</td>\n",
       "      <td>1.0</td>\n",
       "      <td>961860de-899b-4c9a-85ba-d5fb0359cbfb</td>\n",
       "    </tr>\n",
       "    <tr>\n",
       "      <th>100</th>\n",
       "      <td>100</td>\n",
       "      <td>Rebecca</td>\n",
       "      <td>1940</td>\n",
       "      <td>Selznick International Pictures</td>\n",
       "      <td>Winner</td>\n",
       "      <td>1940</td>\n",
       "      <td>130</td>\n",
       "      <td>Drama,Mystery,Romance</td>\n",
       "      <td>8.1</td>\n",
       "      <td>130,546</td>\n",
       "      <td>...</td>\n",
       "      <td>NaN</td>\n",
       "      <td>NaN</td>\n",
       "      <td>NaN</td>\n",
       "      <td>NaN</td>\n",
       "      <td>NaN</td>\n",
       "      <td>NaN</td>\n",
       "      <td>NaN</td>\n",
       "      <td>NaN</td>\n",
       "      <td>NaN</td>\n",
       "      <td>e39af7f6-07a0-44e2-ad07-3924634c0aea</td>\n",
       "    </tr>\n",
       "    <tr>\n",
       "      <th>101</th>\n",
       "      <td>101</td>\n",
       "      <td>All This, and Heaven Too</td>\n",
       "      <td>1940</td>\n",
       "      <td>Warner Bros.</td>\n",
       "      <td>Nominee</td>\n",
       "      <td>1940</td>\n",
       "      <td>141</td>\n",
       "      <td>Drama,Romance</td>\n",
       "      <td>7.5</td>\n",
       "      <td>4,728</td>\n",
       "      <td>...</td>\n",
       "      <td>Fresh</td>\n",
       "      <td>83.0</td>\n",
       "      <td>6.0</td>\n",
       "      <td>Upright</td>\n",
       "      <td>85.0</td>\n",
       "      <td>1048.0</td>\n",
       "      <td>3.0</td>\n",
       "      <td>5.0</td>\n",
       "      <td>1.0</td>\n",
       "      <td>83619bb1-3c1d-4e3b-bf20-98f9dca469f3</td>\n",
       "    </tr>\n",
       "    <tr>\n",
       "      <th>102</th>\n",
       "      <td>102</td>\n",
       "      <td>Foreign Correspondent</td>\n",
       "      <td>1940</td>\n",
       "      <td>Walter Wanger (production company)</td>\n",
       "      <td>Nominee</td>\n",
       "      <td>1940</td>\n",
       "      <td>120</td>\n",
       "      <td>Action,Romance,Thriller</td>\n",
       "      <td>7.5</td>\n",
       "      <td>19,657</td>\n",
       "      <td>...</td>\n",
       "      <td>Fresh</td>\n",
       "      <td>95.0</td>\n",
       "      <td>39.0</td>\n",
       "      <td>Upright</td>\n",
       "      <td>81.0</td>\n",
       "      <td>6906.0</td>\n",
       "      <td>4.0</td>\n",
       "      <td>37.0</td>\n",
       "      <td>2.0</td>\n",
       "      <td>d0f8a19e-333c-4dde-aedc-5a15d1df26e0</td>\n",
       "    </tr>\n",
       "    <tr>\n",
       "      <th>103</th>\n",
       "      <td>103</td>\n",
       "      <td>The Grapes of Wrath</td>\n",
       "      <td>1940</td>\n",
       "      <td>20th Century-Fox</td>\n",
       "      <td>Nominee</td>\n",
       "      <td>1940</td>\n",
       "      <td>129</td>\n",
       "      <td>Drama,History</td>\n",
       "      <td>8.1</td>\n",
       "      <td>89,303</td>\n",
       "      <td>...</td>\n",
       "      <td>Certified-Fresh</td>\n",
       "      <td>100.0</td>\n",
       "      <td>48.0</td>\n",
       "      <td>Upright</td>\n",
       "      <td>88.0</td>\n",
       "      <td>24311.0</td>\n",
       "      <td>7.0</td>\n",
       "      <td>48.0</td>\n",
       "      <td>0.0</td>\n",
       "      <td>1709969c-4b54-4c2b-a3ef-384c9a800499</td>\n",
       "    </tr>\n",
       "  </tbody>\n",
       "</table>\n",
       "<p>5 rows × 30 columns</p>\n",
       "</div>"
      ],
      "text/plain": [
       "     Unnamed: 0                      Film Oscar Year  \\\n",
       "99           99         Wuthering Heights       1939   \n",
       "100         100                   Rebecca       1940   \n",
       "101         101  All This, and Heaven Too       1940   \n",
       "102         102     Foreign Correspondent       1940   \n",
       "103         103       The Grapes of Wrath       1940   \n",
       "\n",
       "                Film Studio/Producer(s)    Award  Year of Release  Movie Time  \\\n",
       "99           Samuel Goldwyn Productions  Nominee             1939         104   \n",
       "100     Selznick International Pictures   Winner             1940         130   \n",
       "101                        Warner Bros.  Nominee             1940         141   \n",
       "102  Walter Wanger (production company)  Nominee             1940         120   \n",
       "103                    20th Century-Fox  Nominee             1940         129   \n",
       "\n",
       "                 Movie Genre  IMDB Rating IMDB Votes  ... Tomatometer Status  \\\n",
       "99             Drama,Romance          7.6     17,314  ...              Fresh   \n",
       "100    Drama,Mystery,Romance          8.1    130,546  ...                NaN   \n",
       "101            Drama,Romance          7.5      4,728  ...              Fresh   \n",
       "102  Action,Romance,Thriller          7.5     19,657  ...              Fresh   \n",
       "103            Drama,History          8.1     89,303  ...    Certified-Fresh   \n",
       "\n",
       "    Tomatometer Rating Tomatometer Count Audience Status Audience Rating  \\\n",
       "99                96.0              23.0         Upright            85.0   \n",
       "100                NaN               NaN             NaN             NaN   \n",
       "101               83.0               6.0         Upright            85.0   \n",
       "102               95.0              39.0         Upright            81.0   \n",
       "103              100.0              48.0         Upright            88.0   \n",
       "\n",
       "    Audience Count Tomatometer Top Critics Count  \\\n",
       "99          8786.0                           1.0   \n",
       "100            NaN                           NaN   \n",
       "101         1048.0                           3.0   \n",
       "102         6906.0                           4.0   \n",
       "103        24311.0                           7.0   \n",
       "\n",
       "    Tomatometer Fresh Critics Count Tomatometer Rotten Critics Count  \\\n",
       "99                             22.0                              1.0   \n",
       "100                             NaN                              NaN   \n",
       "101                             5.0                              1.0   \n",
       "102                            37.0                              2.0   \n",
       "103                            48.0                              0.0   \n",
       "\n",
       "                                  Film ID  \n",
       "99   961860de-899b-4c9a-85ba-d5fb0359cbfb  \n",
       "100  e39af7f6-07a0-44e2-ad07-3924634c0aea  \n",
       "101  83619bb1-3c1d-4e3b-bf20-98f9dca469f3  \n",
       "102  d0f8a19e-333c-4dde-aedc-5a15d1df26e0  \n",
       "103  1709969c-4b54-4c2b-a3ef-384c9a800499  \n",
       "\n",
       "[5 rows x 30 columns]"
      ]
     },
     "execution_count": 17,
     "metadata": {},
     "output_type": "execute_result"
    }
   ],
   "source": [
    "df[99:104] #Нумерация объектов в python с 0, поэтому 100 строчка имеет индекс 99 "
   ]
  },
  {
   "cell_type": "markdown",
   "metadata": {},
   "source": [
    "Также, вместо `.head()` можно использовать обращение по индексам."
   ]
  },
  {
   "cell_type": "code",
   "execution_count": 20,
   "metadata": {},
   "outputs": [
    {
     "data": {
      "text/html": [
       "<div>\n",
       "<style scoped>\n",
       "    .dataframe tbody tr th:only-of-type {\n",
       "        vertical-align: middle;\n",
       "    }\n",
       "\n",
       "    .dataframe tbody tr th {\n",
       "        vertical-align: top;\n",
       "    }\n",
       "\n",
       "    .dataframe thead th {\n",
       "        text-align: right;\n",
       "    }\n",
       "</style>\n",
       "<table border=\"1\" class=\"dataframe\">\n",
       "  <thead>\n",
       "    <tr style=\"text-align: right;\">\n",
       "      <th></th>\n",
       "      <th>Unnamed: 0</th>\n",
       "      <th>Film</th>\n",
       "      <th>Oscar Year</th>\n",
       "      <th>Film Studio/Producer(s)</th>\n",
       "      <th>Award</th>\n",
       "      <th>Year of Release</th>\n",
       "      <th>Movie Time</th>\n",
       "      <th>Movie Genre</th>\n",
       "      <th>IMDB Rating</th>\n",
       "      <th>IMDB Votes</th>\n",
       "      <th>...</th>\n",
       "      <th>Tomatometer Status</th>\n",
       "      <th>Tomatometer Rating</th>\n",
       "      <th>Tomatometer Count</th>\n",
       "      <th>Audience Status</th>\n",
       "      <th>Audience Rating</th>\n",
       "      <th>Audience Count</th>\n",
       "      <th>Tomatometer Top Critics Count</th>\n",
       "      <th>Tomatometer Fresh Critics Count</th>\n",
       "      <th>Tomatometer Rotten Critics Count</th>\n",
       "      <th>Film ID</th>\n",
       "    </tr>\n",
       "  </thead>\n",
       "  <tbody>\n",
       "    <tr>\n",
       "      <th>0</th>\n",
       "      <td>0</td>\n",
       "      <td>Wings</td>\n",
       "      <td>1927/28</td>\n",
       "      <td>Famous Players-Lasky</td>\n",
       "      <td>Winner</td>\n",
       "      <td>1927</td>\n",
       "      <td>144</td>\n",
       "      <td>Drama,Romance,War</td>\n",
       "      <td>7.5</td>\n",
       "      <td>12,221</td>\n",
       "      <td>...</td>\n",
       "      <td>Certified-Fresh</td>\n",
       "      <td>93.0</td>\n",
       "      <td>46.0</td>\n",
       "      <td>Upright</td>\n",
       "      <td>78.0</td>\n",
       "      <td>3530.0</td>\n",
       "      <td>9.0</td>\n",
       "      <td>43.0</td>\n",
       "      <td>3.0</td>\n",
       "      <td>2becf7d5-a3de-46ab-ae45-abdd6b588067</td>\n",
       "    </tr>\n",
       "    <tr>\n",
       "      <th>1</th>\n",
       "      <td>1</td>\n",
       "      <td>7th Heaven</td>\n",
       "      <td>1927/28</td>\n",
       "      <td>Fox</td>\n",
       "      <td>Nominee</td>\n",
       "      <td>1927</td>\n",
       "      <td>110</td>\n",
       "      <td>Drama,Romance</td>\n",
       "      <td>7.7</td>\n",
       "      <td>3,439</td>\n",
       "      <td>...</td>\n",
       "      <td>NaN</td>\n",
       "      <td>NaN</td>\n",
       "      <td>NaN</td>\n",
       "      <td>NaN</td>\n",
       "      <td>NaN</td>\n",
       "      <td>NaN</td>\n",
       "      <td>NaN</td>\n",
       "      <td>NaN</td>\n",
       "      <td>NaN</td>\n",
       "      <td>19ed3295-a878-4fd2-8e60-5cd7b5f93dad</td>\n",
       "    </tr>\n",
       "    <tr>\n",
       "      <th>2</th>\n",
       "      <td>2</td>\n",
       "      <td>The Racket</td>\n",
       "      <td>1927/28</td>\n",
       "      <td>The Caddo Company</td>\n",
       "      <td>Nominee</td>\n",
       "      <td>1928</td>\n",
       "      <td>84</td>\n",
       "      <td>Crime,Drama,Film-Noir</td>\n",
       "      <td>6.7</td>\n",
       "      <td>1,257</td>\n",
       "      <td>...</td>\n",
       "      <td>NaN</td>\n",
       "      <td>NaN</td>\n",
       "      <td>NaN</td>\n",
       "      <td>NaN</td>\n",
       "      <td>NaN</td>\n",
       "      <td>NaN</td>\n",
       "      <td>NaN</td>\n",
       "      <td>NaN</td>\n",
       "      <td>NaN</td>\n",
       "      <td>3111c2d8-0908-4093-8ff3-99c89f2f2f08</td>\n",
       "    </tr>\n",
       "    <tr>\n",
       "      <th>3</th>\n",
       "      <td>3</td>\n",
       "      <td>The Broadway Melody</td>\n",
       "      <td>1928/29</td>\n",
       "      <td>Metro-Goldwyn-Mayer</td>\n",
       "      <td>Winner</td>\n",
       "      <td>1929</td>\n",
       "      <td>100</td>\n",
       "      <td>Drama,Musical,Romance</td>\n",
       "      <td>5.7</td>\n",
       "      <td>6,890</td>\n",
       "      <td>...</td>\n",
       "      <td>Rotten</td>\n",
       "      <td>33.0</td>\n",
       "      <td>24.0</td>\n",
       "      <td>Spilled</td>\n",
       "      <td>21.0</td>\n",
       "      <td>1813.0</td>\n",
       "      <td>7.0</td>\n",
       "      <td>8.0</td>\n",
       "      <td>16.0</td>\n",
       "      <td>de063f3f-2d35-4e1c-8636-6eb4c16bd236</td>\n",
       "    </tr>\n",
       "    <tr>\n",
       "      <th>4</th>\n",
       "      <td>4</td>\n",
       "      <td>Alibi</td>\n",
       "      <td>1928/29</td>\n",
       "      <td>Feature Productions</td>\n",
       "      <td>Nominee</td>\n",
       "      <td>1929</td>\n",
       "      <td>91</td>\n",
       "      <td>Action,Crime,Romance</td>\n",
       "      <td>5.8</td>\n",
       "      <td>765</td>\n",
       "      <td>...</td>\n",
       "      <td>NaN</td>\n",
       "      <td>NaN</td>\n",
       "      <td>NaN</td>\n",
       "      <td>NaN</td>\n",
       "      <td>NaN</td>\n",
       "      <td>NaN</td>\n",
       "      <td>NaN</td>\n",
       "      <td>NaN</td>\n",
       "      <td>NaN</td>\n",
       "      <td>609887c2-877c-43a4-b88c-e40e31096a98</td>\n",
       "    </tr>\n",
       "  </tbody>\n",
       "</table>\n",
       "<p>5 rows × 30 columns</p>\n",
       "</div>"
      ],
      "text/plain": [
       "   Unnamed: 0                 Film Oscar Year Film Studio/Producer(s)  \\\n",
       "0           0                Wings    1927/28    Famous Players-Lasky   \n",
       "1           1           7th Heaven    1927/28                     Fox   \n",
       "2           2           The Racket    1927/28       The Caddo Company   \n",
       "3           3  The Broadway Melody    1928/29     Metro-Goldwyn-Mayer   \n",
       "4           4                Alibi    1928/29     Feature Productions   \n",
       "\n",
       "     Award  Year of Release  Movie Time            Movie Genre  IMDB Rating  \\\n",
       "0   Winner             1927         144      Drama,Romance,War          7.5   \n",
       "1  Nominee             1927         110          Drama,Romance          7.7   \n",
       "2  Nominee             1928          84  Crime,Drama,Film-Noir          6.7   \n",
       "3   Winner             1929         100  Drama,Musical,Romance          5.7   \n",
       "4  Nominee             1929          91   Action,Crime,Romance          5.8   \n",
       "\n",
       "  IMDB Votes  ... Tomatometer Status Tomatometer Rating Tomatometer Count  \\\n",
       "0     12,221  ...    Certified-Fresh               93.0              46.0   \n",
       "1      3,439  ...                NaN                NaN               NaN   \n",
       "2      1,257  ...                NaN                NaN               NaN   \n",
       "3      6,890  ...             Rotten               33.0              24.0   \n",
       "4        765  ...                NaN                NaN               NaN   \n",
       "\n",
       "  Audience Status Audience Rating Audience Count  \\\n",
       "0         Upright            78.0         3530.0   \n",
       "1             NaN             NaN            NaN   \n",
       "2             NaN             NaN            NaN   \n",
       "3         Spilled            21.0         1813.0   \n",
       "4             NaN             NaN            NaN   \n",
       "\n",
       "  Tomatometer Top Critics Count Tomatometer Fresh Critics Count  \\\n",
       "0                           9.0                            43.0   \n",
       "1                           NaN                             NaN   \n",
       "2                           NaN                             NaN   \n",
       "3                           7.0                             8.0   \n",
       "4                           NaN                             NaN   \n",
       "\n",
       "  Tomatometer Rotten Critics Count                               Film ID  \n",
       "0                              3.0  2becf7d5-a3de-46ab-ae45-abdd6b588067  \n",
       "1                              NaN  19ed3295-a878-4fd2-8e60-5cd7b5f93dad  \n",
       "2                              NaN  3111c2d8-0908-4093-8ff3-99c89f2f2f08  \n",
       "3                             16.0  de063f3f-2d35-4e1c-8636-6eb4c16bd236  \n",
       "4                              NaN  609887c2-877c-43a4-b88c-e40e31096a98  \n",
       "\n",
       "[5 rows x 30 columns]"
      ]
     },
     "execution_count": 20,
     "metadata": {},
     "output_type": "execute_result"
    }
   ],
   "source": [
    "df[:5]"
   ]
  },
  {
   "cell_type": "markdown",
   "metadata": {},
   "source": [
    "А можно обращаться к конкретным колонкам таблиц."
   ]
  },
  {
   "cell_type": "code",
   "execution_count": 22,
   "metadata": {},
   "outputs": [
    {
     "data": {
      "text/plain": [
       "0                  Wings\n",
       "1             7th Heaven\n",
       "2             The Racket\n",
       "3    The Broadway Melody\n",
       "4                  Alibi\n",
       "Name: Film, dtype: object"
      ]
     },
     "execution_count": 22,
     "metadata": {},
     "output_type": "execute_result"
    }
   ],
   "source": [
    "df['Film'][:5]"
   ]
  },
  {
   "cell_type": "markdown",
   "metadata": {},
   "source": [
    "А можно и не к одной. "
   ]
  },
  {
   "cell_type": "code",
   "execution_count": 24,
   "metadata": {},
   "outputs": [
    {
     "data": {
      "text/html": [
       "<div>\n",
       "<style scoped>\n",
       "    .dataframe tbody tr th:only-of-type {\n",
       "        vertical-align: middle;\n",
       "    }\n",
       "\n",
       "    .dataframe tbody tr th {\n",
       "        vertical-align: top;\n",
       "    }\n",
       "\n",
       "    .dataframe thead th {\n",
       "        text-align: right;\n",
       "    }\n",
       "</style>\n",
       "<table border=\"1\" class=\"dataframe\">\n",
       "  <thead>\n",
       "    <tr style=\"text-align: right;\">\n",
       "      <th></th>\n",
       "      <th>Film</th>\n",
       "      <th>Oscar Year</th>\n",
       "      <th>Award</th>\n",
       "    </tr>\n",
       "  </thead>\n",
       "  <tbody>\n",
       "    <tr>\n",
       "      <th>0</th>\n",
       "      <td>Wings</td>\n",
       "      <td>1927/28</td>\n",
       "      <td>Winner</td>\n",
       "    </tr>\n",
       "    <tr>\n",
       "      <th>1</th>\n",
       "      <td>7th Heaven</td>\n",
       "      <td>1927/28</td>\n",
       "      <td>Nominee</td>\n",
       "    </tr>\n",
       "    <tr>\n",
       "      <th>2</th>\n",
       "      <td>The Racket</td>\n",
       "      <td>1927/28</td>\n",
       "      <td>Nominee</td>\n",
       "    </tr>\n",
       "    <tr>\n",
       "      <th>3</th>\n",
       "      <td>The Broadway Melody</td>\n",
       "      <td>1928/29</td>\n",
       "      <td>Winner</td>\n",
       "    </tr>\n",
       "    <tr>\n",
       "      <th>4</th>\n",
       "      <td>Alibi</td>\n",
       "      <td>1928/29</td>\n",
       "      <td>Nominee</td>\n",
       "    </tr>\n",
       "  </tbody>\n",
       "</table>\n",
       "</div>"
      ],
      "text/plain": [
       "                  Film Oscar Year    Award\n",
       "0                Wings    1927/28   Winner\n",
       "1           7th Heaven    1927/28  Nominee\n",
       "2           The Racket    1927/28  Nominee\n",
       "3  The Broadway Melody    1928/29   Winner\n",
       "4                Alibi    1928/29  Nominee"
      ]
     },
     "execution_count": 24,
     "metadata": {},
     "output_type": "execute_result"
    }
   ],
   "source": [
    "df[['Film','Oscar Year','Award']][:5]"
   ]
  },
  {
   "cell_type": "markdown",
   "metadata": {},
   "source": [
    "## 2.2 Базовые навыки по работе с табличками"
   ]
  },
  {
   "cell_type": "markdown",
   "metadata": {},
   "source": [
    "А можем создать новую колонку. Например, хотим скрестить ужа с ежом, и название фильма с его наградой."
   ]
  },
  {
   "cell_type": "code",
   "execution_count": 26,
   "metadata": {},
   "outputs": [
    {
     "data": {
      "text/plain": [
       "0                  Wings Winner\n",
       "1            7th Heaven Nominee\n",
       "2            The Racket Nominee\n",
       "3    The Broadway Melody Winner\n",
       "4                 Alibi Nominee\n",
       "Name: name_award, dtype: object"
      ]
     },
     "execution_count": 26,
     "metadata": {},
     "output_type": "execute_result"
    }
   ],
   "source": [
    "df['name_award'] = df['Film'] + ' ' + df['Award']\n",
    "df['name_award'].head()"
   ]
  },
  {
   "cell_type": "markdown",
   "metadata": {},
   "source": [
    "Иногда удобно посмотреть уникальные значения (разумнее если это категорийне переменные). Для этого есть специальный метод.\n",
    "\n",
    "Задачка: \n",
    "1. Вывести на экран все уникальные значения колонки Award (метод `.unique()`)\n",
    "2. Посчитать сколько их всего\n",
    "3. Нужно посмотреть, как часто каждое значение колонки Award встречается в данных"
   ]
  },
  {
   "cell_type": "code",
   "execution_count": 29,
   "metadata": {},
   "outputs": [
    {
     "data": {
      "text/plain": [
       "array(['Winner', 'Nominee'], dtype=object)"
      ]
     },
     "execution_count": 29,
     "metadata": {},
     "output_type": "execute_result"
    }
   ],
   "source": [
    "df['Award'].unique()"
   ]
  },
  {
   "cell_type": "code",
   "execution_count": 30,
   "metadata": {},
   "outputs": [
    {
     "data": {
      "text/plain": [
       "2"
      ]
     },
     "execution_count": 30,
     "metadata": {},
     "output_type": "execute_result"
    }
   ],
   "source": [
    "len(df['Award'].unique())"
   ]
  },
  {
   "cell_type": "code",
   "execution_count": 31,
   "metadata": {},
   "outputs": [
    {
     "data": {
      "text/plain": [
       "Nominee    478\n",
       "Winner      93\n",
       "Name: Award, dtype: int64"
      ]
     },
     "execution_count": 31,
     "metadata": {},
     "output_type": "execute_result"
    }
   ],
   "source": [
    "df['Award'].value_counts().head()"
   ]
  },
  {
   "cell_type": "markdown",
   "metadata": {},
   "source": [
    "## 2.3 Фильтрация"
   ]
  },
  {
   "cell_type": "markdown",
   "metadata": {},
   "source": [
    "Мы хотим выбрать, что посмотреть сегодня вечером. Допустим, мы очень любим 1992 год и хотим посмотреть, какие хорошие фильмы в этом году вышли. Для этого нам нужно отфильтровать нашу табличку по полю Year of Release, оставив только записи с Year of Release = 1992.\n",
    "\n",
    "Сначала для каждой строчки проверим условие Year of Release = 1992."
   ]
  },
  {
   "cell_type": "code",
   "execution_count": 35,
   "metadata": {},
   "outputs": [
    {
     "data": {
      "text/plain": [
       "0      False\n",
       "1      False\n",
       "2      False\n",
       "3      False\n",
       "4      False\n",
       "       ...  \n",
       "566    False\n",
       "567    False\n",
       "568    False\n",
       "569    False\n",
       "570    False\n",
       "Name: Year of Release, Length: 571, dtype: bool"
      ]
     },
     "execution_count": 35,
     "metadata": {},
     "output_type": "execute_result"
    }
   ],
   "source": [
    "df['Year of Release']==1992"
   ]
  },
  {
   "cell_type": "markdown",
   "metadata": {},
   "source": [
    "А теперь оставим только те строчки, где это условие выполняется."
   ]
  },
  {
   "cell_type": "code",
   "execution_count": 36,
   "metadata": {},
   "outputs": [
    {
     "data": {
      "text/html": [
       "<div>\n",
       "<style scoped>\n",
       "    .dataframe tbody tr th:only-of-type {\n",
       "        vertical-align: middle;\n",
       "    }\n",
       "\n",
       "    .dataframe tbody tr th {\n",
       "        vertical-align: top;\n",
       "    }\n",
       "\n",
       "    .dataframe thead th {\n",
       "        text-align: right;\n",
       "    }\n",
       "</style>\n",
       "<table border=\"1\" class=\"dataframe\">\n",
       "  <thead>\n",
       "    <tr style=\"text-align: right;\">\n",
       "      <th></th>\n",
       "      <th>Unnamed: 0</th>\n",
       "      <th>Film</th>\n",
       "      <th>Oscar Year</th>\n",
       "      <th>Film Studio/Producer(s)</th>\n",
       "      <th>Award</th>\n",
       "      <th>Year of Release</th>\n",
       "      <th>Movie Time</th>\n",
       "      <th>Movie Genre</th>\n",
       "      <th>IMDB Rating</th>\n",
       "      <th>IMDB Votes</th>\n",
       "      <th>...</th>\n",
       "      <th>Tomatometer Rating</th>\n",
       "      <th>Tomatometer Count</th>\n",
       "      <th>Audience Status</th>\n",
       "      <th>Audience Rating</th>\n",
       "      <th>Audience Count</th>\n",
       "      <th>Tomatometer Top Critics Count</th>\n",
       "      <th>Tomatometer Fresh Critics Count</th>\n",
       "      <th>Tomatometer Rotten Critics Count</th>\n",
       "      <th>Film ID</th>\n",
       "      <th>name_award</th>\n",
       "    </tr>\n",
       "  </thead>\n",
       "  <tbody>\n",
       "    <tr>\n",
       "      <th>380</th>\n",
       "      <td>380</td>\n",
       "      <td>Unforgiven</td>\n",
       "      <td>1992</td>\n",
       "      <td>Clint Eastwood</td>\n",
       "      <td>Winner</td>\n",
       "      <td>1992</td>\n",
       "      <td>130</td>\n",
       "      <td>Drama,Western</td>\n",
       "      <td>8.2</td>\n",
       "      <td>390,280</td>\n",
       "      <td>...</td>\n",
       "      <td>96.0</td>\n",
       "      <td>106.0</td>\n",
       "      <td>Upright</td>\n",
       "      <td>93.0</td>\n",
       "      <td>122729.0</td>\n",
       "      <td>28.0</td>\n",
       "      <td>102.0</td>\n",
       "      <td>4.0</td>\n",
       "      <td>2ec120ec-af89-47c0-a5de-ee0f0789cf1b</td>\n",
       "      <td>Unforgiven Winner</td>\n",
       "    </tr>\n",
       "    <tr>\n",
       "      <th>381</th>\n",
       "      <td>381</td>\n",
       "      <td>The Crying Game</td>\n",
       "      <td>1992</td>\n",
       "      <td>Stephen Woolley</td>\n",
       "      <td>Nominee</td>\n",
       "      <td>1992</td>\n",
       "      <td>112</td>\n",
       "      <td>Crime,Drama,Romance</td>\n",
       "      <td>7.3</td>\n",
       "      <td>53,289</td>\n",
       "      <td>...</td>\n",
       "      <td>94.0</td>\n",
       "      <td>67.0</td>\n",
       "      <td>Upright</td>\n",
       "      <td>78.0</td>\n",
       "      <td>31834.0</td>\n",
       "      <td>19.0</td>\n",
       "      <td>63.0</td>\n",
       "      <td>4.0</td>\n",
       "      <td>1035b815-61a1-4381-bbee-4e2bfeff00b5</td>\n",
       "      <td>The Crying Game Nominee</td>\n",
       "    </tr>\n",
       "    <tr>\n",
       "      <th>382</th>\n",
       "      <td>382</td>\n",
       "      <td>A Few Good Men</td>\n",
       "      <td>1992</td>\n",
       "      <td>David Brown, Rob Reiner, and Andrew Scheinman</td>\n",
       "      <td>Nominee</td>\n",
       "      <td>1992</td>\n",
       "      <td>138</td>\n",
       "      <td>Drama,Thriller</td>\n",
       "      <td>7.7</td>\n",
       "      <td>245,903</td>\n",
       "      <td>...</td>\n",
       "      <td>83.0</td>\n",
       "      <td>64.0</td>\n",
       "      <td>Upright</td>\n",
       "      <td>89.0</td>\n",
       "      <td>325423.0</td>\n",
       "      <td>18.0</td>\n",
       "      <td>53.0</td>\n",
       "      <td>11.0</td>\n",
       "      <td>87a4b35b-0e2f-4a81-8563-a30239451080</td>\n",
       "      <td>A Few Good Men Nominee</td>\n",
       "    </tr>\n",
       "    <tr>\n",
       "      <th>383</th>\n",
       "      <td>383</td>\n",
       "      <td>Howards End</td>\n",
       "      <td>1992</td>\n",
       "      <td>Ismail Merchant</td>\n",
       "      <td>Nominee</td>\n",
       "      <td>1992</td>\n",
       "      <td>142</td>\n",
       "      <td>Drama,Romance</td>\n",
       "      <td>7.4</td>\n",
       "      <td>30,508</td>\n",
       "      <td>...</td>\n",
       "      <td>94.0</td>\n",
       "      <td>66.0</td>\n",
       "      <td>Upright</td>\n",
       "      <td>82.0</td>\n",
       "      <td>13673.0</td>\n",
       "      <td>19.0</td>\n",
       "      <td>62.0</td>\n",
       "      <td>4.0</td>\n",
       "      <td>02cd0473-5c6d-4537-8e92-e3c081ff133c</td>\n",
       "      <td>Howards End Nominee</td>\n",
       "    </tr>\n",
       "    <tr>\n",
       "      <th>384</th>\n",
       "      <td>384</td>\n",
       "      <td>Scent of a Woman</td>\n",
       "      <td>1992</td>\n",
       "      <td>Martin Brest</td>\n",
       "      <td>Nominee</td>\n",
       "      <td>1992</td>\n",
       "      <td>156</td>\n",
       "      <td>Drama</td>\n",
       "      <td>8.0</td>\n",
       "      <td>277,333</td>\n",
       "      <td>...</td>\n",
       "      <td>89.0</td>\n",
       "      <td>44.0</td>\n",
       "      <td>Upright</td>\n",
       "      <td>92.0</td>\n",
       "      <td>119250.0</td>\n",
       "      <td>9.0</td>\n",
       "      <td>39.0</td>\n",
       "      <td>5.0</td>\n",
       "      <td>9da93e60-2304-4bc0-86e7-e76094b38c1e</td>\n",
       "      <td>Scent of a Woman Nominee</td>\n",
       "    </tr>\n",
       "  </tbody>\n",
       "</table>\n",
       "<p>5 rows × 31 columns</p>\n",
       "</div>"
      ],
      "text/plain": [
       "     Unnamed: 0              Film Oscar Year  \\\n",
       "380         380        Unforgiven       1992   \n",
       "381         381   The Crying Game       1992   \n",
       "382         382    A Few Good Men       1992   \n",
       "383         383       Howards End       1992   \n",
       "384         384  Scent of a Woman       1992   \n",
       "\n",
       "                           Film Studio/Producer(s)    Award  Year of Release  \\\n",
       "380                                 Clint Eastwood   Winner             1992   \n",
       "381                                Stephen Woolley  Nominee             1992   \n",
       "382  David Brown, Rob Reiner, and Andrew Scheinman  Nominee             1992   \n",
       "383                                Ismail Merchant  Nominee             1992   \n",
       "384                                   Martin Brest  Nominee             1992   \n",
       "\n",
       "     Movie Time          Movie Genre  IMDB Rating IMDB Votes  ...  \\\n",
       "380         130        Drama,Western          8.2    390,280  ...   \n",
       "381         112  Crime,Drama,Romance          7.3     53,289  ...   \n",
       "382         138       Drama,Thriller          7.7    245,903  ...   \n",
       "383         142        Drama,Romance          7.4     30,508  ...   \n",
       "384         156                Drama          8.0    277,333  ...   \n",
       "\n",
       "    Tomatometer Rating Tomatometer Count Audience Status Audience Rating  \\\n",
       "380               96.0             106.0         Upright            93.0   \n",
       "381               94.0              67.0         Upright            78.0   \n",
       "382               83.0              64.0         Upright            89.0   \n",
       "383               94.0              66.0         Upright            82.0   \n",
       "384               89.0              44.0         Upright            92.0   \n",
       "\n",
       "    Audience Count Tomatometer Top Critics Count  \\\n",
       "380       122729.0                          28.0   \n",
       "381        31834.0                          19.0   \n",
       "382       325423.0                          18.0   \n",
       "383        13673.0                          19.0   \n",
       "384       119250.0                           9.0   \n",
       "\n",
       "    Tomatometer Fresh Critics Count Tomatometer Rotten Critics Count  \\\n",
       "380                           102.0                              4.0   \n",
       "381                            63.0                              4.0   \n",
       "382                            53.0                             11.0   \n",
       "383                            62.0                              4.0   \n",
       "384                            39.0                              5.0   \n",
       "\n",
       "                                  Film ID                name_award  \n",
       "380  2ec120ec-af89-47c0-a5de-ee0f0789cf1b         Unforgiven Winner  \n",
       "381  1035b815-61a1-4381-bbee-4e2bfeff00b5   The Crying Game Nominee  \n",
       "382  87a4b35b-0e2f-4a81-8563-a30239451080    A Few Good Men Nominee  \n",
       "383  02cd0473-5c6d-4537-8e92-e3c081ff133c       Howards End Nominee  \n",
       "384  9da93e60-2304-4bc0-86e7-e76094b38c1e  Scent of a Woman Nominee  \n",
       "\n",
       "[5 rows x 31 columns]"
      ]
     },
     "execution_count": 36,
     "metadata": {},
     "output_type": "execute_result"
    }
   ],
   "source": [
    "df[df['Year of Release']==1992][:5]"
   ]
  },
  {
   "cell_type": "markdown",
   "metadata": {},
   "source": [
    "Круто. Посмотрели на названия, ничего не поняли. При выборе фильма также можно ориентироваться на его рейтинг. В нашем датасете есть колонка IMDB Rating. \n",
    "\n",
    "\n",
    "Задача:\n",
    "Давайте оставим только фильмы, у которых рейтинг не менее 8."
   ]
  },
  {
   "cell_type": "code",
   "execution_count": null,
   "metadata": {},
   "outputs": [],
   "source": [
    "#Кодить тут"
   ]
  },
  {
   "cell_type": "markdown",
   "metadata": {},
   "source": [
    "Остается только найти фильм, который НЕ выиграл  Оскар (да, это подгонка результатов, но фильм хороший)."
   ]
  },
  {
   "cell_type": "code",
   "execution_count": null,
   "metadata": {},
   "outputs": [],
   "source": [
    "#Кодить тут"
   ]
  },
  {
   "cell_type": "markdown",
   "metadata": {},
   "source": [
    "Сами условия важно не забывать оборачивать в круглые скобки `()`, чтобы питон не запутался, что с чем сравнивается. Также они определяют порядок действий, как в математике.\n",
    "\n",
    "То есть мы командой \n",
    "\n",
    "`(df['Year of Release']==1992)&(df['IMDB Rating']>=8)&(df['Award']!='Winner')` \n",
    "\n",
    "говорим табличке: \n",
    "\n",
    "`(год выпуска = 1992) И (рейтинг не ниже 8) И (не выиграл Оскар))` \n",
    "\n",
    "И на выход получаем маленькую подтаблицу, где __все__ эти условия выполнены.\n",
    "\n",
    "__Важно__: если вы хотите вывести все строки в таблице, где столбец попадает в какой-то _диапазон_ значений, придётся написать $2$ условия на этот столбец (двойное неравенство не прокатит, увы). Например, выведем все фильмы, которые вышли в период с $1990$ по $2000$:"
   ]
  },
  {
   "cell_type": "code",
   "execution_count": 43,
   "metadata": {},
   "outputs": [
    {
     "data": {
      "text/html": [
       "<div>\n",
       "<style scoped>\n",
       "    .dataframe tbody tr th:only-of-type {\n",
       "        vertical-align: middle;\n",
       "    }\n",
       "\n",
       "    .dataframe tbody tr th {\n",
       "        vertical-align: top;\n",
       "    }\n",
       "\n",
       "    .dataframe thead th {\n",
       "        text-align: right;\n",
       "    }\n",
       "</style>\n",
       "<table border=\"1\" class=\"dataframe\">\n",
       "  <thead>\n",
       "    <tr style=\"text-align: right;\">\n",
       "      <th></th>\n",
       "      <th>Unnamed: 0</th>\n",
       "      <th>Film</th>\n",
       "      <th>Oscar Year</th>\n",
       "      <th>Film Studio/Producer(s)</th>\n",
       "      <th>Award</th>\n",
       "      <th>Year of Release</th>\n",
       "      <th>Movie Time</th>\n",
       "      <th>Movie Genre</th>\n",
       "      <th>IMDB Rating</th>\n",
       "      <th>IMDB Votes</th>\n",
       "      <th>...</th>\n",
       "      <th>Tomatometer Rating</th>\n",
       "      <th>Tomatometer Count</th>\n",
       "      <th>Audience Status</th>\n",
       "      <th>Audience Rating</th>\n",
       "      <th>Audience Count</th>\n",
       "      <th>Tomatometer Top Critics Count</th>\n",
       "      <th>Tomatometer Fresh Critics Count</th>\n",
       "      <th>Tomatometer Rotten Critics Count</th>\n",
       "      <th>Film ID</th>\n",
       "      <th>name_award</th>\n",
       "    </tr>\n",
       "  </thead>\n",
       "  <tbody>\n",
       "    <tr>\n",
       "      <th>370</th>\n",
       "      <td>370</td>\n",
       "      <td>Dances with Wolves</td>\n",
       "      <td>1990</td>\n",
       "      <td>Jim Wilson and Kevin Costner</td>\n",
       "      <td>Winner</td>\n",
       "      <td>1990</td>\n",
       "      <td>181</td>\n",
       "      <td>Adventure,Drama,Western</td>\n",
       "      <td>8.0</td>\n",
       "      <td>249,524</td>\n",
       "      <td>...</td>\n",
       "      <td>NaN</td>\n",
       "      <td>NaN</td>\n",
       "      <td>NaN</td>\n",
       "      <td>NaN</td>\n",
       "      <td>NaN</td>\n",
       "      <td>NaN</td>\n",
       "      <td>NaN</td>\n",
       "      <td>NaN</td>\n",
       "      <td>98f8f2a9-a385-4248-a892-7c0857fb5260</td>\n",
       "      <td>Dances with Wolves Winner</td>\n",
       "    </tr>\n",
       "    <tr>\n",
       "      <th>371</th>\n",
       "      <td>371</td>\n",
       "      <td>Awakenings</td>\n",
       "      <td>1990</td>\n",
       "      <td>Walter Parkes and Lawrence Lasker</td>\n",
       "      <td>Nominee</td>\n",
       "      <td>1990</td>\n",
       "      <td>121</td>\n",
       "      <td>Biography,Drama</td>\n",
       "      <td>7.8</td>\n",
       "      <td>132,136</td>\n",
       "      <td>...</td>\n",
       "      <td>88.0</td>\n",
       "      <td>33.0</td>\n",
       "      <td>Upright</td>\n",
       "      <td>89.0</td>\n",
       "      <td>55182.0</td>\n",
       "      <td>4.0</td>\n",
       "      <td>29.0</td>\n",
       "      <td>4.0</td>\n",
       "      <td>2605a134-1217-4ae4-bf30-43d97858e924</td>\n",
       "      <td>Awakenings Nominee</td>\n",
       "    </tr>\n",
       "    <tr>\n",
       "      <th>372</th>\n",
       "      <td>372</td>\n",
       "      <td>Ghost</td>\n",
       "      <td>1990</td>\n",
       "      <td>Lisa Weinstein</td>\n",
       "      <td>Nominee</td>\n",
       "      <td>1990</td>\n",
       "      <td>127</td>\n",
       "      <td>Drama,Fantasy,Romance</td>\n",
       "      <td>7.1</td>\n",
       "      <td>204,848</td>\n",
       "      <td>...</td>\n",
       "      <td>74.0</td>\n",
       "      <td>74.0</td>\n",
       "      <td>Upright</td>\n",
       "      <td>80.0</td>\n",
       "      <td>469588.0</td>\n",
       "      <td>18.0</td>\n",
       "      <td>55.0</td>\n",
       "      <td>19.0</td>\n",
       "      <td>5e760389-af46-424d-bde2-405623e9ae86</td>\n",
       "      <td>Ghost Nominee</td>\n",
       "    </tr>\n",
       "    <tr>\n",
       "      <th>373</th>\n",
       "      <td>373</td>\n",
       "      <td>The Godfather Part III</td>\n",
       "      <td>1990</td>\n",
       "      <td>Francis Ford Coppola</td>\n",
       "      <td>Nominee</td>\n",
       "      <td>1990</td>\n",
       "      <td>162</td>\n",
       "      <td>Crime,Drama</td>\n",
       "      <td>7.6</td>\n",
       "      <td>373,892</td>\n",
       "      <td>...</td>\n",
       "      <td>NaN</td>\n",
       "      <td>NaN</td>\n",
       "      <td>NaN</td>\n",
       "      <td>NaN</td>\n",
       "      <td>NaN</td>\n",
       "      <td>NaN</td>\n",
       "      <td>NaN</td>\n",
       "      <td>NaN</td>\n",
       "      <td>881cf2a0-45e8-48b5-a63f-e59fd8e6d31a</td>\n",
       "      <td>The Godfather Part III Nominee</td>\n",
       "    </tr>\n",
       "    <tr>\n",
       "      <th>374</th>\n",
       "      <td>374</td>\n",
       "      <td>Goodfellas</td>\n",
       "      <td>1990</td>\n",
       "      <td>Irwin Winkler</td>\n",
       "      <td>Nominee</td>\n",
       "      <td>1990</td>\n",
       "      <td>146</td>\n",
       "      <td>Biography,Crime,Drama</td>\n",
       "      <td>8.7</td>\n",
       "      <td>1,065,109</td>\n",
       "      <td>...</td>\n",
       "      <td>NaN</td>\n",
       "      <td>NaN</td>\n",
       "      <td>NaN</td>\n",
       "      <td>NaN</td>\n",
       "      <td>NaN</td>\n",
       "      <td>NaN</td>\n",
       "      <td>NaN</td>\n",
       "      <td>NaN</td>\n",
       "      <td>99af9db4-124b-4abb-b7cd-ee67426e50c8</td>\n",
       "      <td>Goodfellas Nominee</td>\n",
       "    </tr>\n",
       "  </tbody>\n",
       "</table>\n",
       "<p>5 rows × 31 columns</p>\n",
       "</div>"
      ],
      "text/plain": [
       "     Unnamed: 0                    Film Oscar Year  \\\n",
       "370         370      Dances with Wolves       1990   \n",
       "371         371              Awakenings       1990   \n",
       "372         372                   Ghost       1990   \n",
       "373         373  The Godfather Part III       1990   \n",
       "374         374              Goodfellas       1990   \n",
       "\n",
       "               Film Studio/Producer(s)    Award  Year of Release  Movie Time  \\\n",
       "370       Jim Wilson and Kevin Costner   Winner             1990         181   \n",
       "371  Walter Parkes and Lawrence Lasker  Nominee             1990         121   \n",
       "372                     Lisa Weinstein  Nominee             1990         127   \n",
       "373               Francis Ford Coppola  Nominee             1990         162   \n",
       "374                      Irwin Winkler  Nominee             1990         146   \n",
       "\n",
       "                 Movie Genre  IMDB Rating IMDB Votes  ... Tomatometer Rating  \\\n",
       "370  Adventure,Drama,Western          8.0    249,524  ...                NaN   \n",
       "371          Biography,Drama          7.8    132,136  ...               88.0   \n",
       "372    Drama,Fantasy,Romance          7.1    204,848  ...               74.0   \n",
       "373              Crime,Drama          7.6    373,892  ...                NaN   \n",
       "374    Biography,Crime,Drama          8.7  1,065,109  ...                NaN   \n",
       "\n",
       "    Tomatometer Count Audience Status Audience Rating Audience Count  \\\n",
       "370               NaN             NaN             NaN            NaN   \n",
       "371              33.0         Upright            89.0        55182.0   \n",
       "372              74.0         Upright            80.0       469588.0   \n",
       "373               NaN             NaN             NaN            NaN   \n",
       "374               NaN             NaN             NaN            NaN   \n",
       "\n",
       "    Tomatometer Top Critics Count Tomatometer Fresh Critics Count  \\\n",
       "370                           NaN                             NaN   \n",
       "371                           4.0                            29.0   \n",
       "372                          18.0                            55.0   \n",
       "373                           NaN                             NaN   \n",
       "374                           NaN                             NaN   \n",
       "\n",
       "    Tomatometer Rotten Critics Count                               Film ID  \\\n",
       "370                              NaN  98f8f2a9-a385-4248-a892-7c0857fb5260   \n",
       "371                              4.0  2605a134-1217-4ae4-bf30-43d97858e924   \n",
       "372                             19.0  5e760389-af46-424d-bde2-405623e9ae86   \n",
       "373                              NaN  881cf2a0-45e8-48b5-a63f-e59fd8e6d31a   \n",
       "374                              NaN  99af9db4-124b-4abb-b7cd-ee67426e50c8   \n",
       "\n",
       "                         name_award  \n",
       "370       Dances with Wolves Winner  \n",
       "371              Awakenings Nominee  \n",
       "372                   Ghost Nominee  \n",
       "373  The Godfather Part III Nominee  \n",
       "374              Goodfellas Nominee  \n",
       "\n",
       "[5 rows x 31 columns]"
      ]
     },
     "execution_count": 43,
     "metadata": {},
     "output_type": "execute_result"
    }
   ],
   "source": [
    "df[(df['Year of Release']>=1990)&(df['Year of Release']<=2000)][:5]"
   ]
  },
  {
   "cell_type": "markdown",
   "metadata": {},
   "source": [
    "## 2.4 Работа с пропусками \n",
    "\n",
    "\n",
    "Пропуски в данных возникают по разным причинам. Кто-то забыл измерить, записать или в принципе таких данных в природе не существовало. Когда мы будем учить алгоритмы машинного обучения, нам придётся все эти пропуски заполнять. \n",
    "\n",
    "Количество пропусков в данных можно узнать с помощью метода `.isnull()`"
   ]
  },
  {
   "cell_type": "code",
   "execution_count": 44,
   "metadata": {},
   "outputs": [
    {
     "data": {
      "text/html": [
       "<div>\n",
       "<style scoped>\n",
       "    .dataframe tbody tr th:only-of-type {\n",
       "        vertical-align: middle;\n",
       "    }\n",
       "\n",
       "    .dataframe tbody tr th {\n",
       "        vertical-align: top;\n",
       "    }\n",
       "\n",
       "    .dataframe thead th {\n",
       "        text-align: right;\n",
       "    }\n",
       "</style>\n",
       "<table border=\"1\" class=\"dataframe\">\n",
       "  <thead>\n",
       "    <tr style=\"text-align: right;\">\n",
       "      <th></th>\n",
       "      <th>Unnamed: 0</th>\n",
       "      <th>Film</th>\n",
       "      <th>Oscar Year</th>\n",
       "      <th>Film Studio/Producer(s)</th>\n",
       "      <th>Award</th>\n",
       "      <th>Year of Release</th>\n",
       "      <th>Movie Time</th>\n",
       "      <th>Movie Genre</th>\n",
       "      <th>IMDB Rating</th>\n",
       "      <th>IMDB Votes</th>\n",
       "      <th>...</th>\n",
       "      <th>Tomatometer Rating</th>\n",
       "      <th>Tomatometer Count</th>\n",
       "      <th>Audience Status</th>\n",
       "      <th>Audience Rating</th>\n",
       "      <th>Audience Count</th>\n",
       "      <th>Tomatometer Top Critics Count</th>\n",
       "      <th>Tomatometer Fresh Critics Count</th>\n",
       "      <th>Tomatometer Rotten Critics Count</th>\n",
       "      <th>Film ID</th>\n",
       "      <th>name_award</th>\n",
       "    </tr>\n",
       "  </thead>\n",
       "  <tbody>\n",
       "    <tr>\n",
       "      <th>0</th>\n",
       "      <td>False</td>\n",
       "      <td>False</td>\n",
       "      <td>False</td>\n",
       "      <td>False</td>\n",
       "      <td>False</td>\n",
       "      <td>False</td>\n",
       "      <td>False</td>\n",
       "      <td>False</td>\n",
       "      <td>False</td>\n",
       "      <td>False</td>\n",
       "      <td>...</td>\n",
       "      <td>False</td>\n",
       "      <td>False</td>\n",
       "      <td>False</td>\n",
       "      <td>False</td>\n",
       "      <td>False</td>\n",
       "      <td>False</td>\n",
       "      <td>False</td>\n",
       "      <td>False</td>\n",
       "      <td>False</td>\n",
       "      <td>False</td>\n",
       "    </tr>\n",
       "    <tr>\n",
       "      <th>1</th>\n",
       "      <td>False</td>\n",
       "      <td>False</td>\n",
       "      <td>False</td>\n",
       "      <td>False</td>\n",
       "      <td>False</td>\n",
       "      <td>False</td>\n",
       "      <td>False</td>\n",
       "      <td>False</td>\n",
       "      <td>False</td>\n",
       "      <td>False</td>\n",
       "      <td>...</td>\n",
       "      <td>True</td>\n",
       "      <td>True</td>\n",
       "      <td>True</td>\n",
       "      <td>True</td>\n",
       "      <td>True</td>\n",
       "      <td>True</td>\n",
       "      <td>True</td>\n",
       "      <td>True</td>\n",
       "      <td>False</td>\n",
       "      <td>False</td>\n",
       "    </tr>\n",
       "    <tr>\n",
       "      <th>2</th>\n",
       "      <td>False</td>\n",
       "      <td>False</td>\n",
       "      <td>False</td>\n",
       "      <td>False</td>\n",
       "      <td>False</td>\n",
       "      <td>False</td>\n",
       "      <td>False</td>\n",
       "      <td>False</td>\n",
       "      <td>False</td>\n",
       "      <td>False</td>\n",
       "      <td>...</td>\n",
       "      <td>True</td>\n",
       "      <td>True</td>\n",
       "      <td>True</td>\n",
       "      <td>True</td>\n",
       "      <td>True</td>\n",
       "      <td>True</td>\n",
       "      <td>True</td>\n",
       "      <td>True</td>\n",
       "      <td>False</td>\n",
       "      <td>False</td>\n",
       "    </tr>\n",
       "    <tr>\n",
       "      <th>3</th>\n",
       "      <td>False</td>\n",
       "      <td>False</td>\n",
       "      <td>False</td>\n",
       "      <td>False</td>\n",
       "      <td>False</td>\n",
       "      <td>False</td>\n",
       "      <td>False</td>\n",
       "      <td>False</td>\n",
       "      <td>False</td>\n",
       "      <td>False</td>\n",
       "      <td>...</td>\n",
       "      <td>False</td>\n",
       "      <td>False</td>\n",
       "      <td>False</td>\n",
       "      <td>False</td>\n",
       "      <td>False</td>\n",
       "      <td>False</td>\n",
       "      <td>False</td>\n",
       "      <td>False</td>\n",
       "      <td>False</td>\n",
       "      <td>False</td>\n",
       "    </tr>\n",
       "    <tr>\n",
       "      <th>4</th>\n",
       "      <td>False</td>\n",
       "      <td>False</td>\n",
       "      <td>False</td>\n",
       "      <td>False</td>\n",
       "      <td>False</td>\n",
       "      <td>False</td>\n",
       "      <td>False</td>\n",
       "      <td>False</td>\n",
       "      <td>False</td>\n",
       "      <td>False</td>\n",
       "      <td>...</td>\n",
       "      <td>True</td>\n",
       "      <td>True</td>\n",
       "      <td>True</td>\n",
       "      <td>True</td>\n",
       "      <td>True</td>\n",
       "      <td>True</td>\n",
       "      <td>True</td>\n",
       "      <td>True</td>\n",
       "      <td>False</td>\n",
       "      <td>False</td>\n",
       "    </tr>\n",
       "  </tbody>\n",
       "</table>\n",
       "<p>5 rows × 31 columns</p>\n",
       "</div>"
      ],
      "text/plain": [
       "   Unnamed: 0   Film  Oscar Year  Film Studio/Producer(s)  Award  \\\n",
       "0       False  False       False                    False  False   \n",
       "1       False  False       False                    False  False   \n",
       "2       False  False       False                    False  False   \n",
       "3       False  False       False                    False  False   \n",
       "4       False  False       False                    False  False   \n",
       "\n",
       "   Year of Release  Movie Time  Movie Genre  IMDB Rating  IMDB Votes  ...  \\\n",
       "0            False       False        False        False       False  ...   \n",
       "1            False       False        False        False       False  ...   \n",
       "2            False       False        False        False       False  ...   \n",
       "3            False       False        False        False       False  ...   \n",
       "4            False       False        False        False       False  ...   \n",
       "\n",
       "   Tomatometer Rating  Tomatometer Count  Audience Status  Audience Rating  \\\n",
       "0               False              False            False            False   \n",
       "1                True               True             True             True   \n",
       "2                True               True             True             True   \n",
       "3               False              False            False            False   \n",
       "4                True               True             True             True   \n",
       "\n",
       "   Audience Count  Tomatometer Top Critics Count  \\\n",
       "0           False                          False   \n",
       "1            True                           True   \n",
       "2            True                           True   \n",
       "3           False                          False   \n",
       "4            True                           True   \n",
       "\n",
       "   Tomatometer Fresh Critics Count  Tomatometer Rotten Critics Count  Film ID  \\\n",
       "0                            False                             False    False   \n",
       "1                             True                              True    False   \n",
       "2                             True                              True    False   \n",
       "3                            False                             False    False   \n",
       "4                             True                              True    False   \n",
       "\n",
       "   name_award  \n",
       "0       False  \n",
       "1       False  \n",
       "2       False  \n",
       "3       False  \n",
       "4       False  \n",
       "\n",
       "[5 rows x 31 columns]"
      ]
     },
     "execution_count": 44,
     "metadata": {},
     "output_type": "execute_result"
    }
   ],
   "source": [
    "df.isnull().head() # возвращает True, если в ячейке пропуск, иначе --- False"
   ]
  },
  {
   "cell_type": "code",
   "execution_count": 45,
   "metadata": {},
   "outputs": [
    {
     "data": {
      "text/plain": [
       "Unnamed: 0                            0\n",
       "Film                                  0\n",
       "Oscar Year                            0\n",
       "Film Studio/Producer(s)               0\n",
       "Award                                 0\n",
       "Year of Release                       0\n",
       "Movie Time                            0\n",
       "Movie Genre                           0\n",
       "IMDB Rating                           0\n",
       "IMDB Votes                            0\n",
       "Movie Info                          133\n",
       "Genres                              132\n",
       "Critic Consensus                    232\n",
       "Content Rating                      132\n",
       "Directors                           134\n",
       "Authors                             134\n",
       "Actors                              132\n",
       "Original Release Date               132\n",
       "Streaming Release Date              133\n",
       "Production Company                  132\n",
       "Tomatometer Status                  132\n",
       "Tomatometer Rating                  132\n",
       "Tomatometer Count                   132\n",
       "Audience Status                     135\n",
       "Audience Rating                     132\n",
       "Audience Count                      132\n",
       "Tomatometer Top Critics Count       132\n",
       "Tomatometer Fresh Critics Count     132\n",
       "Tomatometer Rotten Critics Count    132\n",
       "Film ID                               0\n",
       "name_award                            0\n",
       "dtype: int64"
      ]
     },
     "execution_count": 45,
     "metadata": {},
     "output_type": "execute_result"
    }
   ],
   "source": [
    "df.isnull().sum()  # суммарное количество пропусков в каждом столбце"
   ]
  },
  {
   "cell_type": "code",
   "execution_count": 46,
   "metadata": {},
   "outputs": [
    {
     "data": {
      "text/plain": [
       "Critic Consensus          232\n",
       "Audience Status           135\n",
       "Authors                   134\n",
       "Directors                 134\n",
       "Movie Info                133\n",
       "Streaming Release Date    133\n",
       "Audience Rating           132\n",
       "Tomatometer Count         132\n",
       "Tomatometer Rating        132\n",
       "Tomatometer Status        132\n",
       "dtype: int64"
      ]
     },
     "execution_count": 46,
     "metadata": {},
     "output_type": "execute_result"
    }
   ],
   "source": [
    "# отсортировали число пропусков по убыванию и вывели топ-10 \n",
    "df.isnull().sum().sort_values(ascending=False).head(10)"
   ]
  },
  {
   "cell_type": "markdown",
   "metadata": {},
   "source": [
    "Метод `.fillna(что-то)` позволяет заполнить пропуски чем-нибудь нейтральным. Например, посмотрим на колонку `Movie Info`. В ней сейчас есть пропуски. "
   ]
  },
  {
   "cell_type": "code",
   "execution_count": 49,
   "metadata": {},
   "outputs": [
    {
     "data": {
      "text/plain": [
       "0    With World War I afoot, David Armstrong (Richa...\n",
       "1                                                  NaN\n",
       "2                                                  NaN\n",
       "3    Vaudeville sisters \"Hank\" (Bessie Love) and Qu...\n",
       "4                                                  NaN\n",
       "Name: Movie Info, dtype: object"
      ]
     },
     "execution_count": 49,
     "metadata": {},
     "output_type": "execute_result"
    }
   ],
   "source": [
    "df['Movie Info'].head()"
   ]
  },
  {
   "cell_type": "markdown",
   "metadata": {},
   "source": [
    "Можем заполнить пропуски любой строкой/фразой с помощью метода `.fillna()`. Пусть будет \"No  description\""
   ]
  },
  {
   "cell_type": "code",
   "execution_count": 50,
   "metadata": {},
   "outputs": [
    {
     "data": {
      "text/plain": [
       "0    With World War I afoot, David Armstrong (Richa...\n",
       "1                                       No description\n",
       "2                                       No description\n",
       "3    Vaudeville sisters \"Hank\" (Bessie Love) and Qu...\n",
       "4                                       No description\n",
       "Name: Movie Info, dtype: object"
      ]
     },
     "execution_count": 50,
     "metadata": {},
     "output_type": "execute_result"
    }
   ],
   "source": [
    "df['Movie Info'] = df['Movie Info'].fillna('No description')\n",
    "df['Movie Info'].head()"
   ]
  },
  {
   "cell_type": "markdown",
   "metadata": {},
   "source": [
    "А еще можно просто выкинуть все пропуски.  Это помогает сделать метод `.dropna()`"
   ]
  },
  {
   "cell_type": "code",
   "execution_count": 74,
   "metadata": {},
   "outputs": [
    {
     "name": "stdout",
     "output_type": "stream",
     "text": [
      "571 439\n"
     ]
    }
   ],
   "source": [
    "df_without_na = df['Content Rating'].dropna()\n",
    "print(df.shape[0],df_without_na.shape[0])"
   ]
  },
  {
   "cell_type": "markdown",
   "metadata": {},
   "source": [
    "## 2.5 Крутим датасет как хотим. Статистики"
   ]
  },
  {
   "cell_type": "markdown",
   "metadata": {},
   "source": [
    "Теперь попробуем посчитать базовые статистики. Начнем с **максимума/миниума**. Помучаем года `Year of Release` для разннобразия"
   ]
  },
  {
   "cell_type": "code",
   "execution_count": 75,
   "metadata": {},
   "outputs": [
    {
     "name": "stdout",
     "output_type": "stream",
     "text": [
      "1927 2021\n"
     ]
    }
   ],
   "source": [
    "ymin = df['Year of Release'].min()\n",
    "ymax = df['Year of Release'].max()\n",
    "print(ymin,ymax)"
   ]
  },
  {
   "cell_type": "markdown",
   "metadata": {},
   "source": [
    "**Среднее значение**\n",
    "\n",
    "Среднее не нуждается в представлении. Вычислить его довольно просто: сложите все значения и разделите полученную сумму на их количество.\n",
    "\n",
    "$$\n",
    "\\bar {x} =  \\frac {1}{n} \\sum _{i=1}^{n}x_{i}\n",
    "$$\n",
    "\n",
    "В случае со средним значением «серединой» датасета будет среднее арифметическое его значений. Среднее значение отражает типичный показатель в наборе данных. Если мы случайно выберем один из показателей, то, скорее всего, получим значение, близкое к среднему."
   ]
  },
  {
   "cell_type": "code",
   "execution_count": 77,
   "metadata": {},
   "outputs": [
    {
     "data": {
      "text/plain": [
       "7.570402802101572"
      ]
     },
     "execution_count": 77,
     "metadata": {},
     "output_type": "execute_result"
    }
   ],
   "source": [
    "df['IMDB Rating'].mean()"
   ]
  },
  {
   "cell_type": "markdown",
   "metadata": {},
   "source": [
    "**Медиана**\n",
    "\n",
    "Медиана, как и среднее значение, нужна для определения типичного значения.\n",
    "\n",
    "Чтобы найти медиану, данные нужно расположить в порядке возрастания. Медианой будет значение, которое совпадает с серединой набора данных. Если количество значений чётное, то берётся среднее двух значений, которые «окружают» середину."
   ]
  },
  {
   "cell_type": "code",
   "execution_count": 79,
   "metadata": {},
   "outputs": [
    {
     "data": {
      "text/plain": [
       "7.6"
      ]
     },
     "execution_count": 79,
     "metadata": {},
     "output_type": "execute_result"
    }
   ],
   "source": [
    "df['IMDB Rating'].median()"
   ]
  },
  {
   "cell_type": "markdown",
   "metadata": {},
   "source": [
    "**Мода**\n",
    "\n",
    "Это последняя мера центральной тенденции, о которой пойдёт речь. Мода определяется как значение, которое наиболее часто встречается в наборе данных. "
   ]
  },
  {
   "cell_type": "code",
   "execution_count": 81,
   "metadata": {},
   "outputs": [
    {
     "data": {
      "text/plain": [
       "0    7.7\n",
       "dtype: float64"
      ]
     },
     "execution_count": 81,
     "metadata": {},
     "output_type": "execute_result"
    }
   ],
   "source": [
    "df['IMDB Rating'].mode()"
   ]
  },
  {
   "cell_type": "markdown",
   "metadata": {},
   "source": [
    "**Дисперсия и стандартное отклонение**\n",
    "\n",
    "Давайте посмотрим на то, насколько рейтинг отличается от среднего значения. Для этого будем брать рейтинг $x_i$ и вычитать из него среднее, $\\bar x$:\n",
    "\n",
    "$$\n",
    "(x_i - \\bar x)\n",
    "$$\n",
    "\n",
    " Посчитанная нами выше величина называется *дисперсией*\n",
    "\n",
    "$$\n",
    "\\sigma^2= \\frac{1}{n} \\sum_{i=1}^{n} (x_{i}-{\\bar {x}})^{2}\n",
    "$$\n",
    "\n",
    "Проблема дисперсии в том, что она измеряется в квадратных единицах (рейтиг квадратный). Чтобы вернуться назад, к обычным единицам (просто к рейтингу), нужно извлечь из неё корень. Тогда получится величина, которая называется *среднеквадратическим отклонением* или *стандартным отклонением*. \n",
    "\n",
    "Со статистической точки зрения более правильна формула следующая дисперсии. Она и зашита в стат.пакеты.\n",
    "\n",
    "$$\n",
    "\\sigma^2= \\frac{1}{n-1} \\sum_{i=1}^{n} (x_{i}-{\\bar {x}})^{2}\n",
    "$$"
   ]
  },
  {
   "cell_type": "code",
   "execution_count": 82,
   "metadata": {},
   "outputs": [
    {
     "data": {
      "text/plain": [
       "0.31321018834301334"
      ]
     },
     "execution_count": 82,
     "metadata": {},
     "output_type": "execute_result"
    }
   ],
   "source": [
    "df['IMDB Rating'].var() "
   ]
  },
  {
   "cell_type": "code",
   "execution_count": 83,
   "metadata": {},
   "outputs": [
    {
     "data": {
      "text/plain": [
       "0.5596518456531823"
      ]
     },
     "execution_count": 83,
     "metadata": {},
     "output_type": "execute_result"
    }
   ],
   "source": [
    "df['IMDB Rating'].std()"
   ]
  },
  {
   "cell_type": "markdown",
   "metadata": {},
   "source": [
    "**Метод describe** считает всё и сразу! "
   ]
  },
  {
   "cell_type": "code",
   "execution_count": 84,
   "metadata": {},
   "outputs": [
    {
     "data": {
      "text/html": [
       "<div>\n",
       "<style scoped>\n",
       "    .dataframe tbody tr th:only-of-type {\n",
       "        vertical-align: middle;\n",
       "    }\n",
       "\n",
       "    .dataframe tbody tr th {\n",
       "        vertical-align: top;\n",
       "    }\n",
       "\n",
       "    .dataframe thead th {\n",
       "        text-align: right;\n",
       "    }\n",
       "</style>\n",
       "<table border=\"1\" class=\"dataframe\">\n",
       "  <thead>\n",
       "    <tr style=\"text-align: right;\">\n",
       "      <th></th>\n",
       "      <th>Unnamed: 0</th>\n",
       "      <th>Year of Release</th>\n",
       "      <th>Movie Time</th>\n",
       "      <th>IMDB Rating</th>\n",
       "      <th>Tomatometer Rating</th>\n",
       "      <th>Tomatometer Count</th>\n",
       "      <th>Audience Rating</th>\n",
       "      <th>Audience Count</th>\n",
       "      <th>Tomatometer Top Critics Count</th>\n",
       "      <th>Tomatometer Fresh Critics Count</th>\n",
       "      <th>Tomatometer Rotten Critics Count</th>\n",
       "    </tr>\n",
       "  </thead>\n",
       "  <tbody>\n",
       "    <tr>\n",
       "      <th>count</th>\n",
       "      <td>571.000000</td>\n",
       "      <td>571.000000</td>\n",
       "      <td>571.000000</td>\n",
       "      <td>571.000000</td>\n",
       "      <td>439.000000</td>\n",
       "      <td>439.000000</td>\n",
       "      <td>439.000000</td>\n",
       "      <td>4.390000e+02</td>\n",
       "      <td>439.000000</td>\n",
       "      <td>439.000000</td>\n",
       "      <td>439.000000</td>\n",
       "    </tr>\n",
       "    <tr>\n",
       "      <th>mean</th>\n",
       "      <td>285.000000</td>\n",
       "      <td>1973.357268</td>\n",
       "      <td>124.894921</td>\n",
       "      <td>7.570403</td>\n",
       "      <td>87.503417</td>\n",
       "      <td>110.697039</td>\n",
       "      <td>82.428246</td>\n",
       "      <td>5.154145e+05</td>\n",
       "      <td>21.861048</td>\n",
       "      <td>98.471526</td>\n",
       "      <td>12.275626</td>\n",
       "    </tr>\n",
       "    <tr>\n",
       "      <th>std</th>\n",
       "      <td>164.977776</td>\n",
       "      <td>29.315738</td>\n",
       "      <td>26.322817</td>\n",
       "      <td>0.559652</td>\n",
       "      <td>11.690622</td>\n",
       "      <td>119.541406</td>\n",
       "      <td>10.927897</td>\n",
       "      <td>3.623107e+06</td>\n",
       "      <td>21.615492</td>\n",
       "      <td>107.798554</td>\n",
       "      <td>19.310232</td>\n",
       "    </tr>\n",
       "    <tr>\n",
       "      <th>min</th>\n",
       "      <td>0.000000</td>\n",
       "      <td>1927.000000</td>\n",
       "      <td>66.000000</td>\n",
       "      <td>5.600000</td>\n",
       "      <td>29.000000</td>\n",
       "      <td>5.000000</td>\n",
       "      <td>21.000000</td>\n",
       "      <td>6.000000e+00</td>\n",
       "      <td>0.000000</td>\n",
       "      <td>3.000000</td>\n",
       "      <td>0.000000</td>\n",
       "    </tr>\n",
       "    <tr>\n",
       "      <th>25%</th>\n",
       "      <td>142.500000</td>\n",
       "      <td>1944.000000</td>\n",
       "      <td>107.000000</td>\n",
       "      <td>7.300000</td>\n",
       "      <td>84.000000</td>\n",
       "      <td>25.000000</td>\n",
       "      <td>78.000000</td>\n",
       "      <td>6.637500e+03</td>\n",
       "      <td>5.000000</td>\n",
       "      <td>21.500000</td>\n",
       "      <td>2.000000</td>\n",
       "    </tr>\n",
       "    <tr>\n",
       "      <th>50%</th>\n",
       "      <td>285.000000</td>\n",
       "      <td>1972.000000</td>\n",
       "      <td>121.000000</td>\n",
       "      <td>7.600000</td>\n",
       "      <td>91.000000</td>\n",
       "      <td>54.000000</td>\n",
       "      <td>85.000000</td>\n",
       "      <td>3.716600e+04</td>\n",
       "      <td>11.000000</td>\n",
       "      <td>49.000000</td>\n",
       "      <td>5.000000</td>\n",
       "    </tr>\n",
       "    <tr>\n",
       "      <th>75%</th>\n",
       "      <td>427.500000</td>\n",
       "      <td>2001.000000</td>\n",
       "      <td>136.500000</td>\n",
       "      <td>7.900000</td>\n",
       "      <td>95.000000</td>\n",
       "      <td>199.000000</td>\n",
       "      <td>90.000000</td>\n",
       "      <td>1.255365e+05</td>\n",
       "      <td>45.000000</td>\n",
       "      <td>163.500000</td>\n",
       "      <td>15.000000</td>\n",
       "    </tr>\n",
       "    <tr>\n",
       "      <th>max</th>\n",
       "      <td>570.000000</td>\n",
       "      <td>2021.000000</td>\n",
       "      <td>238.000000</td>\n",
       "      <td>9.300000</td>\n",
       "      <td>100.000000</td>\n",
       "      <td>574.000000</td>\n",
       "      <td>98.000000</td>\n",
       "      <td>3.579764e+07</td>\n",
       "      <td>69.000000</td>\n",
       "      <td>495.000000</td>\n",
       "      <td>182.000000</td>\n",
       "    </tr>\n",
       "  </tbody>\n",
       "</table>\n",
       "</div>"
      ],
      "text/plain": [
       "       Unnamed: 0  Year of Release  Movie Time  IMDB Rating  \\\n",
       "count  571.000000       571.000000  571.000000   571.000000   \n",
       "mean   285.000000      1973.357268  124.894921     7.570403   \n",
       "std    164.977776        29.315738   26.322817     0.559652   \n",
       "min      0.000000      1927.000000   66.000000     5.600000   \n",
       "25%    142.500000      1944.000000  107.000000     7.300000   \n",
       "50%    285.000000      1972.000000  121.000000     7.600000   \n",
       "75%    427.500000      2001.000000  136.500000     7.900000   \n",
       "max    570.000000      2021.000000  238.000000     9.300000   \n",
       "\n",
       "       Tomatometer Rating  Tomatometer Count  Audience Rating  Audience Count  \\\n",
       "count          439.000000         439.000000       439.000000    4.390000e+02   \n",
       "mean            87.503417         110.697039        82.428246    5.154145e+05   \n",
       "std             11.690622         119.541406        10.927897    3.623107e+06   \n",
       "min             29.000000           5.000000        21.000000    6.000000e+00   \n",
       "25%             84.000000          25.000000        78.000000    6.637500e+03   \n",
       "50%             91.000000          54.000000        85.000000    3.716600e+04   \n",
       "75%             95.000000         199.000000        90.000000    1.255365e+05   \n",
       "max            100.000000         574.000000        98.000000    3.579764e+07   \n",
       "\n",
       "       Tomatometer Top Critics Count  Tomatometer Fresh Critics Count  \\\n",
       "count                     439.000000                       439.000000   \n",
       "mean                       21.861048                        98.471526   \n",
       "std                        21.615492                       107.798554   \n",
       "min                         0.000000                         3.000000   \n",
       "25%                         5.000000                        21.500000   \n",
       "50%                        11.000000                        49.000000   \n",
       "75%                        45.000000                       163.500000   \n",
       "max                        69.000000                       495.000000   \n",
       "\n",
       "       Tomatometer Rotten Critics Count  \n",
       "count                        439.000000  \n",
       "mean                          12.275626  \n",
       "std                           19.310232  \n",
       "min                            0.000000  \n",
       "25%                            2.000000  \n",
       "50%                            5.000000  \n",
       "75%                           15.000000  \n",
       "max                          182.000000  "
      ]
     },
     "execution_count": 84,
     "metadata": {},
     "output_type": "execute_result"
    }
   ],
   "source": [
    "df.describe()"
   ]
  },
  {
   "cell_type": "markdown",
   "metadata": {},
   "source": [
    "И тоже самое для категориальных переменных"
   ]
  },
  {
   "cell_type": "code",
   "execution_count": 85,
   "metadata": {},
   "outputs": [
    {
     "data": {
      "text/html": [
       "<div>\n",
       "<style scoped>\n",
       "    .dataframe tbody tr th:only-of-type {\n",
       "        vertical-align: middle;\n",
       "    }\n",
       "\n",
       "    .dataframe tbody tr th {\n",
       "        vertical-align: top;\n",
       "    }\n",
       "\n",
       "    .dataframe thead th {\n",
       "        text-align: right;\n",
       "    }\n",
       "</style>\n",
       "<table border=\"1\" class=\"dataframe\">\n",
       "  <thead>\n",
       "    <tr style=\"text-align: right;\">\n",
       "      <th></th>\n",
       "      <th>Film</th>\n",
       "      <th>Oscar Year</th>\n",
       "      <th>Film Studio/Producer(s)</th>\n",
       "      <th>Award</th>\n",
       "      <th>Movie Genre</th>\n",
       "      <th>IMDB Votes</th>\n",
       "      <th>Movie Info</th>\n",
       "      <th>Genres</th>\n",
       "      <th>Critic Consensus</th>\n",
       "      <th>Content Rating</th>\n",
       "      <th>Directors</th>\n",
       "      <th>Authors</th>\n",
       "      <th>Actors</th>\n",
       "      <th>Original Release Date</th>\n",
       "      <th>Streaming Release Date</th>\n",
       "      <th>Production Company</th>\n",
       "      <th>Tomatometer Status</th>\n",
       "      <th>Audience Status</th>\n",
       "      <th>Film ID</th>\n",
       "      <th>name_award</th>\n",
       "    </tr>\n",
       "  </thead>\n",
       "  <tbody>\n",
       "    <tr>\n",
       "      <th>count</th>\n",
       "      <td>571</td>\n",
       "      <td>571</td>\n",
       "      <td>571</td>\n",
       "      <td>571</td>\n",
       "      <td>571</td>\n",
       "      <td>571</td>\n",
       "      <td>571</td>\n",
       "      <td>439</td>\n",
       "      <td>339</td>\n",
       "      <td>439</td>\n",
       "      <td>437</td>\n",
       "      <td>437</td>\n",
       "      <td>439</td>\n",
       "      <td>439</td>\n",
       "      <td>438</td>\n",
       "      <td>439</td>\n",
       "      <td>439</td>\n",
       "      <td>436</td>\n",
       "      <td>571</td>\n",
       "      <td>571</td>\n",
       "    </tr>\n",
       "    <tr>\n",
       "      <th>unique</th>\n",
       "      <td>564</td>\n",
       "      <td>93</td>\n",
       "      <td>378</td>\n",
       "      <td>2</td>\n",
       "      <td>128</td>\n",
       "      <td>570</td>\n",
       "      <td>439</td>\n",
       "      <td>107</td>\n",
       "      <td>339</td>\n",
       "      <td>5</td>\n",
       "      <td>262</td>\n",
       "      <td>397</td>\n",
       "      <td>439</td>\n",
       "      <td>420</td>\n",
       "      <td>214</td>\n",
       "      <td>104</td>\n",
       "      <td>3</td>\n",
       "      <td>2</td>\n",
       "      <td>571</td>\n",
       "      <td>564</td>\n",
       "    </tr>\n",
       "    <tr>\n",
       "      <th>top</th>\n",
       "      <td>A Star Is Born</td>\n",
       "      <td>1935</td>\n",
       "      <td>Metro-Goldwyn-Mayer</td>\n",
       "      <td>Nominee</td>\n",
       "      <td>Drama,Romance</td>\n",
       "      <td>147,893</td>\n",
       "      <td>No description</td>\n",
       "      <td>Drama</td>\n",
       "      <td>Led by incredible work from Brie Larson and Ja...</td>\n",
       "      <td>R</td>\n",
       "      <td>William Wyler</td>\n",
       "      <td>Ernest Lehman</td>\n",
       "      <td>Ralph Fiennes, Tony Revolori, F. Murray Abraha...</td>\n",
       "      <td>1942-01-01</td>\n",
       "      <td>2012-04-16</td>\n",
       "      <td>Paramount Pictures</td>\n",
       "      <td>Certified-Fresh</td>\n",
       "      <td>Upright</td>\n",
       "      <td>40acf99f-bc62-45ee-a766-0297530113d1</td>\n",
       "      <td>Les Misérables Nominee</td>\n",
       "    </tr>\n",
       "    <tr>\n",
       "      <th>freq</th>\n",
       "      <td>2</td>\n",
       "      <td>12</td>\n",
       "      <td>40</td>\n",
       "      <td>478</td>\n",
       "      <td>62</td>\n",
       "      <td>2</td>\n",
       "      <td>133</td>\n",
       "      <td>78</td>\n",
       "      <td>1</td>\n",
       "      <td>138</td>\n",
       "      <td>11</td>\n",
       "      <td>5</td>\n",
       "      <td>1</td>\n",
       "      <td>3</td>\n",
       "      <td>35</td>\n",
       "      <td>33</td>\n",
       "      <td>263</td>\n",
       "      <td>417</td>\n",
       "      <td>1</td>\n",
       "      <td>2</td>\n",
       "    </tr>\n",
       "  </tbody>\n",
       "</table>\n",
       "</div>"
      ],
      "text/plain": [
       "                  Film Oscar Year Film Studio/Producer(s)    Award  \\\n",
       "count              571        571                     571      571   \n",
       "unique             564         93                     378        2   \n",
       "top     A Star Is Born       1935     Metro-Goldwyn-Mayer  Nominee   \n",
       "freq                 2         12                      40      478   \n",
       "\n",
       "          Movie Genre IMDB Votes      Movie Info Genres  \\\n",
       "count             571        571             571    439   \n",
       "unique            128        570             439    107   \n",
       "top     Drama,Romance    147,893  No description  Drama   \n",
       "freq               62          2             133     78   \n",
       "\n",
       "                                         Critic Consensus Content Rating  \\\n",
       "count                                                 339            439   \n",
       "unique                                                339              5   \n",
       "top     Led by incredible work from Brie Larson and Ja...              R   \n",
       "freq                                                    1            138   \n",
       "\n",
       "            Directors        Authors  \\\n",
       "count             437            437   \n",
       "unique            262            397   \n",
       "top     William Wyler  Ernest Lehman   \n",
       "freq               11              5   \n",
       "\n",
       "                                                   Actors  \\\n",
       "count                                                 439   \n",
       "unique                                                439   \n",
       "top     Ralph Fiennes, Tony Revolori, F. Murray Abraha...   \n",
       "freq                                                    1   \n",
       "\n",
       "       Original Release Date Streaming Release Date  Production Company  \\\n",
       "count                    439                    438                 439   \n",
       "unique                   420                    214                 104   \n",
       "top               1942-01-01             2012-04-16  Paramount Pictures   \n",
       "freq                       3                     35                  33   \n",
       "\n",
       "       Tomatometer Status Audience Status  \\\n",
       "count                 439             436   \n",
       "unique                  3               2   \n",
       "top       Certified-Fresh         Upright   \n",
       "freq                  263             417   \n",
       "\n",
       "                                     Film ID              name_award  \n",
       "count                                    571                     571  \n",
       "unique                                   571                     564  \n",
       "top     40acf99f-bc62-45ee-a766-0297530113d1  Les Misérables Nominee  \n",
       "freq                                       1                       2  "
      ]
     },
     "execution_count": 85,
     "metadata": {},
     "output_type": "execute_result"
    }
   ],
   "source": [
    "df.describe(include='object')"
   ]
  },
  {
   "cell_type": "markdown",
   "metadata": {},
   "source": [
    "## 3 Брат панды. Numpy"
   ]
  },
  {
   "cell_type": "markdown",
   "metadata": {},
   "source": [
    "# 1. Немного про numpy\n",
    "\n",
    "До этого мы с вами работали с пакетом `pandas`. Он помогал нам обрабатывать таблички. У него есть брат, пакет `numpy`. Он тоже позволяет работать с данными, но в отличие от `pandas`, он смотрит на них, как на матрицы. Также пакет содержит в себе кучу полезного функционала для разной математики. "
   ]
  },
  {
   "cell_type": "code",
   "execution_count": 89,
   "metadata": {},
   "outputs": [],
   "source": [
    "import numpy as np"
   ]
  },
  {
   "cell_type": "markdown",
   "metadata": {},
   "source": [
    "По большей части пакет позволяет работать с массивами. Вся работа аналогична тому, что мы делали с листами. Например, вот так можно создать массив и сделать срез в нём: "
   ]
  },
  {
   "cell_type": "code",
   "execution_count": 91,
   "metadata": {},
   "outputs": [
    {
     "data": {
      "text/plain": [
       "array([ 0,  1, 75])"
      ]
     },
     "execution_count": 91,
     "metadata": {},
     "output_type": "execute_result"
    }
   ],
   "source": [
    "x = np.array([1,-10,3,0,1,75,3])\n",
    "x[3:6]"
   ]
  },
  {
   "cell_type": "markdown",
   "metadata": {},
   "source": [
    "Но есть и разница. Например, если сложить два листа, получтся огромный лист:"
   ]
  },
  {
   "cell_type": "code",
   "execution_count": 92,
   "metadata": {},
   "outputs": [
    {
     "data": {
      "text/plain": [
       "[1, -10, 3, 0, 1, 75, 3, 9, 1, 567, 1, 4557, 1123, 1]"
      ]
     },
     "execution_count": 92,
     "metadata": {},
     "output_type": "execute_result"
    }
   ],
   "source": [
    "x = [1,-10,3,0,1,75,3]\n",
    "y = [9,1,567,1,4557,1123,1]\n",
    "x + y"
   ]
  },
  {
   "cell_type": "markdown",
   "metadata": {},
   "source": [
    "А если сложить два нумпаевских массива, то все числа сложатся поэлементно. "
   ]
  },
  {
   "cell_type": "code",
   "execution_count": 93,
   "metadata": {},
   "outputs": [
    {
     "data": {
      "text/plain": [
       "array([  10,   -9,  570,    1, 4558, 1198,    4])"
      ]
     },
     "execution_count": 93,
     "metadata": {},
     "output_type": "execute_result"
    }
   ],
   "source": [
    "x = np.array([1,-10,3,0,1,75,3])\n",
    "y = np.array([9,1,567,1,4557,1123,1])\n",
    "x + y"
   ]
  },
  {
   "cell_type": "markdown",
   "metadata": {},
   "source": [
    "Если лист умножить на три, он повторится три раза. Если нумпаевский массив умножить на три, все элементы внутри него умножатся на три."
   ]
  },
  {
   "cell_type": "code",
   "execution_count": 94,
   "metadata": {},
   "outputs": [
    {
     "data": {
      "text/plain": [
       "array([3, 6, 9])"
      ]
     },
     "execution_count": 94,
     "metadata": {},
     "output_type": "execute_result"
    }
   ],
   "source": [
    "x = np.array([1, 2, 3])\n",
    "3 * x"
   ]
  },
  {
   "cell_type": "markdown",
   "metadata": {},
   "source": [
    "А ещё в нём можно работать с матрицами, табличками из чисел. "
   ]
  },
  {
   "cell_type": "code",
   "execution_count": 96,
   "metadata": {},
   "outputs": [
    {
     "data": {
      "text/plain": [
       "array([[  8,   0,  -3,  -7,   9, -10,  -7,  -7],\n",
       "       [ -5,   5,   0,   9,  -5,  -8,  -9,   0],\n",
       "       [  9,   7,  -3,  -4,   3,  -1,   0,  -3],\n",
       "       [  1,   3,   3,   9,   4,  -5,   6,   6],\n",
       "       [ -2,   2,   3,   8,   6,  -2,   5,  -2]])"
      ]
     },
     "execution_count": 96,
     "metadata": {},
     "output_type": "execute_result"
    }
   ],
   "source": [
    "X = [[8,   0,  -3,  -7,   9, -10,  -7,  -7],\n",
    "     [-5,   5,   0,   9,  -5,  -8,  -9,   0],\n",
    "     [9,   7,  -3,  -4,   3,  -1,   0,  -3],\n",
    "     [1,   3,   3,   9,   4,  -5,   6,   6],\n",
    "     [-2,   2,   3,   8,   6,  -2,   5,  -2]]\n",
    "\n",
    "X = np.array(X)\n",
    "X"
   ]
  },
  {
   "cell_type": "code",
   "execution_count": 97,
   "metadata": {},
   "outputs": [
    {
     "data": {
      "text/plain": [
       "(5, 8)"
      ]
     },
     "execution_count": 97,
     "metadata": {},
     "output_type": "execute_result"
    }
   ],
   "source": [
    "X.shape  # размерность матрицы"
   ]
  },
  {
   "cell_type": "code",
   "execution_count": 98,
   "metadata": {},
   "outputs": [
    {
     "data": {
      "text/plain": [
       "23"
      ]
     },
     "execution_count": 98,
     "metadata": {},
     "output_type": "execute_result"
    }
   ],
   "source": [
    "X.sum() # сумма всех элементов"
   ]
  },
  {
   "cell_type": "code",
   "execution_count": 99,
   "metadata": {},
   "outputs": [
    {
     "data": {
      "text/plain": [
       "array([-17, -13,   8,  27,  18])"
      ]
     },
     "execution_count": 99,
     "metadata": {},
     "output_type": "execute_result"
    }
   ],
   "source": [
    "X.sum(axis=1)  # сумма по строкам"
   ]
  },
  {
   "cell_type": "code",
   "execution_count": 100,
   "metadata": {},
   "outputs": [
    {
     "data": {
      "text/plain": [
       "array([ 11,  17,   0,  15,  17, -26,  -5,  -6])"
      ]
     },
     "execution_count": 100,
     "metadata": {},
     "output_type": "execute_result"
    }
   ],
   "source": [
    "X.sum(axis=0)  # сумма по столбикам"
   ]
  },
  {
   "cell_type": "markdown",
   "metadata": {},
   "source": [
    "Можно обращаться к срезам"
   ]
  },
  {
   "cell_type": "code",
   "execution_count": 101,
   "metadata": {},
   "outputs": [
    {
     "data": {
      "text/plain": [
       "array([ 9,  7, -3, -4,  3, -1,  0, -3])"
      ]
     },
     "execution_count": 101,
     "metadata": {},
     "output_type": "execute_result"
    }
   ],
   "source": [
    "X[2,:]"
   ]
  },
  {
   "cell_type": "code",
   "execution_count": 102,
   "metadata": {},
   "outputs": [
    {
     "data": {
      "text/plain": [
       "array([-3,  0, -3,  3,  3])"
      ]
     },
     "execution_count": 102,
     "metadata": {},
     "output_type": "execute_result"
    }
   ],
   "source": [
    "X[:,2]"
   ]
  },
  {
   "cell_type": "markdown",
   "metadata": {},
   "source": [
    "# Задачи:\n",
    "    1. Сколько фильмов выиграли Оскар?\n",
    "    2. Какая доля фильмов из датасета выиграла Оскар?\n",
    "    3. Какой средний рейтинг `IMDB Rating` у фильмов, выигравших Оскар? Какой у номинантов?\n",
    "    4. Среди победителей и номинантов найдите фильмы с самыми высокими рейтингами `Tomatometer Rating`.\n",
    "    5. Выведите топ-3 компании `Production Company` с самым большим числом фильмов-победителей.\n",
    "    "
   ]
  },
  {
   "cell_type": "code",
   "execution_count": null,
   "metadata": {},
   "outputs": [],
   "source": []
  }
 ],
 "metadata": {
  "kernelspec": {
   "display_name": "Python 3",
   "language": "python",
   "name": "python3"
  },
  "language_info": {
   "codemirror_mode": {
    "name": "ipython",
    "version": 3
   },
   "file_extension": ".py",
   "mimetype": "text/x-python",
   "name": "python",
   "nbconvert_exporter": "python",
   "pygments_lexer": "ipython3",
   "version": "3.8.3"
  }
 },
 "nbformat": 4,
 "nbformat_minor": 4
}
